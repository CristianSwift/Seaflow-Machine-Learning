{
 "cells": [
  {
   "cell_type": "markdown",
   "id": "9b4d5f89",
   "metadata": {},
   "source": [
    "## In this notebook we will be gathering and adding PAR data to our Covariate dataset\n",
    "\n",
    "To do this we will use the [Seaflow-sfl GitHub](https://github.com/seaflow-uw/seaflow-sfl/tree/master) as it has ship PAR values for most cruises that has the Seaflow machine on board"
   ]
  },
  {
   "cell_type": "code",
   "execution_count": null,
   "id": "15494e34",
   "metadata": {},
   "outputs": [],
   "source": []
  },
  {
   "cell_type": "code",
   "execution_count": null,
   "id": "d1fdadb8",
   "metadata": {},
   "outputs": [],
   "source": [
    "import os\n",
    "import requests\n",
    "import pandas as pd\n",
    "\n",
    "def download_data(dataset):\n",
    "    base_url = 'https://github.com/seaflow-uw/seaflow-sfl/raw/master/curated/'\n",
    "    output_directory = './downloaded_data'\n",
    "\n",
    "    # Create the output directory if it doesn't exist\n",
    "    os.makedirs(output_directory, exist_ok=True)\n",
    "\n",
    "    # Extract unique cruisenames from the dataset\n",
    "    cruisenames = dataset['cruisename'].unique()\n",
    "\n",
    "    for cruisename in cruisenames:\n",
    "        # Generate the corresponding file name based on the cruisename structure\n",
    "        file_name = cruisename + '_751.sfl'\n",
    "\n",
    "        file_url = base_url + file_name\n",
    "\n",
    "        # Download the file\n",
    "        response = requests.get(file_url)\n",
    "        if response.status_code == 200:\n",
    "            # Save the downloaded file\n",
    "            output_path = os.path.join(output_directory, file_name)\n",
    "            with open(output_path, 'wb') as f:\n",
    "                f.write(response.content)\n",
    "                print(f\"Downloaded {file_name}\")\n",
    "        else:\n",
    "            print(f\"Failed to download {file_name}\")\n"
   ]
  }
 ],
 "metadata": {
  "kernelspec": {
   "display_name": "Python 3 (ipykernel)",
   "language": "python",
   "name": "python3"
  },
  "language_info": {
   "codemirror_mode": {
    "name": "ipython",
    "version": 3
   },
   "file_extension": ".py",
   "mimetype": "text/x-python",
   "name": "python",
   "nbconvert_exporter": "python",
   "pygments_lexer": "ipython3",
   "version": "3.11.2"
  }
 },
 "nbformat": 4,
 "nbformat_minor": 5
}
