{
 "cells": [
  {
   "cell_type": "markdown",
   "metadata": {},
   "source": [
    "# Loading Functions"
   ]
  },
  {
   "cell_type": "code",
   "execution_count": 1,
   "metadata": {
    "scrolled": true
   },
   "outputs": [],
   "source": [
    "# !pip3 install pandas==2.0.0\n",
    "# !pip3 install seaborn\n",
    "# !pip3 install numpy==1.20.3"
   ]
  },
  {
   "cell_type": "code",
   "execution_count": 2,
   "metadata": {},
   "outputs": [],
   "source": [
    "import pandas as pd\n",
    "import numpy as np\n",
    "import seaborn as sns\n",
    "import matplotlib.pyplot as plt\n",
    "import matplotlib.ticker as mticker\n",
    "import matplotlib.dates as mdates\n",
    "import matplotlib.cbook as cbook"
   ]
  },
  {
   "cell_type": "markdown",
   "metadata": {},
   "source": [
    "## Creating Real Time data set that includes CMAP and Underway data"
   ]
  },
  {
   "cell_type": "markdown",
   "metadata": {},
   "source": [
    "### Loading in realtime data that has colocalized CMAP features"
   ]
  },
  {
   "cell_type": "code",
   "execution_count": 3,
   "metadata": {},
   "outputs": [],
   "source": [
    "# Set a working directory\n",
    "import os\n",
    "\n",
    "directory_path = '/Users/cristianswift/Desktop/armbrust-lab/Seaflow-Machine-Learning/'\n",
    "os.chdir(directory_path)\n"
   ]
  },
  {
   "cell_type": "code",
   "execution_count": 22,
   "metadata": {
    "scrolled": true
   },
   "outputs": [
    {
     "data": {
      "text/html": [
       "<div>\n",
       "<style scoped>\n",
       "    .dataframe tbody tr th:only-of-type {\n",
       "        vertical-align: middle;\n",
       "    }\n",
       "\n",
       "    .dataframe tbody tr th {\n",
       "        vertical-align: top;\n",
       "    }\n",
       "\n",
       "    .dataframe thead th {\n",
       "        text-align: right;\n",
       "    }\n",
       "</style>\n",
       "<table border=\"1\" class=\"dataframe\">\n",
       "  <thead>\n",
       "    <tr style=\"text-align: right;\">\n",
       "      <th></th>\n",
       "      <th>population</th>\n",
       "      <th>time</th>\n",
       "      <th>lat</th>\n",
       "      <th>lon</th>\n",
       "      <th>abundance_cells_per_microliter</th>\n",
       "      <th>diameter_micrometer</th>\n",
       "      <th>depth</th>\n",
       "      <th>CMAP_NO3_tblPisces_Forecast_cl1</th>\n",
       "      <th>CMAP_PO4_tblPisces_Forecast_cl1</th>\n",
       "      <th>CMAP_Fe_tblPisces_Forecast_cl1</th>\n",
       "      <th>CMAP_Si_tblPisces_Forecast_cl1</th>\n",
       "      <th>CMAP_chl_tblPisces_Forecast_cl1</th>\n",
       "    </tr>\n",
       "  </thead>\n",
       "  <tbody>\n",
       "    <tr>\n",
       "      <th>0</th>\n",
       "      <td>picoeuk</td>\n",
       "      <td>2023-02-25T05:40:00</td>\n",
       "      <td>21.3067</td>\n",
       "      <td>-157.0366</td>\n",
       "      <td>14.303231</td>\n",
       "      <td>1.557860</td>\n",
       "      <td>0.0</td>\n",
       "      <td>0.000562</td>\n",
       "      <td>0.212505</td>\n",
       "      <td>0.000433</td>\n",
       "      <td>2.092356</td>\n",
       "      <td>0.072018</td>\n",
       "    </tr>\n",
       "    <tr>\n",
       "      <th>1</th>\n",
       "      <td>picoeuk</td>\n",
       "      <td>2023-02-25T05:50:00</td>\n",
       "      <td>21.3142</td>\n",
       "      <td>-157.0321</td>\n",
       "      <td>20.716981</td>\n",
       "      <td>1.576000</td>\n",
       "      <td>0.0</td>\n",
       "      <td>0.000562</td>\n",
       "      <td>0.212505</td>\n",
       "      <td>0.000433</td>\n",
       "      <td>2.092356</td>\n",
       "      <td>0.072018</td>\n",
       "    </tr>\n",
       "    <tr>\n",
       "      <th>2</th>\n",
       "      <td>picoeuk</td>\n",
       "      <td>2023-02-25T06:00:00</td>\n",
       "      <td>21.3123</td>\n",
       "      <td>-157.0168</td>\n",
       "      <td>22.590023</td>\n",
       "      <td>1.606258</td>\n",
       "      <td>0.0</td>\n",
       "      <td>0.000562</td>\n",
       "      <td>0.212505</td>\n",
       "      <td>0.000433</td>\n",
       "      <td>2.092356</td>\n",
       "      <td>0.072018</td>\n",
       "    </tr>\n",
       "  </tbody>\n",
       "</table>\n",
       "</div>"
      ],
      "text/plain": [
       "  population                 time      lat       lon  \\\n",
       "0    picoeuk  2023-02-25T05:40:00  21.3067 -157.0366   \n",
       "1    picoeuk  2023-02-25T05:50:00  21.3142 -157.0321   \n",
       "2    picoeuk  2023-02-25T06:00:00  21.3123 -157.0168   \n",
       "\n",
       "   abundance_cells_per_microliter  diameter_micrometer  depth  \\\n",
       "0                       14.303231             1.557860    0.0   \n",
       "1                       20.716981             1.576000    0.0   \n",
       "2                       22.590023             1.606258    0.0   \n",
       "\n",
       "   CMAP_NO3_tblPisces_Forecast_cl1  CMAP_PO4_tblPisces_Forecast_cl1  \\\n",
       "0                         0.000562                         0.212505   \n",
       "1                         0.000562                         0.212505   \n",
       "2                         0.000562                         0.212505   \n",
       "\n",
       "   CMAP_Fe_tblPisces_Forecast_cl1  CMAP_Si_tblPisces_Forecast_cl1  \\\n",
       "0                        0.000433                        2.092356   \n",
       "1                        0.000433                        2.092356   \n",
       "2                        0.000433                        2.092356   \n",
       "\n",
       "   CMAP_chl_tblPisces_Forecast_cl1  \n",
       "0                         0.072018  \n",
       "1                         0.072018  \n",
       "2                         0.072018  "
      ]
     },
     "execution_count": 22,
     "metadata": {},
     "output_type": "execute_result"
    }
   ],
   "source": [
    "realtime_cmap_path = 'data/modified/Seaflow_TN413_CMAP.csv'\n",
    "#using pandas to read in as a df\n",
    "realtime_cmap = (pd.read_csv(realtime_cmap_path,parse_dates=[0]))\n",
    "#taking a peak at the data\n",
    "realtime_cmap.head(3)\n"
   ]
  },
  {
   "cell_type": "markdown",
   "metadata": {},
   "source": [
    "### Loading in cruise underway CTD data"
   ]
  },
  {
   "cell_type": "code",
   "execution_count": 23,
   "metadata": {},
   "outputs": [
    {
     "data": {
      "text/html": [
       "<div>\n",
       "<style scoped>\n",
       "    .dataframe tbody tr th:only-of-type {\n",
       "        vertical-align: middle;\n",
       "    }\n",
       "\n",
       "    .dataframe tbody tr th {\n",
       "        vertical-align: top;\n",
       "    }\n",
       "\n",
       "    .dataframe thead th {\n",
       "        text-align: right;\n",
       "    }\n",
       "</style>\n",
       "<table border=\"1\" class=\"dataframe\">\n",
       "  <thead>\n",
       "    <tr style=\"text-align: right;\">\n",
       "      <th></th>\n",
       "      <th>time</th>\n",
       "      <th>lat</th>\n",
       "      <th>lon</th>\n",
       "      <th>temp</th>\n",
       "      <th>salinity</th>\n",
       "    </tr>\n",
       "  </thead>\n",
       "  <tbody>\n",
       "    <tr>\n",
       "      <th>339</th>\n",
       "      <td>2023-02-25 04:20:02</td>\n",
       "      <td>21.2259</td>\n",
       "      <td>-157.0856</td>\n",
       "      <td>26.5682</td>\n",
       "      <td>34.8463</td>\n",
       "    </tr>\n",
       "    <tr>\n",
       "      <th>340</th>\n",
       "      <td>2023-02-25 04:21:02</td>\n",
       "      <td>21.2251</td>\n",
       "      <td>-157.0827</td>\n",
       "      <td>25.0258</td>\n",
       "      <td>35.0090</td>\n",
       "    </tr>\n",
       "    <tr>\n",
       "      <th>341</th>\n",
       "      <td>2023-02-25 04:22:02</td>\n",
       "      <td>21.2243</td>\n",
       "      <td>-157.0801</td>\n",
       "      <td>24.5832</td>\n",
       "      <td>34.9939</td>\n",
       "    </tr>\n",
       "    <tr>\n",
       "      <th>342</th>\n",
       "      <td>2023-02-25 04:23:02</td>\n",
       "      <td>21.2236</td>\n",
       "      <td>-157.0774</td>\n",
       "      <td>24.3960</td>\n",
       "      <td>34.9996</td>\n",
       "    </tr>\n",
       "    <tr>\n",
       "      <th>343</th>\n",
       "      <td>2023-02-25 04:24:02</td>\n",
       "      <td>21.2230</td>\n",
       "      <td>-157.0746</td>\n",
       "      <td>24.3011</td>\n",
       "      <td>35.0086</td>\n",
       "    </tr>\n",
       "    <tr>\n",
       "      <th>...</th>\n",
       "      <td>...</td>\n",
       "      <td>...</td>\n",
       "      <td>...</td>\n",
       "      <td>...</td>\n",
       "      <td>...</td>\n",
       "    </tr>\n",
       "    <tr>\n",
       "      <th>21925</th>\n",
       "      <td>2023-03-14 02:55:32</td>\n",
       "      <td>-19.0392</td>\n",
       "      <td>178.8369</td>\n",
       "      <td>29.0697</td>\n",
       "      <td>34.7659</td>\n",
       "    </tr>\n",
       "    <tr>\n",
       "      <th>21926</th>\n",
       "      <td>2023-03-14 02:56:32</td>\n",
       "      <td>-19.0428</td>\n",
       "      <td>178.8369</td>\n",
       "      <td>29.0781</td>\n",
       "      <td>34.7757</td>\n",
       "    </tr>\n",
       "    <tr>\n",
       "      <th>21927</th>\n",
       "      <td>2023-03-14 02:57:32</td>\n",
       "      <td>-19.0464</td>\n",
       "      <td>178.8368</td>\n",
       "      <td>29.0831</td>\n",
       "      <td>34.7773</td>\n",
       "    </tr>\n",
       "    <tr>\n",
       "      <th>21928</th>\n",
       "      <td>2023-03-14 02:58:32</td>\n",
       "      <td>-19.0500</td>\n",
       "      <td>178.8368</td>\n",
       "      <td>29.0807</td>\n",
       "      <td>34.7699</td>\n",
       "    </tr>\n",
       "    <tr>\n",
       "      <th>21929</th>\n",
       "      <td>2023-03-14 02:59:32</td>\n",
       "      <td>-19.0535</td>\n",
       "      <td>178.8368</td>\n",
       "      <td>29.0752</td>\n",
       "      <td>34.7838</td>\n",
       "    </tr>\n",
       "  </tbody>\n",
       "</table>\n",
       "<p>21438 rows × 5 columns</p>\n",
       "</div>"
      ],
      "text/plain": [
       "                     time      lat       lon     temp  salinity\n",
       "339   2023-02-25 04:20:02  21.2259 -157.0856  26.5682   34.8463\n",
       "340   2023-02-25 04:21:02  21.2251 -157.0827  25.0258   35.0090\n",
       "341   2023-02-25 04:22:02  21.2243 -157.0801  24.5832   34.9939\n",
       "342   2023-02-25 04:23:02  21.2236 -157.0774  24.3960   34.9996\n",
       "343   2023-02-25 04:24:02  21.2230 -157.0746  24.3011   35.0086\n",
       "...                   ...      ...       ...      ...       ...\n",
       "21925 2023-03-14 02:55:32 -19.0392  178.8369  29.0697   34.7659\n",
       "21926 2023-03-14 02:56:32 -19.0428  178.8369  29.0781   34.7757\n",
       "21927 2023-03-14 02:57:32 -19.0464  178.8368  29.0831   34.7773\n",
       "21928 2023-03-14 02:58:32 -19.0500  178.8368  29.0807   34.7699\n",
       "21929 2023-03-14 02:59:32 -19.0535  178.8368  29.0752   34.7838\n",
       "\n",
       "[21438 rows x 5 columns]"
      ]
     },
     "execution_count": 23,
     "metadata": {},
     "output_type": "execute_result"
    }
   ],
   "source": [
    "underway_path = 'data/original/TN413-underway.tab'\n",
    "#reading in underway data and dropping unnessasary columns (conductivity, par)\n",
    "underway = (pd.read_csv(underway_path, delimiter='\t',skiprows=6)\n",
    "            .drop(columns=['conductivity', 'par'], axis=1)\n",
    "           )\n",
    "#fixing time column\n",
    "underway['time'] = underway['time'].str[:-1]\n",
    "#dropping rows that dont have no temp or salinity \n",
    "underway = underway.dropna()\n",
    "#making the time column a datetime64[ns]\n",
    "underway['time'] = pd.to_datetime(underway['time'])\n",
    "underway"
   ]
  },
  {
   "cell_type": "code",
   "execution_count": 24,
   "metadata": {},
   "outputs": [
    {
     "data": {
      "text/plain": [
       "(21438, 5)"
      ]
     },
     "execution_count": 24,
     "metadata": {},
     "output_type": "execute_result"
    }
   ],
   "source": [
    "underway.shape"
   ]
  },
  {
   "cell_type": "code",
   "execution_count": 25,
   "metadata": {},
   "outputs": [
    {
     "data": {
      "text/html": [
       "<div>\n",
       "<style scoped>\n",
       "    .dataframe tbody tr th:only-of-type {\n",
       "        vertical-align: middle;\n",
       "    }\n",
       "\n",
       "    .dataframe tbody tr th {\n",
       "        vertical-align: top;\n",
       "    }\n",
       "\n",
       "    .dataframe thead th {\n",
       "        text-align: right;\n",
       "    }\n",
       "</style>\n",
       "<table border=\"1\" class=\"dataframe\">\n",
       "  <thead>\n",
       "    <tr style=\"text-align: right;\">\n",
       "      <th></th>\n",
       "      <th>time</th>\n",
       "      <th>lat</th>\n",
       "      <th>lon</th>\n",
       "      <th>temp</th>\n",
       "      <th>salinity</th>\n",
       "    </tr>\n",
       "  </thead>\n",
       "  <tbody>\n",
       "    <tr>\n",
       "      <th>339</th>\n",
       "      <td>2023-02-25 04:20:02</td>\n",
       "      <td>21.2259</td>\n",
       "      <td>-157.0856</td>\n",
       "      <td>26.5682</td>\n",
       "      <td>34.8463</td>\n",
       "    </tr>\n",
       "    <tr>\n",
       "      <th>340</th>\n",
       "      <td>2023-02-25 04:21:02</td>\n",
       "      <td>21.2251</td>\n",
       "      <td>-157.0827</td>\n",
       "      <td>25.0258</td>\n",
       "      <td>35.0090</td>\n",
       "    </tr>\n",
       "    <tr>\n",
       "      <th>341</th>\n",
       "      <td>2023-02-25 04:22:02</td>\n",
       "      <td>21.2243</td>\n",
       "      <td>-157.0801</td>\n",
       "      <td>24.5832</td>\n",
       "      <td>34.9939</td>\n",
       "    </tr>\n",
       "    <tr>\n",
       "      <th>342</th>\n",
       "      <td>2023-02-25 04:23:02</td>\n",
       "      <td>21.2236</td>\n",
       "      <td>-157.0774</td>\n",
       "      <td>24.3960</td>\n",
       "      <td>34.9996</td>\n",
       "    </tr>\n",
       "  </tbody>\n",
       "</table>\n",
       "</div>"
      ],
      "text/plain": [
       "                   time      lat       lon     temp  salinity\n",
       "339 2023-02-25 04:20:02  21.2259 -157.0856  26.5682   34.8463\n",
       "340 2023-02-25 04:21:02  21.2251 -157.0827  25.0258   35.0090\n",
       "341 2023-02-25 04:22:02  21.2243 -157.0801  24.5832   34.9939\n",
       "342 2023-02-25 04:23:02  21.2236 -157.0774  24.3960   34.9996"
      ]
     },
     "execution_count": 25,
     "metadata": {},
     "output_type": "execute_result"
    }
   ],
   "source": [
    "underway.head(4)"
   ]
  },
  {
   "cell_type": "markdown",
   "metadata": {},
   "source": [
    "## Joining realtime_cmap and underway data into one dataframe"
   ]
  },
  {
   "cell_type": "markdown",
   "metadata": {},
   "source": [
    "### First we need to average underway data frame to an 10 min resolution"
   ]
  },
  {
   "cell_type": "code",
   "execution_count": 26,
   "metadata": {},
   "outputs": [
    {
     "data": {
      "text/plain": [
       "(2440, 4)"
      ]
     },
     "execution_count": 26,
     "metadata": {},
     "output_type": "execute_result"
    }
   ],
   "source": [
    "underway['time'] = pd.to_datetime(underway['time'])\n",
    "#this drops the phytoplankton population categorical column, need to recalulate\n",
    "underway_avg = underway.resample('10min', on='time').mean(numeric_only=True)\n",
    "underway_avg.shape"
   ]
  },
  {
   "cell_type": "markdown",
   "metadata": {},
   "source": [
    "### Now we can merge the underway CTD and Seaflow/CMAP data into one dataframe called TN413, after the cruise from which the observational data comes from."
   ]
  },
  {
   "cell_type": "code",
   "execution_count": 27,
   "metadata": {},
   "outputs": [],
   "source": [
    "realtime_cmap['time'] = pd.to_datetime(realtime_cmap['time'])\n",
    "tn413 = realtime_cmap.merge(underway_avg.drop(['lat','lon'], axis=1), left_on=['time'], right_on=['time'])"
   ]
  },
  {
   "cell_type": "code",
   "execution_count": 28,
   "metadata": {},
   "outputs": [
    {
     "data": {
      "text/plain": [
       "population                            0\n",
       "time                                  0\n",
       "lat                                1398\n",
       "lon                                1398\n",
       "abundance_cells_per_microliter     1398\n",
       "diameter_micrometer                1398\n",
       "depth                              1398\n",
       "CMAP_NO3_tblPisces_Forecast_cl1    2256\n",
       "CMAP_PO4_tblPisces_Forecast_cl1    2256\n",
       "CMAP_Fe_tblPisces_Forecast_cl1     2256\n",
       "CMAP_Si_tblPisces_Forecast_cl1     2256\n",
       "CMAP_chl_tblPisces_Forecast_cl1    2256\n",
       "temp                                  0\n",
       "salinity                              0\n",
       "dtype: int64"
      ]
     },
     "execution_count": 28,
     "metadata": {},
     "output_type": "execute_result"
    }
   ],
   "source": [
    "tn413.isna().sum()"
   ]
  },
  {
   "cell_type": "markdown",
   "metadata": {},
   "source": [
    "### Renaming Columns of both tn413 and covari dataframes so they're simpleier and the same."
   ]
  },
  {
   "cell_type": "code",
   "execution_count": 29,
   "metadata": {},
   "outputs": [
    {
     "data": {
      "text/plain": [
       "population                        0\n",
       "time                              0\n",
       "lat                               0\n",
       "lon                               0\n",
       "abundance_cells_per_microliter    0\n",
       "diameter_micrometer               0\n",
       "depth                             0\n",
       "NO3NO2                            0\n",
       "PO4                               0\n",
       "Fe                                0\n",
       "SiO4                              0\n",
       "Satellite_CHL                     0\n",
       "temp                              0\n",
       "salin                             0\n",
       "dtype: int64"
      ]
     },
     "execution_count": 29,
     "metadata": {},
     "output_type": "execute_result"
    }
   ],
   "source": [
    "#rename columns for the model\n",
    "\n",
    "tn413 = (tn413\n",
    "         .dropna()\n",
    "         .rename({'CMAP_NO3_tblPisces_Forecast_cl1': 'NO3NO2', 'CMAP_PO4_tblPisces_Forecast_cl1': 'PO4',\n",
    "             'CMAP_Fe_tblPisces_Forecast_cl1':'Fe', 'CMAP_Si_tblPisces_Forecast_cl1': 'SiO4',\n",
    "                  'CMAP_chl_tblPisces_Forecast_cl1': 'Satellite_CHL',\n",
    "                  'salinity':'salin'\n",
    "             \n",
    "         },axis=1)\n",
    "\n",
    "\n",
    "        )\n",
    "tn413.isna().sum()"
   ]
  },
  {
   "cell_type": "code",
   "execution_count": 30,
   "metadata": {},
   "outputs": [],
   "source": [
    "#saving as a CSV file\n",
    "tn413.to_csv('data/modified/Seaflow_TN413_CMAP_ingested.csv', index=False)\n"
   ]
  },
  {
   "cell_type": "code",
   "execution_count": null,
   "metadata": {},
   "outputs": [],
   "source": []
  }
 ],
 "metadata": {
  "kernelspec": {
   "display_name": "Python 3 (ipykernel)",
   "language": "python",
   "name": "python3"
  },
  "language_info": {
   "codemirror_mode": {
    "name": "ipython",
    "version": 3
   },
   "file_extension": ".py",
   "mimetype": "text/x-python",
   "name": "python",
   "nbconvert_exporter": "python",
   "pygments_lexer": "ipython3",
   "version": "3.11.2"
  }
 },
 "nbformat": 4,
 "nbformat_minor": 4
}
