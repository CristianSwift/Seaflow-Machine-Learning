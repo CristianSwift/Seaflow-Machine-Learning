{
 "cells": [
  {
   "cell_type": "markdown",
   "metadata": {},
   "source": [
    "## This notebook we will be cleaning the data of any NaN values, and getting it ready for the next step towards machine learning applications."
   ]
  },
  {
   "cell_type": "markdown",
   "metadata": {},
   "source": [
    "### Loading in covariate dataset that has CMAP features"
   ]
  },
  {
   "cell_type": "code",
   "execution_count": 1,
   "metadata": {},
   "outputs": [],
   "source": [
    "# Set a working directory\n",
    "import os\n",
    "\n",
    "directory_path = '/Users/cristianswift/Desktop/armbrust-lab/Seaflow-Machine-Learning/'\n",
    "os.chdir(directory_path)\n"
   ]
  },
  {
   "cell_type": "code",
   "execution_count": 2,
   "metadata": {
    "scrolled": false
   },
   "outputs": [],
   "source": [
    "import pandas as pd\n",
    "\n",
    "covari_path = 'data/modified/Seaflow_covari_CMAP_PAR.csv'\n",
    "#using pandas to read in as a df\n",
    "covari = (pd.read_csv(covari_path,parse_dates=[0]))\n",
    "#taking a peak at the data\n",
    "covari.head(5)\n"
   ]
  },
  {
   "cell_type": "markdown",
   "metadata": {},
   "source": [
    "### Need to adjust columns that contain numbers to floats"
   ]
  },
  {
   "cell_type": "code",
   "execution_count": 3,
   "metadata": {
    "scrolled": true
   },
   "outputs": [],
   "source": [
    "def ChangeObjectTypes(df):\n",
    "    \"\"\"\n",
    "    This function takes the columns of our dataframe and changes the data type of each varaibles to \n",
    "    be the appropriate type.\n",
    "    Time turns into a pandas datatime format\n",
    "    PopulationName and cruisename turn into strings\n",
    "    all other columns which are continous measurments are made to be numeric type\n",
    "    \"\"\"\n",
    "    for column in df:\n",
    "        if column == 'time':\n",
    "            #changing to datetime\n",
    "            df[column] = pd.to_datetime(df[column], errors='coerce')\n",
    "            \n",
    "        elif column == 'PopulationName' or column == 'cruisename':\n",
    "            #changing to string\n",
    "            df[column] = df[column].astype(str)\n",
    "            \n",
    "        else:\n",
    "            #changing to numeric type\n",
    "            df[column] = pd.to_numeric(df[column], errors='coerce')\n",
    "    return df\n",
    "covari = ChangeObjectTypes(covari)"
   ]
  },
  {
   "cell_type": "markdown",
   "metadata": {},
   "source": [
    "### Now all of the objects are in the right format"
   ]
  },
  {
   "cell_type": "code",
   "execution_count": 4,
   "metadata": {},
   "outputs": [],
   "source": [
    "print(pd.DataFrame(covari))\n",
    "print('\\n')\n",
    "print(covari.dtypes)\n",
    "print('\\n')"
   ]
  },
  {
   "cell_type": "markdown",
   "metadata": {},
   "source": [
    "### Changing names of columns to be easier to read"
   ]
  },
  {
   "cell_type": "code",
   "execution_count": 5,
   "metadata": {},
   "outputs": [],
   "source": [
    "# Define a regular expression pattern to extract the desired substring\n",
    "pattern = r'_(.*?)_'\n",
    "\n",
    "# Get the column names starting from the 9th column\n",
    "columns_to_rename = covari.columns[8:-1]\n",
    "\n",
    "# Generate new column names using str.extract() and assign them to the selected columns\n",
    "covari.rename(columns=dict(zip(columns_to_rename, columns_to_rename.str.extract(pattern).squeeze())), inplace=True)\n",
    "\n",
    "covari.rename({\"PopulationName\":\"population\", \"Biomass_pgC_per_L\": \"biomass\"}, axis='columns', inplace=True)\n",
    "# Print the updated column names\n",
    "print(covari.columns)\n"
   ]
  },
  {
   "cell_type": "markdown",
   "metadata": {},
   "source": [
    "## Saving clean dataset"
   ]
  },
  {
   "cell_type": "code",
   "execution_count": 6,
   "metadata": {},
   "outputs": [],
   "source": [
    "covari.to_csv('data/modified/data_clean_covari.csv', index=False)"
   ]
  }
 ],
 "metadata": {
  "kernelspec": {
   "display_name": "Python 3 (ipykernel)",
   "language": "python",
   "name": "python3"
  },
  "language_info": {
   "codemirror_mode": {
    "name": "ipython",
    "version": 3
   },
   "file_extension": ".py",
   "mimetype": "text/x-python",
   "name": "python",
   "nbconvert_exporter": "python",
   "pygments_lexer": "ipython3",
   "version": "3.11.2"
  }
 },
 "nbformat": 4,
 "nbformat_minor": 4
}
