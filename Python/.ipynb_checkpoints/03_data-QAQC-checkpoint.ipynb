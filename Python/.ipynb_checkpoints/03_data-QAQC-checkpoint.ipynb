{
 "cells": [
  {
   "cell_type": "code",
   "execution_count": null,
   "metadata": {},
   "outputs": [],
   "source": [
    "# !pip install --upgrade --force-reinstall shapely\n"
   ]
  },
  {
   "cell_type": "markdown",
   "metadata": {},
   "source": [
    "# In this notebook we will be doing a quality check and quality assurance"
   ]
  },
  {
   "cell_type": "code",
   "execution_count": 1,
   "metadata": {},
   "outputs": [],
   "source": [
    "# Set a working directory\n",
    "import os\n",
    "\n",
    "directory_path = '/Users/cristianswift/Desktop/armbrust-lab/Seaflow-Machine-Learning/'\n",
    "os.chdir(directory_path)\n"
   ]
  },
  {
   "cell_type": "code",
   "execution_count": 2,
   "metadata": {
    "scrolled": true
   },
   "outputs": [
    {
     "data": {
      "text/html": [
       "<div>\n",
       "<style scoped>\n",
       "    .dataframe tbody tr th:only-of-type {\n",
       "        vertical-align: middle;\n",
       "    }\n",
       "\n",
       "    .dataframe tbody tr th {\n",
       "        vertical-align: top;\n",
       "    }\n",
       "\n",
       "    .dataframe thead th {\n",
       "        text-align: right;\n",
       "    }\n",
       "</style>\n",
       "<table border=\"1\" class=\"dataframe\">\n",
       "  <thead>\n",
       "    <tr style=\"text-align: right;\">\n",
       "      <th></th>\n",
       "      <th>time</th>\n",
       "      <th>population</th>\n",
       "      <th>lat</th>\n",
       "      <th>lon</th>\n",
       "      <th>biomass</th>\n",
       "      <th>salin</th>\n",
       "      <th>temp</th>\n",
       "      <th>cruisename</th>\n",
       "      <th>SiO2</th>\n",
       "      <th>POSi</th>\n",
       "      <th>...</th>\n",
       "      <th>NO2</th>\n",
       "      <th>NH4</th>\n",
       "      <th>FeT</th>\n",
       "      <th>DOP</th>\n",
       "      <th>DON</th>\n",
       "      <th>DOFe</th>\n",
       "      <th>DOC</th>\n",
       "      <th>DIC</th>\n",
       "      <th>CDOM</th>\n",
       "      <th>ALK</th>\n",
       "    </tr>\n",
       "  </thead>\n",
       "  <tbody>\n",
       "    <tr>\n",
       "      <th>0</th>\n",
       "      <td>2016-04-20 07:00:00</td>\n",
       "      <td>Prochlorococcus</td>\n",
       "      <td>21.520326</td>\n",
       "      <td>-158.326984</td>\n",
       "      <td>10.520443</td>\n",
       "      <td>34.893785</td>\n",
       "      <td>24.351745</td>\n",
       "      <td>KOK1606</td>\n",
       "      <td>-0.022845</td>\n",
       "      <td>-0.000127</td>\n",
       "      <td>...</td>\n",
       "      <td>0.295276</td>\n",
       "      <td>1.282981</td>\n",
       "      <td>0.000015</td>\n",
       "      <td>0.013734</td>\n",
       "      <td>0.248717</td>\n",
       "      <td>0.000017</td>\n",
       "      <td>1.648093</td>\n",
       "      <td>1697.874775</td>\n",
       "      <td>0.000034</td>\n",
       "      <td>1954.87665</td>\n",
       "    </tr>\n",
       "    <tr>\n",
       "      <th>1</th>\n",
       "      <td>2016-04-20 07:00:00</td>\n",
       "      <td>Synechococcus</td>\n",
       "      <td>21.520326</td>\n",
       "      <td>-158.326984</td>\n",
       "      <td>0.341429</td>\n",
       "      <td>34.893785</td>\n",
       "      <td>24.351745</td>\n",
       "      <td>KOK1606</td>\n",
       "      <td>-0.022845</td>\n",
       "      <td>-0.000127</td>\n",
       "      <td>...</td>\n",
       "      <td>0.295276</td>\n",
       "      <td>1.282981</td>\n",
       "      <td>0.000015</td>\n",
       "      <td>0.013734</td>\n",
       "      <td>0.248717</td>\n",
       "      <td>0.000017</td>\n",
       "      <td>1.648093</td>\n",
       "      <td>1697.874775</td>\n",
       "      <td>0.000034</td>\n",
       "      <td>1954.87665</td>\n",
       "    </tr>\n",
       "    <tr>\n",
       "      <th>2</th>\n",
       "      <td>2016-04-20 07:00:00</td>\n",
       "      <td>nanoeukaryotes (2-5µm)</td>\n",
       "      <td>21.520326</td>\n",
       "      <td>-158.326984</td>\n",
       "      <td>3.338212</td>\n",
       "      <td>34.893785</td>\n",
       "      <td>24.351745</td>\n",
       "      <td>KOK1606</td>\n",
       "      <td>-0.022845</td>\n",
       "      <td>-0.000127</td>\n",
       "      <td>...</td>\n",
       "      <td>0.295276</td>\n",
       "      <td>1.282981</td>\n",
       "      <td>0.000015</td>\n",
       "      <td>0.013734</td>\n",
       "      <td>0.248717</td>\n",
       "      <td>0.000017</td>\n",
       "      <td>1.648093</td>\n",
       "      <td>1697.874775</td>\n",
       "      <td>0.000034</td>\n",
       "      <td>1954.87665</td>\n",
       "    </tr>\n",
       "  </tbody>\n",
       "</table>\n",
       "<p>3 rows × 27 columns</p>\n",
       "</div>"
      ],
      "text/plain": [
       "                 time              population        lat         lon  \\\n",
       "0 2016-04-20 07:00:00         Prochlorococcus  21.520326 -158.326984   \n",
       "1 2016-04-20 07:00:00           Synechococcus  21.520326 -158.326984   \n",
       "2 2016-04-20 07:00:00  nanoeukaryotes (2-5µm)  21.520326 -158.326984   \n",
       "\n",
       "     biomass      salin       temp cruisename      SiO2      POSi  ...  \\\n",
       "0  10.520443  34.893785  24.351745    KOK1606 -0.022845 -0.000127  ...   \n",
       "1   0.341429  34.893785  24.351745    KOK1606 -0.022845 -0.000127  ...   \n",
       "2   3.338212  34.893785  24.351745    KOK1606 -0.022845 -0.000127  ...   \n",
       "\n",
       "        NO2       NH4       FeT       DOP       DON      DOFe       DOC  \\\n",
       "0  0.295276  1.282981  0.000015  0.013734  0.248717  0.000017  1.648093   \n",
       "1  0.295276  1.282981  0.000015  0.013734  0.248717  0.000017  1.648093   \n",
       "2  0.295276  1.282981  0.000015  0.013734  0.248717  0.000017  1.648093   \n",
       "\n",
       "           DIC      CDOM         ALK  \n",
       "0  1697.874775  0.000034  1954.87665  \n",
       "1  1697.874775  0.000034  1954.87665  \n",
       "2  1697.874775  0.000034  1954.87665  \n",
       "\n",
       "[3 rows x 27 columns]"
      ]
     },
     "execution_count": 2,
     "metadata": {},
     "output_type": "execute_result"
    }
   ],
   "source": [
    "import pandas as pd\n",
    "\n",
    "covari_path = 'data/modified/data_clean_covari.csv'\n",
    "#using pandas to read in as a df\n",
    "covari = (pd.read_csv(covari_path,parse_dates=[0]))\n",
    "#taking a peak at the data\n",
    "covari.head(3)\n"
   ]
  },
  {
   "cell_type": "markdown",
   "metadata": {},
   "source": [
    "## looking for relationshiops between all variables"
   ]
  },
  {
   "cell_type": "code",
   "execution_count": 3,
   "metadata": {},
   "outputs": [],
   "source": [
    "import seaborn\n",
    "import matplotlib.pyplot as plt"
   ]
  },
  {
   "cell_type": "code",
   "execution_count": 4,
   "metadata": {
    "scrolled": false
   },
   "outputs": [
    {
     "name": "stderr",
     "output_type": "stream",
     "text": [
      "/var/folders/w6/gkpzzsjx0n101092kzm2dnh00000gn/T/ipykernel_5331/4226083609.py:4: FutureWarning: The default value of numeric_only in DataFrame.corr is deprecated. In a future version, it will default to False. Select only valid columns or specify the value of numeric_only to silence this warning.\n",
      "  seaborn.heatmap(covari_floats.corr().abs(),\n"
     ]
    },
    {
     "data": {
      "image/png": "[encoded data removed]",
      "text/plain": [
       "<Figure size 640x480 with 2 Axes>"
      ]
     },
     "metadata": {},
     "output_type": "display_data"
    }
   ],
   "source": [
    "covari_floats = covari[covari.columns.difference(['time', 'cruisename', 'PopulationName', 'SizeClass'])]\n",
    "\n",
    "\n",
    "seaborn.heatmap(covari_floats.corr().abs(),\n",
    "                xticklabels=covari_floats.columns,\n",
    "                yticklabels=covari_floats.columns)\n",
    "plt.xticks(rotation=45, ha='right') #roating the xticks to make it easier to read\n",
    "plt.show()\n",
    "#plt.sup_title('Correlation of Features')"
   ]
  },
  {
   "cell_type": "markdown",
   "metadata": {},
   "source": [
    "## What variables are most related? "
   ]
  },
  {
   "cell_type": "code",
   "execution_count": 5,
   "metadata": {},
   "outputs": [
    {
     "name": "stdout",
     "output_type": "stream",
     "text": [
      "CDOM   FeT      0.804150\n",
      "FeT    CDOM     0.804150\n",
      "DOC    salin    0.824317\n",
      "salin  DOC      0.824317\n",
      "       DOP      0.824317\n",
      "                  ...   \n",
      "O2     DIC      0.914734\n",
      "       temp     0.975989\n",
      "temp   O2       0.975989\n",
      "ALK    DIC      0.979711\n",
      "DIC    ALK      0.979711\n",
      "Length: 66, dtype: float64\n"
     ]
    },
    {
     "name": "stderr",
     "output_type": "stream",
     "text": [
      "/var/folders/w6/gkpzzsjx0n101092kzm2dnh00000gn/T/ipykernel_5331/3919752502.py:1: FutureWarning: The default value of numeric_only in DataFrame.corr is deprecated. In a future version, it will default to False. Select only valid columns or specify the value of numeric_only to silence this warning.\n",
      "  covari_corr = covari_floats.corr().abs().unstack()\n"
     ]
    }
   ],
   "source": [
    "covari_corr = covari_floats.corr().abs().unstack()\n",
    "covari_corr = covari_corr.sort_values(kind=\"quicksort\")\n",
    "\n",
    "print(covari_corr[covari_corr.between(0.8, 0.99)])"
   ]
  },
  {
   "cell_type": "markdown",
   "metadata": {},
   "source": [
    "### Random forests can be good at detecting interactions between different features, but highly correlated features can mask these interaction"
   ]
  },
  {
   "cell_type": "code",
   "execution_count": 6,
   "metadata": {},
   "outputs": [],
   "source": [
    "# correlation_matrix = covari.corr()\n",
    "\n",
    "# threshold = 0.8\n",
    "# highly_correlated_features = []\n",
    "\n",
    "# # iterate through the correlation matrix and identify highly correlated features\n",
    "# for i in range(len(correlation_matrix.columns)):\n",
    "#     for j in range(i+1, len(correlation_matrix.columns)):\n",
    "#         if abs(correlation_matrix.iloc[i, j]) > threshold:\n",
    "#             # append the pair of highly correlated features to the list\n",
    "#             feature_i = correlation_matrix.columns[i]\n",
    "#             feature_j = correlation_matrix.columns[j]\n",
    "#             highly_correlated_features.append((feature_i, feature_j))\n",
    "# highly_correlated_features"
   ]
  },
  {
   "cell_type": "code",
   "execution_count": null,
   "metadata": {},
   "outputs": [],
   "source": []
  },
  {
   "cell_type": "code",
   "execution_count": 7,
   "metadata": {},
   "outputs": [],
   "source": [
    "# # remove one feature from each highly correlated pair\n",
    "# for feature_i, feature_j in highly_correlated_features:\n",
    "#     importance_i = covari[feature_i].std()  # you can use any measure of importance here\n",
    "#     importance_j = covari[feature_j].std()  # you can use any measure of importance here\n",
    "\n",
    "#     # remove the feature with lower importance\n",
    "#     if importance_i > importance_j:\n",
    "#         covari.drop(feature_j, axis=1, inplace=True)\n",
    "#     else:\n",
    "#         covari.drop(feature_i, axis=1, inplace=True)\n"
   ]
  },
  {
   "cell_type": "markdown",
   "metadata": {},
   "source": [
    "## Dropping uneeded columns"
   ]
  },
  {
   "cell_type": "markdown",
   "metadata": {},
   "source": [
    "### renaming population names"
   ]
  },
  {
   "cell_type": "code",
   "execution_count": 8,
   "metadata": {},
   "outputs": [
    {
     "data": {
      "text/html": [
       "<div>\n",
       "<style scoped>\n",
       "    .dataframe tbody tr th:only-of-type {\n",
       "        vertical-align: middle;\n",
       "    }\n",
       "\n",
       "    .dataframe tbody tr th {\n",
       "        vertical-align: top;\n",
       "    }\n",
       "\n",
       "    .dataframe thead th {\n",
       "        text-align: right;\n",
       "    }\n",
       "</style>\n",
       "<table border=\"1\" class=\"dataframe\">\n",
       "  <thead>\n",
       "    <tr style=\"text-align: right;\">\n",
       "      <th></th>\n",
       "      <th>time</th>\n",
       "      <th>population</th>\n",
       "      <th>lat</th>\n",
       "      <th>lon</th>\n",
       "      <th>biomass</th>\n",
       "      <th>salin</th>\n",
       "      <th>temp</th>\n",
       "      <th>cruisename</th>\n",
       "      <th>SiO2</th>\n",
       "      <th>POSi</th>\n",
       "      <th>...</th>\n",
       "      <th>NO2</th>\n",
       "      <th>NH4</th>\n",
       "      <th>FeT</th>\n",
       "      <th>DOP</th>\n",
       "      <th>DON</th>\n",
       "      <th>DOFe</th>\n",
       "      <th>DOC</th>\n",
       "      <th>DIC</th>\n",
       "      <th>CDOM</th>\n",
       "      <th>ALK</th>\n",
       "    </tr>\n",
       "  </thead>\n",
       "  <tbody>\n",
       "    <tr>\n",
       "      <th>0</th>\n",
       "      <td>2016-04-20 07:00:00</td>\n",
       "      <td>Prochlorococcus</td>\n",
       "      <td>21.520326</td>\n",
       "      <td>-158.326984</td>\n",
       "      <td>10.520443</td>\n",
       "      <td>34.893785</td>\n",
       "      <td>24.351745</td>\n",
       "      <td>KOK1606</td>\n",
       "      <td>-0.022845</td>\n",
       "      <td>-0.000127</td>\n",
       "      <td>...</td>\n",
       "      <td>0.295276</td>\n",
       "      <td>1.282981</td>\n",
       "      <td>0.000015</td>\n",
       "      <td>0.013734</td>\n",
       "      <td>0.248717</td>\n",
       "      <td>0.000017</td>\n",
       "      <td>1.648093</td>\n",
       "      <td>1697.874775</td>\n",
       "      <td>0.000034</td>\n",
       "      <td>1954.87665</td>\n",
       "    </tr>\n",
       "    <tr>\n",
       "      <th>1</th>\n",
       "      <td>2016-04-20 07:00:00</td>\n",
       "      <td>Synechococcus</td>\n",
       "      <td>21.520326</td>\n",
       "      <td>-158.326984</td>\n",
       "      <td>0.341429</td>\n",
       "      <td>34.893785</td>\n",
       "      <td>24.351745</td>\n",
       "      <td>KOK1606</td>\n",
       "      <td>-0.022845</td>\n",
       "      <td>-0.000127</td>\n",
       "      <td>...</td>\n",
       "      <td>0.295276</td>\n",
       "      <td>1.282981</td>\n",
       "      <td>0.000015</td>\n",
       "      <td>0.013734</td>\n",
       "      <td>0.248717</td>\n",
       "      <td>0.000017</td>\n",
       "      <td>1.648093</td>\n",
       "      <td>1697.874775</td>\n",
       "      <td>0.000034</td>\n",
       "      <td>1954.87665</td>\n",
       "    </tr>\n",
       "    <tr>\n",
       "      <th>2</th>\n",
       "      <td>2016-04-20 07:00:00</td>\n",
       "      <td>nanoeukaryotes (2-5µm)</td>\n",
       "      <td>21.520326</td>\n",
       "      <td>-158.326984</td>\n",
       "      <td>3.338212</td>\n",
       "      <td>34.893785</td>\n",
       "      <td>24.351745</td>\n",
       "      <td>KOK1606</td>\n",
       "      <td>-0.022845</td>\n",
       "      <td>-0.000127</td>\n",
       "      <td>...</td>\n",
       "      <td>0.295276</td>\n",
       "      <td>1.282981</td>\n",
       "      <td>0.000015</td>\n",
       "      <td>0.013734</td>\n",
       "      <td>0.248717</td>\n",
       "      <td>0.000017</td>\n",
       "      <td>1.648093</td>\n",
       "      <td>1697.874775</td>\n",
       "      <td>0.000034</td>\n",
       "      <td>1954.87665</td>\n",
       "    </tr>\n",
       "    <tr>\n",
       "      <th>3</th>\n",
       "      <td>2016-04-20 07:00:00</td>\n",
       "      <td>picoeukaryotes (&lt; 2µm)</td>\n",
       "      <td>21.520326</td>\n",
       "      <td>-158.326984</td>\n",
       "      <td>0.701902</td>\n",
       "      <td>34.893785</td>\n",
       "      <td>24.351745</td>\n",
       "      <td>KOK1606</td>\n",
       "      <td>-0.022845</td>\n",
       "      <td>-0.000127</td>\n",
       "      <td>...</td>\n",
       "      <td>0.295276</td>\n",
       "      <td>1.282981</td>\n",
       "      <td>0.000015</td>\n",
       "      <td>0.013734</td>\n",
       "      <td>0.248717</td>\n",
       "      <td>0.000017</td>\n",
       "      <td>1.648093</td>\n",
       "      <td>1697.874775</td>\n",
       "      <td>0.000034</td>\n",
       "      <td>1954.87665</td>\n",
       "    </tr>\n",
       "    <tr>\n",
       "      <th>4</th>\n",
       "      <td>2016-04-20 08:00:00</td>\n",
       "      <td>Prochlorococcus</td>\n",
       "      <td>21.662710</td>\n",
       "      <td>-158.323430</td>\n",
       "      <td>9.309387</td>\n",
       "      <td>34.902376</td>\n",
       "      <td>24.339265</td>\n",
       "      <td>KOK1606</td>\n",
       "      <td>-0.022845</td>\n",
       "      <td>-0.000127</td>\n",
       "      <td>...</td>\n",
       "      <td>0.295276</td>\n",
       "      <td>1.282981</td>\n",
       "      <td>0.000015</td>\n",
       "      <td>0.013734</td>\n",
       "      <td>0.248717</td>\n",
       "      <td>0.000017</td>\n",
       "      <td>1.648093</td>\n",
       "      <td>1697.874775</td>\n",
       "      <td>0.000034</td>\n",
       "      <td>1954.87665</td>\n",
       "    </tr>\n",
       "  </tbody>\n",
       "</table>\n",
       "<p>5 rows × 27 columns</p>\n",
       "</div>"
      ],
      "text/plain": [
       "                 time              population        lat         lon  \\\n",
       "0 2016-04-20 07:00:00         Prochlorococcus  21.520326 -158.326984   \n",
       "1 2016-04-20 07:00:00           Synechococcus  21.520326 -158.326984   \n",
       "2 2016-04-20 07:00:00  nanoeukaryotes (2-5µm)  21.520326 -158.326984   \n",
       "3 2016-04-20 07:00:00  picoeukaryotes (< 2µm)  21.520326 -158.326984   \n",
       "4 2016-04-20 08:00:00         Prochlorococcus  21.662710 -158.323430   \n",
       "\n",
       "     biomass      salin       temp cruisename      SiO2      POSi  ...  \\\n",
       "0  10.520443  34.893785  24.351745    KOK1606 -0.022845 -0.000127  ...   \n",
       "1   0.341429  34.893785  24.351745    KOK1606 -0.022845 -0.000127  ...   \n",
       "2   3.338212  34.893785  24.351745    KOK1606 -0.022845 -0.000127  ...   \n",
       "3   0.701902  34.893785  24.351745    KOK1606 -0.022845 -0.000127  ...   \n",
       "4   9.309387  34.902376  24.339265    KOK1606 -0.022845 -0.000127  ...   \n",
       "\n",
       "        NO2       NH4       FeT       DOP       DON      DOFe       DOC  \\\n",
       "0  0.295276  1.282981  0.000015  0.013734  0.248717  0.000017  1.648093   \n",
       "1  0.295276  1.282981  0.000015  0.013734  0.248717  0.000017  1.648093   \n",
       "2  0.295276  1.282981  0.000015  0.013734  0.248717  0.000017  1.648093   \n",
       "3  0.295276  1.282981  0.000015  0.013734  0.248717  0.000017  1.648093   \n",
       "4  0.295276  1.282981  0.000015  0.013734  0.248717  0.000017  1.648093   \n",
       "\n",
       "           DIC      CDOM         ALK  \n",
       "0  1697.874775  0.000034  1954.87665  \n",
       "1  1697.874775  0.000034  1954.87665  \n",
       "2  1697.874775  0.000034  1954.87665  \n",
       "3  1697.874775  0.000034  1954.87665  \n",
       "4  1697.874775  0.000034  1954.87665  \n",
       "\n",
       "[5 rows x 27 columns]"
      ]
     },
     "execution_count": 8,
     "metadata": {},
     "output_type": "execute_result"
    }
   ],
   "source": [
    "covari['population'] = (\n",
    "    covari['population']\n",
    "    .replace({'picoeuk' : 'non_pro_syn'})\n",
    ")\n",
    "covari.head(5)"
   ]
  },
  {
   "cell_type": "markdown",
   "metadata": {},
   "source": [
    "\n",
    "\n",
    "## Saving machine learning ready dataset"
   ]
  },
  {
   "cell_type": "code",
   "execution_count": 9,
   "metadata": {},
   "outputs": [],
   "source": [
    "covari.to_csv('data/modified/RF_ready_covari.csv', index=False)"
   ]
  },
  {
   "cell_type": "code",
   "execution_count": null,
   "metadata": {},
   "outputs": [],
   "source": []
  }
 ],
 "metadata": {
  "kernelspec": {
   "display_name": "Python 3 (ipykernel)",
   "language": "python",
   "name": "python3"
  },
  "language_info": {
   "codemirror_mode": {
    "name": "ipython",
    "version": 3
   },
   "file_extension": ".py",
   "mimetype": "text/x-python",
   "name": "python",
   "nbconvert_exporter": "python",
   "pygments_lexer": "ipython3",
   "version": "3.11.2"
  }
 },
 "nbformat": 4,
 "nbformat_minor": 4
}
