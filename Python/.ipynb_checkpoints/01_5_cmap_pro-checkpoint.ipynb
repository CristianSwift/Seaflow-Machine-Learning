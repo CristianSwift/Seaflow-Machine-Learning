{
 "cells": [
  {
   "cell_type": "code",
   "execution_count": 1,
   "metadata": {},
   "outputs": [],
   "source": [
    "# Set a working directory\n",
    "#!pip install GitPython\n",
    "import git\n",
    "import os\n",
    "\n",
    "repo = git.Repo('.', search_parent_directories=True)\n",
    "\n",
    "\n",
    "os.chdir(repo.working_tree_dir)"
   ]
  },
  {
   "cell_type": "code",
   "execution_count": 5,
   "metadata": {},
   "outputs": [],
   "source": [
    "import pandas as pd\n",
    "import numpy as np\n",
    "import pycmap \n",
    "import pickle \n",
    "\n"
   ]
  },
  {
   "cell_type": "code",
   "execution_count": 3,
   "metadata": {},
   "outputs": [],
   "source": [
    "api = pycmap.API(token='<6e1eb1d3-d364-4dfb-9121-8c23369dbbbe>')"
   ]
  },
  {
   "cell_type": "code",
   "execution_count": 30,
   "metadata": {},
   "outputs": [
    {
     "data": {
      "text/html": [
       "<div>\n",
       "<style scoped>\n",
       "    .dataframe tbody tr th:only-of-type {\n",
       "        vertical-align: middle;\n",
       "    }\n",
       "\n",
       "    .dataframe tbody tr th {\n",
       "        vertical-align: top;\n",
       "    }\n",
       "\n",
       "    .dataframe thead th {\n",
       "        text-align: right;\n",
       "    }\n",
       "</style>\n",
       "<table border=\"1\" class=\"dataframe\">\n",
       "  <thead>\n",
       "    <tr style=\"text-align: right;\">\n",
       "      <th></th>\n",
       "      <th>lat</th>\n",
       "      <th>lon</th>\n",
       "      <th>date</th>\n",
       "      <th>time</th>\n",
       "      <th>depth</th>\n",
       "    </tr>\n",
       "  </thead>\n",
       "  <tbody>\n",
       "    <tr>\n",
       "      <th>0</th>\n",
       "      <td>-80.0</td>\n",
       "      <td>-180.0</td>\n",
       "      <td>2023-04-10</td>\n",
       "      <td>2023-04-10 00:52:39</td>\n",
       "      <td>5.0</td>\n",
       "    </tr>\n",
       "    <tr>\n",
       "      <th>1</th>\n",
       "      <td>-80.0</td>\n",
       "      <td>-179.0</td>\n",
       "      <td>2023-04-10</td>\n",
       "      <td>2023-04-10 00:48:37</td>\n",
       "      <td>5.0</td>\n",
       "    </tr>\n",
       "    <tr>\n",
       "      <th>2</th>\n",
       "      <td>-80.0</td>\n",
       "      <td>-178.0</td>\n",
       "      <td>2023-04-10</td>\n",
       "      <td>2023-04-10 00:44:35</td>\n",
       "      <td>5.0</td>\n",
       "    </tr>\n",
       "  </tbody>\n",
       "</table>\n",
       "</div>"
      ],
      "text/plain": [
       "    lat    lon        date                 time  depth\n",
       "0 -80.0 -180.0  2023-04-10  2023-04-10 00:52:39    5.0\n",
       "1 -80.0 -179.0  2023-04-10  2023-04-10 00:48:37    5.0\n",
       "2 -80.0 -178.0  2023-04-10  2023-04-10 00:44:35    5.0"
      ]
     },
     "execution_count": 30,
     "metadata": {},
     "output_type": "execute_result"
    }
   ],
   "source": [
    "predictors = pd.read_csv('data/original/predictors.csv')\n",
    "predictors = predictors.drop(columns=['sunrise'])    \n",
    "predictors.head(3)"
   ]
  },
  {
   "cell_type": "code",
   "execution_count": null,
   "metadata": {},
   "outputs": [],
   "source": [
    "api.get_metadata('tblsst_AVHRR_OI_NRT', 'sst')"
   ]
  },
  {
   "cell_type": "code",
   "execution_count": 14,
   "metadata": {},
   "outputs": [
    {
     "data": {
      "text/html": [
       "<div>\n",
       "<style scoped>\n",
       "    .dataframe tbody tr th:only-of-type {\n",
       "        vertical-align: middle;\n",
       "    }\n",
       "\n",
       "    .dataframe tbody tr th {\n",
       "        vertical-align: top;\n",
       "    }\n",
       "\n",
       "    .dataframe thead th {\n",
       "        text-align: right;\n",
       "    }\n",
       "</style>\n",
       "<table border=\"1\" class=\"dataframe\">\n",
       "  <thead>\n",
       "    <tr style=\"text-align: right;\">\n",
       "      <th></th>\n",
       "      <th>Temporal_Resolution</th>\n",
       "      <th>Spatial_Resolution</th>\n",
       "    </tr>\n",
       "  </thead>\n",
       "  <tbody>\n",
       "    <tr>\n",
       "      <th>0</th>\n",
       "      <td>Eight Day Running</td>\n",
       "      <td>70km X 70km</td>\n",
       "    </tr>\n",
       "  </tbody>\n",
       "</table>\n",
       "</div>"
      ],
      "text/plain": [
       "  Temporal_Resolution Spatial_Resolution\n",
       "0   Eight Day Running        70km X 70km"
      ]
     },
     "execution_count": 14,
     "metadata": {},
     "output_type": "execute_result"
    }
   ],
   "source": [
    "api.get_var_resolution(\"tblSSS_NRT_cl1\", 'sss_smap')\n"
   ]
  },
  {
   "cell_type": "code",
   "execution_count": 12,
   "metadata": {},
   "outputs": [
    {
     "data": {
      "text/html": [
       "<div>\n",
       "<style scoped>\n",
       "    .dataframe tbody tr th:only-of-type {\n",
       "        vertical-align: middle;\n",
       "    }\n",
       "\n",
       "    .dataframe tbody tr th {\n",
       "        vertical-align: top;\n",
       "    }\n",
       "\n",
       "    .dataframe thead th {\n",
       "        text-align: right;\n",
       "    }\n",
       "</style>\n",
       "<table border=\"1\" class=\"dataframe\">\n",
       "  <thead>\n",
       "    <tr style=\"text-align: right;\">\n",
       "      <th></th>\n",
       "      <th>Temporal_Resolution</th>\n",
       "      <th>Spatial_Resolution</th>\n",
       "    </tr>\n",
       "  </thead>\n",
       "  <tbody>\n",
       "    <tr>\n",
       "      <th>0</th>\n",
       "      <td>Daily</td>\n",
       "      <td>1/4Â° X 1/4Â°</td>\n",
       "    </tr>\n",
       "  </tbody>\n",
       "</table>\n",
       "</div>"
      ],
      "text/plain": [
       "  Temporal_Resolution Spatial_Resolution\n",
       "0               Daily      1/4Â° X 1/4Â°"
      ]
     },
     "execution_count": 12,
     "metadata": {},
     "output_type": "execute_result"
    }
   ],
   "source": [
    "api.get_var_resolution(\"tblAltimetry_REP_Signal\", 'vgos')\n"
   ]
  },
  {
   "cell_type": "code",
   "execution_count": 8,
   "metadata": {},
   "outputs": [
    {
     "data": {
      "text/html": [
       "<div>\n",
       "<style scoped>\n",
       "    .dataframe tbody tr th:only-of-type {\n",
       "        vertical-align: middle;\n",
       "    }\n",
       "\n",
       "    .dataframe tbody tr th {\n",
       "        vertical-align: top;\n",
       "    }\n",
       "\n",
       "    .dataframe thead th {\n",
       "        text-align: right;\n",
       "    }\n",
       "</style>\n",
       "<table border=\"1\" class=\"dataframe\">\n",
       "  <thead>\n",
       "    <tr style=\"text-align: right;\">\n",
       "      <th></th>\n",
       "      <th>Temporal_Resolution</th>\n",
       "      <th>Spatial_Resolution</th>\n",
       "    </tr>\n",
       "  </thead>\n",
       "  <tbody>\n",
       "    <tr>\n",
       "      <th>0</th>\n",
       "      <td>Daily</td>\n",
       "      <td>1/4Â° X 1/4Â°</td>\n",
       "    </tr>\n",
       "  </tbody>\n",
       "</table>\n",
       "</div>"
      ],
      "text/plain": [
       "  Temporal_Resolution Spatial_Resolution\n",
       "0               Daily      1/4Â° X 1/4Â°"
      ]
     },
     "execution_count": 8,
     "metadata": {},
     "output_type": "execute_result"
    }
   ],
   "source": [
    "api.get_var_resolution('tblPisces_Forecast_cl1', 'fe')\n"
   ]
  },
  {
   "cell_type": "code",
   "execution_count": 17,
   "metadata": {},
   "outputs": [
    {
     "ename": "SystemExit",
     "evalue": "Invalid table (tblArgoMerge_REP) and/or variable names (argo_merge_salinity_adj).\nPlease make sure that the dataset is still available in the CMAP catalog (not deprecated).",
     "output_type": "error",
     "traceback": [
      "An exception has occurred, use %tb to see the full traceback.\n",
      "\u001b[0;31mSystemExit\u001b[0m\u001b[0;31m:\u001b[0m Invalid table (tblArgoMerge_REP) and/or variable names (argo_merge_salinity_adj).\nPlease make sure that the dataset is still available in the CMAP catalog (not deprecated).\n"
     ]
    },
    {
     "name": "stderr",
     "output_type": "stream",
     "text": [
      "/Users/bakervanb/anaconda3/envs/machine-learning-env/lib/python3.9/site-packages/IPython/core/interactiveshell.py:3534: UserWarning: To exit: use 'exit', 'quit', or Ctrl-D.\n",
      "  warn(\"To exit: use 'exit', 'quit', or Ctrl-D.\", stacklevel=1)\n"
     ]
    }
   ],
   "source": [
    "import pycmap\n",
    "\n",
    "api.space_time(\n",
    "              table='tblArgoMerge_REP',\n",
    "              variable='argo_merge_salinity_adj',\n",
    "              dt1='2015-05-01',\n",
    "              dt2='2015-05-30',\n",
    "              lat1=28,\n",
    "              lat2=38,\n",
    "              lon1=-71,\n",
    "              lon2=-50,\n",
    "              depth1=0,\n",
    "              depth2=100\n",
    "              )"
   ]
  },
  {
   "cell_type": "code",
   "execution_count": 21,
   "metadata": {},
   "outputs": [],
   "source": [
    "targets = predictors\n",
    "\n",
    "alk = api.space_time(\n",
    "              table = 'tblPisces_Forecast_cl1', \n",
    "              variable = 'talk',\n",
    "              dt1 = '2023-01-01', \n",
    "              dt2 = '2023-01-02', \n",
    "              lat1 = -80, \n",
    "              lat2 = 80, \n",
    "              lon1 = -180, \n",
    "              lon2 = 180, \n",
    "              depth1 = 0, \n",
    "              depth2 = 5\n",
    ")"
   ]
  },
  {
   "cell_type": "code",
   "execution_count": 34,
   "metadata": {},
   "outputs": [],
   "source": [
    "tables = {'tblPisces_Forecast_cl1': ['talk', 'fe', 'o2', 'no3', 'po4', 'si' ],\n",
    "            'tblSST_AVHRR_OI_NRT': ['sst'],\n",
    "            'tblSSS_NRT_cl1': ['sss_smap'],\n",
    "            'tblAltimetry_NRT_signal': ['vgos','ugos'],\n",
    "            } \n",
    "dates = [['2023-01-01','2023-01-02'],['2023-02-01','2023-02-02'],['2023-03-01','2023-03-02'],['2023-04-01','2023-04-02'],['2023-05-01','2023-05-02'],['2023-06-01','2023-06-02'],['2023-07-01','2023-07-02'],['2023-08-01','2023-08-02'],['2023-09-01','2023-09-02'],['2023-10-01','2023-10-02'],['2023-11-01','2023-11-02'],['2023-12-01','2023-12-02']]\n"
   ]
  },
  {
   "cell_type": "code",
   "execution_count": 35,
   "metadata": {},
   "outputs": [
    {
     "name": "stdout",
     "output_type": "stream",
     "text": [
      "tblPisces_Forecast_cl1 talk 2023-01-01 2023-01-02\n",
      "tblPisces_Forecast_cl1 talk 2023-01-01 2023-01-02 done\n",
      "tblPisces_Forecast_cl1 fe 2023-01-01 2023-01-02\n",
      "tblPisces_Forecast_cl1 fe 2023-01-01 2023-01-02 done\n",
      "tblPisces_Forecast_cl1 o2 2023-01-01 2023-01-02\n",
      "tblPisces_Forecast_cl1 o2 2023-01-01 2023-01-02 done\n",
      "tblPisces_Forecast_cl1 no3 2023-01-01 2023-01-02\n",
      "tblPisces_Forecast_cl1 no3 2023-01-01 2023-01-02 done\n",
      "tblPisces_Forecast_cl1 po4 2023-01-01 2023-01-02\n",
      "tblPisces_Forecast_cl1 po4 2023-01-01 2023-01-02 done\n",
      "tblPisces_Forecast_cl1 si 2023-01-01 2023-01-02\n",
      "tblPisces_Forecast_cl1 si 2023-01-01 2023-01-02 done\n",
      "tblSST_AVHRR_OI_NRT sst 2023-01-01 2023-01-02\n",
      "tblSST_AVHRR_OI_NRT sst 2023-01-01 2023-01-02 done\n",
      "tblSSS_NRT_cl1 sss_smap 2023-01-01 2023-01-02\n",
      "tblSSS_NRT_cl1 sss_smap 2023-01-01 2023-01-02 done\n",
      "tblAltimetry_NRT_signal vgos 2023-01-01 2023-01-02\n",
      "tblAltimetry_NRT_signal vgos 2023-01-01 2023-01-02 done\n",
      "tblAltimetry_NRT_signal ugos 2023-01-01 2023-01-02\n",
      "tblAltimetry_NRT_signal ugos 2023-01-01 2023-01-02 done\n",
      "tblPisces_Forecast_cl1 talk 2023-02-01 2023-02-02\n",
      "tblPisces_Forecast_cl1 talk 2023-02-01 2023-02-02 done\n",
      "tblPisces_Forecast_cl1 fe 2023-02-01 2023-02-02\n",
      "tblPisces_Forecast_cl1 fe 2023-02-01 2023-02-02 done\n",
      "tblPisces_Forecast_cl1 o2 2023-02-01 2023-02-02\n",
      "tblPisces_Forecast_cl1 o2 2023-02-01 2023-02-02 done\n",
      "tblPisces_Forecast_cl1 no3 2023-02-01 2023-02-02\n",
      "tblPisces_Forecast_cl1 no3 2023-02-01 2023-02-02 done\n",
      "tblPisces_Forecast_cl1 po4 2023-02-01 2023-02-02\n",
      "tblPisces_Forecast_cl1 po4 2023-02-01 2023-02-02 done\n",
      "tblPisces_Forecast_cl1 si 2023-02-01 2023-02-02\n",
      "tblPisces_Forecast_cl1 si 2023-02-01 2023-02-02 done\n",
      "tblSST_AVHRR_OI_NRT sst 2023-02-01 2023-02-02\n",
      "tblSST_AVHRR_OI_NRT sst 2023-02-01 2023-02-02 done\n",
      "tblSSS_NRT_cl1 sss_smap 2023-02-01 2023-02-02\n",
      "tblSSS_NRT_cl1 sss_smap 2023-02-01 2023-02-02 done\n",
      "tblAltimetry_NRT_signal vgos 2023-02-01 2023-02-02\n",
      "tblAltimetry_NRT_signal vgos 2023-02-01 2023-02-02 done\n",
      "tblAltimetry_NRT_signal ugos 2023-02-01 2023-02-02\n",
      "tblAltimetry_NRT_signal ugos 2023-02-01 2023-02-02 done\n",
      "tblPisces_Forecast_cl1 talk 2023-03-01 2023-03-02\n",
      "tblPisces_Forecast_cl1 talk 2023-03-01 2023-03-02 done\n",
      "tblPisces_Forecast_cl1 fe 2023-03-01 2023-03-02\n",
      "tblPisces_Forecast_cl1 fe 2023-03-01 2023-03-02 done\n",
      "tblPisces_Forecast_cl1 o2 2023-03-01 2023-03-02\n",
      "tblPisces_Forecast_cl1 o2 2023-03-01 2023-03-02 done\n",
      "tblPisces_Forecast_cl1 no3 2023-03-01 2023-03-02\n",
      "tblPisces_Forecast_cl1 no3 2023-03-01 2023-03-02 done\n",
      "tblPisces_Forecast_cl1 po4 2023-03-01 2023-03-02\n",
      "tblPisces_Forecast_cl1 po4 2023-03-01 2023-03-02 done\n",
      "tblPisces_Forecast_cl1 si 2023-03-01 2023-03-02\n",
      "tblPisces_Forecast_cl1 si 2023-03-01 2023-03-02 done\n",
      "tblSST_AVHRR_OI_NRT sst 2023-03-01 2023-03-02\n",
      "tblSST_AVHRR_OI_NRT sst 2023-03-01 2023-03-02 done\n",
      "tblSSS_NRT_cl1 sss_smap 2023-03-01 2023-03-02\n",
      "tblSSS_NRT_cl1 sss_smap 2023-03-01 2023-03-02 done\n",
      "tblAltimetry_NRT_signal vgos 2023-03-01 2023-03-02\n",
      "tblAltimetry_NRT_signal vgos 2023-03-01 2023-03-02 done\n",
      "tblAltimetry_NRT_signal ugos 2023-03-01 2023-03-02\n",
      "tblAltimetry_NRT_signal ugos 2023-03-01 2023-03-02 done\n",
      "tblPisces_Forecast_cl1 talk 2023-04-01 2023-04-02\n",
      "tblPisces_Forecast_cl1 talk 2023-04-01 2023-04-02 done\n",
      "tblPisces_Forecast_cl1 fe 2023-04-01 2023-04-02\n",
      "tblPisces_Forecast_cl1 fe 2023-04-01 2023-04-02 done\n",
      "tblPisces_Forecast_cl1 o2 2023-04-01 2023-04-02\n",
      "tblPisces_Forecast_cl1 o2 2023-04-01 2023-04-02 done\n",
      "tblPisces_Forecast_cl1 no3 2023-04-01 2023-04-02\n",
      "tblPisces_Forecast_cl1 no3 2023-04-01 2023-04-02 done\n",
      "tblPisces_Forecast_cl1 po4 2023-04-01 2023-04-02\n",
      "tblPisces_Forecast_cl1 po4 2023-04-01 2023-04-02 done\n",
      "tblPisces_Forecast_cl1 si 2023-04-01 2023-04-02\n",
      "tblPisces_Forecast_cl1 si 2023-04-01 2023-04-02 done\n",
      "tblSST_AVHRR_OI_NRT sst 2023-04-01 2023-04-02\n",
      "tblSST_AVHRR_OI_NRT sst 2023-04-01 2023-04-02 done\n",
      "tblSSS_NRT_cl1 sss_smap 2023-04-01 2023-04-02\n",
      "tblSSS_NRT_cl1 sss_smap 2023-04-01 2023-04-02 done\n",
      "tblAltimetry_NRT_signal vgos 2023-04-01 2023-04-02\n",
      "tblAltimetry_NRT_signal vgos 2023-04-01 2023-04-02 done\n",
      "tblAltimetry_NRT_signal ugos 2023-04-01 2023-04-02\n",
      "tblAltimetry_NRT_signal ugos 2023-04-01 2023-04-02 done\n",
      "tblPisces_Forecast_cl1 talk 2023-05-01 2023-05-02\n",
      "tblPisces_Forecast_cl1 talk 2023-05-01 2023-05-02 done\n",
      "tblPisces_Forecast_cl1 fe 2023-05-01 2023-05-02\n",
      "tblPisces_Forecast_cl1 fe 2023-05-01 2023-05-02 done\n",
      "tblPisces_Forecast_cl1 o2 2023-05-01 2023-05-02\n",
      "tblPisces_Forecast_cl1 o2 2023-05-01 2023-05-02 done\n",
      "tblPisces_Forecast_cl1 no3 2023-05-01 2023-05-02\n",
      "tblPisces_Forecast_cl1 no3 2023-05-01 2023-05-02 done\n",
      "tblPisces_Forecast_cl1 po4 2023-05-01 2023-05-02\n",
      "tblPisces_Forecast_cl1 po4 2023-05-01 2023-05-02 done\n",
      "tblPisces_Forecast_cl1 si 2023-05-01 2023-05-02\n",
      "tblPisces_Forecast_cl1 si 2023-05-01 2023-05-02 done\n",
      "tblSST_AVHRR_OI_NRT sst 2023-05-01 2023-05-02\n",
      "tblSST_AVHRR_OI_NRT sst 2023-05-01 2023-05-02 done\n",
      "tblSSS_NRT_cl1 sss_smap 2023-05-01 2023-05-02\n",
      "tblSSS_NRT_cl1 sss_smap 2023-05-01 2023-05-02 done\n",
      "tblAltimetry_NRT_signal vgos 2023-05-01 2023-05-02\n",
      "tblAltimetry_NRT_signal vgos 2023-05-01 2023-05-02 done\n",
      "tblAltimetry_NRT_signal ugos 2023-05-01 2023-05-02\n",
      "tblAltimetry_NRT_signal ugos 2023-05-01 2023-05-02 done\n",
      "tblPisces_Forecast_cl1 talk 2023-06-01 2023-06-02\n",
      "tblPisces_Forecast_cl1 talk 2023-06-01 2023-06-02 done\n",
      "tblPisces_Forecast_cl1 fe 2023-06-01 2023-06-02\n",
      "tblPisces_Forecast_cl1 fe 2023-06-01 2023-06-02 done\n",
      "tblPisces_Forecast_cl1 o2 2023-06-01 2023-06-02\n",
      "tblPisces_Forecast_cl1 o2 2023-06-01 2023-06-02 done\n",
      "tblPisces_Forecast_cl1 no3 2023-06-01 2023-06-02\n",
      "tblPisces_Forecast_cl1 no3 2023-06-01 2023-06-02 done\n",
      "tblPisces_Forecast_cl1 po4 2023-06-01 2023-06-02\n",
      "tblPisces_Forecast_cl1 po4 2023-06-01 2023-06-02 done\n",
      "tblPisces_Forecast_cl1 si 2023-06-01 2023-06-02\n"
     ]
    },
    {
     "ename": "ChunkedEncodingError",
     "evalue": "(\"Connection broken: InvalidChunkLength(got length b'', 0 bytes read)\", InvalidChunkLength(got length b'', 0 bytes read))",
     "output_type": "error",
     "traceback": [
      "\u001b[0;31m---------------------------------------------------------------------------\u001b[0m",
      "\u001b[0;31mValueError\u001b[0m                                Traceback (most recent call last)",
      "File \u001b[0;32m~/anaconda3/envs/machine-learning-env/lib/python3.9/site-packages/urllib3/response.py:761\u001b[0m, in \u001b[0;36mHTTPResponse._update_chunk_length\u001b[0;34m(self)\u001b[0m\n\u001b[1;32m    760\u001b[0m \u001b[38;5;28;01mtry\u001b[39;00m:\n\u001b[0;32m--> 761\u001b[0m     \u001b[38;5;28mself\u001b[39m\u001b[38;5;241m.\u001b[39mchunk_left \u001b[38;5;241m=\u001b[39m \u001b[38;5;28;43mint\u001b[39;49m\u001b[43m(\u001b[49m\u001b[43mline\u001b[49m\u001b[43m,\u001b[49m\u001b[43m \u001b[49m\u001b[38;5;241;43m16\u001b[39;49m\u001b[43m)\u001b[49m\n\u001b[1;32m    762\u001b[0m \u001b[38;5;28;01mexcept\u001b[39;00m \u001b[38;5;167;01mValueError\u001b[39;00m:\n\u001b[1;32m    763\u001b[0m     \u001b[38;5;66;03m# Invalid chunked protocol response, abort.\u001b[39;00m\n",
      "\u001b[0;31mValueError\u001b[0m: invalid literal for int() with base 16: b''",
      "\nDuring handling of the above exception, another exception occurred:\n",
      "\u001b[0;31mInvalidChunkLength\u001b[0m                        Traceback (most recent call last)",
      "File \u001b[0;32m~/anaconda3/envs/machine-learning-env/lib/python3.9/site-packages/urllib3/response.py:444\u001b[0m, in \u001b[0;36mHTTPResponse._error_catcher\u001b[0;34m(self)\u001b[0m\n\u001b[1;32m    443\u001b[0m \u001b[38;5;28;01mtry\u001b[39;00m:\n\u001b[0;32m--> 444\u001b[0m     \u001b[38;5;28;01myield\u001b[39;00m\n\u001b[1;32m    446\u001b[0m \u001b[38;5;28;01mexcept\u001b[39;00m SocketTimeout:\n\u001b[1;32m    447\u001b[0m     \u001b[38;5;66;03m# FIXME: Ideally we'd like to include the url in the ReadTimeoutError but\u001b[39;00m\n\u001b[1;32m    448\u001b[0m     \u001b[38;5;66;03m# there is yet no clean way to get at it from this context.\u001b[39;00m\n",
      "File \u001b[0;32m~/anaconda3/envs/machine-learning-env/lib/python3.9/site-packages/urllib3/response.py:828\u001b[0m, in \u001b[0;36mHTTPResponse.read_chunked\u001b[0;34m(self, amt, decode_content)\u001b[0m\n\u001b[1;32m    827\u001b[0m \u001b[38;5;28;01mwhile\u001b[39;00m \u001b[38;5;28;01mTrue\u001b[39;00m:\n\u001b[0;32m--> 828\u001b[0m     \u001b[38;5;28;43mself\u001b[39;49m\u001b[38;5;241;43m.\u001b[39;49m\u001b[43m_update_chunk_length\u001b[49m\u001b[43m(\u001b[49m\u001b[43m)\u001b[49m\n\u001b[1;32m    829\u001b[0m     \u001b[38;5;28;01mif\u001b[39;00m \u001b[38;5;28mself\u001b[39m\u001b[38;5;241m.\u001b[39mchunk_left \u001b[38;5;241m==\u001b[39m \u001b[38;5;241m0\u001b[39m:\n",
      "File \u001b[0;32m~/anaconda3/envs/machine-learning-env/lib/python3.9/site-packages/urllib3/response.py:765\u001b[0m, in \u001b[0;36mHTTPResponse._update_chunk_length\u001b[0;34m(self)\u001b[0m\n\u001b[1;32m    764\u001b[0m \u001b[38;5;28mself\u001b[39m\u001b[38;5;241m.\u001b[39mclose()\n\u001b[0;32m--> 765\u001b[0m \u001b[38;5;28;01mraise\u001b[39;00m InvalidChunkLength(\u001b[38;5;28mself\u001b[39m, line)\n",
      "\u001b[0;31mInvalidChunkLength\u001b[0m: InvalidChunkLength(got length b'', 0 bytes read)",
      "\nDuring handling of the above exception, another exception occurred:\n",
      "\u001b[0;31mProtocolError\u001b[0m                             Traceback (most recent call last)",
      "File \u001b[0;32m~/anaconda3/envs/machine-learning-env/lib/python3.9/site-packages/requests/models.py:816\u001b[0m, in \u001b[0;36mResponse.iter_content.<locals>.generate\u001b[0;34m()\u001b[0m\n\u001b[1;32m    815\u001b[0m \u001b[38;5;28;01mtry\u001b[39;00m:\n\u001b[0;32m--> 816\u001b[0m     \u001b[38;5;28;01myield from\u001b[39;00m \u001b[38;5;28mself\u001b[39m\u001b[38;5;241m.\u001b[39mraw\u001b[38;5;241m.\u001b[39mstream(chunk_size, decode_content\u001b[38;5;241m=\u001b[39m\u001b[38;5;28;01mTrue\u001b[39;00m)\n\u001b[1;32m    817\u001b[0m \u001b[38;5;28;01mexcept\u001b[39;00m ProtocolError \u001b[38;5;28;01mas\u001b[39;00m e:\n",
      "File \u001b[0;32m~/anaconda3/envs/machine-learning-env/lib/python3.9/site-packages/urllib3/response.py:624\u001b[0m, in \u001b[0;36mHTTPResponse.stream\u001b[0;34m(self, amt, decode_content)\u001b[0m\n\u001b[1;32m    623\u001b[0m \u001b[38;5;28;01mif\u001b[39;00m \u001b[38;5;28mself\u001b[39m\u001b[38;5;241m.\u001b[39mchunked \u001b[38;5;129;01mand\u001b[39;00m \u001b[38;5;28mself\u001b[39m\u001b[38;5;241m.\u001b[39msupports_chunked_reads():\n\u001b[0;32m--> 624\u001b[0m     \u001b[38;5;28;01mfor\u001b[39;00m line \u001b[38;5;129;01min\u001b[39;00m \u001b[38;5;28mself\u001b[39m\u001b[38;5;241m.\u001b[39mread_chunked(amt, decode_content\u001b[38;5;241m=\u001b[39mdecode_content):\n\u001b[1;32m    625\u001b[0m         \u001b[38;5;28;01myield\u001b[39;00m line\n",
      "File \u001b[0;32m~/anaconda3/envs/machine-learning-env/lib/python3.9/site-packages/urllib3/response.py:857\u001b[0m, in \u001b[0;36mHTTPResponse.read_chunked\u001b[0;34m(self, amt, decode_content)\u001b[0m\n\u001b[1;32m    856\u001b[0m \u001b[38;5;28;01mif\u001b[39;00m \u001b[38;5;28mself\u001b[39m\u001b[38;5;241m.\u001b[39m_original_response:\n\u001b[0;32m--> 857\u001b[0m     \u001b[38;5;28mself\u001b[39m\u001b[38;5;241m.\u001b[39m_original_response\u001b[38;5;241m.\u001b[39mclose()\n",
      "File \u001b[0;32m~/anaconda3/envs/machine-learning-env/lib/python3.9/contextlib.py:137\u001b[0m, in \u001b[0;36m_GeneratorContextManager.__exit__\u001b[0;34m(self, typ, value, traceback)\u001b[0m\n\u001b[1;32m    136\u001b[0m \u001b[38;5;28;01mtry\u001b[39;00m:\n\u001b[0;32m--> 137\u001b[0m     \u001b[38;5;28;43mself\u001b[39;49m\u001b[38;5;241;43m.\u001b[39;49m\u001b[43mgen\u001b[49m\u001b[38;5;241;43m.\u001b[39;49m\u001b[43mthrow\u001b[49m\u001b[43m(\u001b[49m\u001b[43mtyp\u001b[49m\u001b[43m,\u001b[49m\u001b[43m \u001b[49m\u001b[43mvalue\u001b[49m\u001b[43m,\u001b[49m\u001b[43m \u001b[49m\u001b[43mtraceback\u001b[49m\u001b[43m)\u001b[49m\n\u001b[1;32m    138\u001b[0m \u001b[38;5;28;01mexcept\u001b[39;00m \u001b[38;5;167;01mStopIteration\u001b[39;00m \u001b[38;5;28;01mas\u001b[39;00m exc:\n\u001b[1;32m    139\u001b[0m     \u001b[38;5;66;03m# Suppress StopIteration *unless* it's the same exception that\u001b[39;00m\n\u001b[1;32m    140\u001b[0m     \u001b[38;5;66;03m# was passed to throw().  This prevents a StopIteration\u001b[39;00m\n\u001b[1;32m    141\u001b[0m     \u001b[38;5;66;03m# raised inside the \"with\" statement from being suppressed.\u001b[39;00m\n",
      "File \u001b[0;32m~/anaconda3/envs/machine-learning-env/lib/python3.9/site-packages/urllib3/response.py:461\u001b[0m, in \u001b[0;36mHTTPResponse._error_catcher\u001b[0;34m(self)\u001b[0m\n\u001b[1;32m    459\u001b[0m \u001b[38;5;28;01mexcept\u001b[39;00m (HTTPException, SocketError) \u001b[38;5;28;01mas\u001b[39;00m e:\n\u001b[1;32m    460\u001b[0m     \u001b[38;5;66;03m# This includes IncompleteRead.\u001b[39;00m\n\u001b[0;32m--> 461\u001b[0m     \u001b[38;5;28;01mraise\u001b[39;00m ProtocolError(\u001b[38;5;124m\"\u001b[39m\u001b[38;5;124mConnection broken: \u001b[39m\u001b[38;5;132;01m%r\u001b[39;00m\u001b[38;5;124m\"\u001b[39m \u001b[38;5;241m%\u001b[39m e, e)\n\u001b[1;32m    463\u001b[0m \u001b[38;5;66;03m# If no exception is thrown, we should avoid cleaning up\u001b[39;00m\n\u001b[1;32m    464\u001b[0m \u001b[38;5;66;03m# unnecessarily.\u001b[39;00m\n",
      "\u001b[0;31mProtocolError\u001b[0m: (\"Connection broken: InvalidChunkLength(got length b'', 0 bytes read)\", InvalidChunkLength(got length b'', 0 bytes read))",
      "\nDuring handling of the above exception, another exception occurred:\n",
      "\u001b[0;31mChunkedEncodingError\u001b[0m                      Traceback (most recent call last)",
      "Cell \u001b[0;32mIn[35], line 26\u001b[0m\n\u001b[1;32m     23\u001b[0m             \u001b[38;5;28mprint\u001b[39m(i,j,k,l, \u001b[38;5;124m'\u001b[39m\u001b[38;5;124mdone\u001b[39m\u001b[38;5;124m'\u001b[39m)\n\u001b[1;32m     25\u001b[0m \u001b[38;5;28;01mfor\u001b[39;00m k,l \u001b[38;5;129;01min\u001b[39;00m dates:\n\u001b[0;32m---> 26\u001b[0m     \u001b[43mget_data\u001b[49m\u001b[43m(\u001b[49m\u001b[43mk\u001b[49m\u001b[43m,\u001b[49m\u001b[43ml\u001b[49m\u001b[43m,\u001b[49m\u001b[43mdata\u001b[49m\u001b[43m)\u001b[49m\n",
      "Cell \u001b[0;32mIn[35], line 11\u001b[0m, in \u001b[0;36mget_data\u001b[0;34m(k, l, data)\u001b[0m\n\u001b[1;32m      9\u001b[0m \u001b[38;5;28;01mif\u001b[39;00m k \u001b[38;5;129;01mnot\u001b[39;00m \u001b[38;5;129;01min\u001b[39;00m data:\n\u001b[1;32m     10\u001b[0m     data[k] \u001b[38;5;241m=\u001b[39m []\n\u001b[0;32m---> 11\u001b[0m data[k]\u001b[38;5;241m.\u001b[39mappend(\u001b[43mapi\u001b[49m\u001b[38;5;241;43m.\u001b[39;49m\u001b[43mspace_time\u001b[49m\u001b[43m(\u001b[49m\n\u001b[1;32m     12\u001b[0m \u001b[43m    \u001b[49m\u001b[43mtable\u001b[49m\u001b[43m \u001b[49m\u001b[38;5;241;43m=\u001b[39;49m\u001b[43m \u001b[49m\u001b[43mi\u001b[49m\u001b[43m,\u001b[49m\u001b[43m \u001b[49m\n\u001b[1;32m     13\u001b[0m \u001b[43m    \u001b[49m\u001b[43mvariable\u001b[49m\u001b[43m \u001b[49m\u001b[38;5;241;43m=\u001b[39;49m\u001b[43m \u001b[49m\u001b[43mj\u001b[49m\u001b[43m,\u001b[49m\n\u001b[1;32m     14\u001b[0m \u001b[43m    \u001b[49m\u001b[43mdt1\u001b[49m\u001b[43m \u001b[49m\u001b[38;5;241;43m=\u001b[39;49m\u001b[43m \u001b[49m\u001b[43mk\u001b[49m\u001b[43m,\u001b[49m\u001b[43m \u001b[49m\n\u001b[1;32m     15\u001b[0m \u001b[43m    \u001b[49m\u001b[43mdt2\u001b[49m\u001b[43m \u001b[49m\u001b[38;5;241;43m=\u001b[39;49m\u001b[43m \u001b[49m\u001b[43ml\u001b[49m\u001b[43m,\u001b[49m\u001b[43m \u001b[49m\n\u001b[1;32m     16\u001b[0m \u001b[43m    \u001b[49m\u001b[43mlat1\u001b[49m\u001b[43m \u001b[49m\u001b[38;5;241;43m=\u001b[39;49m\u001b[43m \u001b[49m\u001b[38;5;241;43m-\u001b[39;49m\u001b[38;5;241;43m80\u001b[39;49m\u001b[43m,\u001b[49m\u001b[43m \u001b[49m\n\u001b[1;32m     17\u001b[0m \u001b[43m    \u001b[49m\u001b[43mlat2\u001b[49m\u001b[43m \u001b[49m\u001b[38;5;241;43m=\u001b[39;49m\u001b[43m \u001b[49m\u001b[38;5;241;43m80\u001b[39;49m\u001b[43m,\u001b[49m\u001b[43m \u001b[49m\n\u001b[1;32m     18\u001b[0m \u001b[43m    \u001b[49m\u001b[43mlon1\u001b[49m\u001b[43m \u001b[49m\u001b[38;5;241;43m=\u001b[39;49m\u001b[43m \u001b[49m\u001b[38;5;241;43m-\u001b[39;49m\u001b[38;5;241;43m180\u001b[39;49m\u001b[43m,\u001b[49m\u001b[43m \u001b[49m\n\u001b[1;32m     19\u001b[0m \u001b[43m    \u001b[49m\u001b[43mlon2\u001b[49m\u001b[43m \u001b[49m\u001b[38;5;241;43m=\u001b[39;49m\u001b[43m \u001b[49m\u001b[38;5;241;43m180\u001b[39;49m\u001b[43m,\u001b[49m\u001b[43m \u001b[49m\n\u001b[1;32m     20\u001b[0m \u001b[43m    \u001b[49m\u001b[43mdepth1\u001b[49m\u001b[43m \u001b[49m\u001b[38;5;241;43m=\u001b[39;49m\u001b[43m \u001b[49m\u001b[38;5;241;43m0\u001b[39;49m\u001b[43m,\u001b[49m\u001b[43m \u001b[49m\n\u001b[1;32m     21\u001b[0m \u001b[43m    \u001b[49m\u001b[43mdepth2\u001b[49m\u001b[43m \u001b[49m\u001b[38;5;241;43m=\u001b[39;49m\u001b[43m \u001b[49m\u001b[38;5;241;43m5\u001b[39;49m\n\u001b[1;32m     22\u001b[0m \u001b[43m\u001b[49m\u001b[43m)\u001b[49m)\n\u001b[1;32m     23\u001b[0m \u001b[38;5;28mprint\u001b[39m(i,j,k,l, \u001b[38;5;124m'\u001b[39m\u001b[38;5;124mdone\u001b[39m\u001b[38;5;124m'\u001b[39m)\n",
      "File \u001b[0;32m~/anaconda3/envs/machine-learning-env/lib/python3.9/site-packages/pycmap/rest.py:556\u001b[0m, in \u001b[0;36m_REST.space_time\u001b[0;34m(self, table, variable, dt1, dt2, lat1, lat2, lon1, lon2, depth1, depth2, servers)\u001b[0m\n\u001b[1;32m    551\u001b[0m \u001b[38;5;250m\u001b[39m\u001b[38;5;124;03m\"\"\"\u001b[39;00m\n\u001b[1;32m    552\u001b[0m \u001b[38;5;124;03mReturns a subset of data according to space-time constraints.\u001b[39;00m\n\u001b[1;32m    553\u001b[0m \u001b[38;5;124;03mThe results are ordered by time, lat, lon, and depth (if exists).\u001b[39;00m\n\u001b[1;32m    554\u001b[0m \u001b[38;5;124;03m\"\"\"\u001b[39;00m\n\u001b[1;32m    555\u001b[0m \u001b[38;5;28mself\u001b[39m\u001b[38;5;241m.\u001b[39m_validate_table_var(table, variable)\n\u001b[0;32m--> 556\u001b[0m \u001b[38;5;28;01mreturn\u001b[39;00m \u001b[38;5;28;43mself\u001b[39;49m\u001b[38;5;241;43m.\u001b[39;49m\u001b[43msubset\u001b[49m\u001b[43m(\u001b[49m\u001b[38;5;124;43m'\u001b[39;49m\u001b[38;5;124;43muspSpaceTime\u001b[39;49m\u001b[38;5;124;43m'\u001b[39;49m\u001b[43m,\u001b[49m\u001b[43m \u001b[49m\u001b[43mtable\u001b[49m\u001b[43m,\u001b[49m\u001b[43m \u001b[49m\u001b[43mvariable\u001b[49m\u001b[43m,\u001b[49m\u001b[43m \u001b[49m\u001b[43mdt1\u001b[49m\u001b[43m,\u001b[49m\u001b[43m \u001b[49m\u001b[43mdt2\u001b[49m\u001b[43m,\u001b[49m\u001b[43m \u001b[49m\u001b[43mlat1\u001b[49m\u001b[43m,\u001b[49m\u001b[43m \u001b[49m\u001b[43mlat2\u001b[49m\u001b[43m,\u001b[49m\u001b[43m \u001b[49m\u001b[43mlon1\u001b[49m\u001b[43m,\u001b[49m\u001b[43m \u001b[49m\u001b[43mlon2\u001b[49m\u001b[43m,\u001b[49m\u001b[43m \u001b[49m\u001b[43mdepth1\u001b[49m\u001b[43m,\u001b[49m\u001b[43m \u001b[49m\u001b[43mdepth2\u001b[49m\u001b[43m,\u001b[49m\u001b[43m \u001b[49m\u001b[43mservers\u001b[49m\u001b[38;5;241;43m=\u001b[39;49m\u001b[43mservers\u001b[49m\u001b[43m)\u001b[49m\n",
      "File \u001b[0;32m~/anaconda3/envs/machine-learning-env/lib/python3.9/site-packages/pycmap/rest.py:547\u001b[0m, in \u001b[0;36m_REST.subset\u001b[0;34m(self, spName, table, variable, dt1, dt2, lat1, lat2, lon1, lon2, depth1, depth2, servers)\u001b[0m\n\u001b[1;32m    545\u001b[0m \u001b[38;5;28mself\u001b[39m\u001b[38;5;241m.\u001b[39m_validate_table_var(table, variable)\n\u001b[1;32m    546\u001b[0m query \u001b[38;5;241m=\u001b[39m \u001b[38;5;124mf\u001b[39m\u001b[38;5;124m\"\u001b[39m\u001b[38;5;124mEXEC \u001b[39m\u001b[38;5;132;01m{\u001b[39;00mspName\u001b[38;5;132;01m}\u001b[39;00m\u001b[38;5;124m \u001b[39m\u001b[38;5;124m'\u001b[39m\u001b[38;5;132;01m{\u001b[39;00mtable\u001b[38;5;132;01m}\u001b[39;00m\u001b[38;5;124m'\u001b[39m\u001b[38;5;124m, \u001b[39m\u001b[38;5;124m'\u001b[39m\u001b[38;5;132;01m{\u001b[39;00mvariable\u001b[38;5;132;01m}\u001b[39;00m\u001b[38;5;124m'\u001b[39m\u001b[38;5;124m, \u001b[39m\u001b[38;5;124m'\u001b[39m\u001b[38;5;132;01m{\u001b[39;00mdt1\u001b[38;5;132;01m}\u001b[39;00m\u001b[38;5;124m'\u001b[39m\u001b[38;5;124m, \u001b[39m\u001b[38;5;124m'\u001b[39m\u001b[38;5;132;01m{\u001b[39;00mdt2\u001b[38;5;132;01m}\u001b[39;00m\u001b[38;5;124m'\u001b[39m\u001b[38;5;124m, \u001b[39m\u001b[38;5;132;01m{\u001b[39;00mlat1\u001b[38;5;132;01m}\u001b[39;00m\u001b[38;5;124m, \u001b[39m\u001b[38;5;132;01m{\u001b[39;00mlat2\u001b[38;5;132;01m}\u001b[39;00m\u001b[38;5;124m, \u001b[39m\u001b[38;5;132;01m{\u001b[39;00mlon1\u001b[38;5;132;01m}\u001b[39;00m\u001b[38;5;124m, \u001b[39m\u001b[38;5;132;01m{\u001b[39;00mlon2\u001b[38;5;132;01m}\u001b[39;00m\u001b[38;5;124m, \u001b[39m\u001b[38;5;132;01m{\u001b[39;00mdepth1\u001b[38;5;132;01m}\u001b[39;00m\u001b[38;5;124m, \u001b[39m\u001b[38;5;132;01m{\u001b[39;00mdepth2\u001b[38;5;132;01m}\u001b[39;00m\u001b[38;5;124m\"\u001b[39m\n\u001b[0;32m--> 547\u001b[0m \u001b[38;5;28;01mreturn\u001b[39;00m \u001b[38;5;28;43mself\u001b[39;49m\u001b[38;5;241;43m.\u001b[39;49m\u001b[43mquery\u001b[49m\u001b[43m(\u001b[49m\u001b[43mquery\u001b[49m\u001b[43m,\u001b[49m\u001b[43m \u001b[49m\u001b[43mservers\u001b[49m\u001b[43m)\u001b[49m\n",
      "File \u001b[0;32m~/anaconda3/envs/machine-learning-env/lib/python3.9/site-packages/pycmap/rest.py:216\u001b[0m, in \u001b[0;36m_REST.query\u001b[0;34m(self, query, servers)\u001b[0m\n\u001b[1;32m    214\u001b[0m route \u001b[38;5;241m=\u001b[39m \u001b[38;5;124m'\u001b[39m\u001b[38;5;124m/api/data/query?\u001b[39m\u001b[38;5;124m'\u001b[39m     \u001b[38;5;66;03m# CSV format      \u001b[39;00m\n\u001b[1;32m    215\u001b[0m payload \u001b[38;5;241m=\u001b[39m {\u001b[38;5;124m'\u001b[39m\u001b[38;5;124mquery\u001b[39m\u001b[38;5;124m'\u001b[39m: query, \u001b[38;5;124m'\u001b[39m\u001b[38;5;124mservername\u001b[39m\u001b[38;5;124m'\u001b[39m: random\u001b[38;5;241m.\u001b[39mchoice(servers)}\n\u001b[0;32m--> 216\u001b[0m \u001b[38;5;28;01mreturn\u001b[39;00m \u001b[38;5;28;43mself\u001b[39;49m\u001b[38;5;241;43m.\u001b[39;49m\u001b[43m_request\u001b[49m\u001b[43m(\u001b[49m\u001b[43mroute\u001b[49m\u001b[43m,\u001b[49m\u001b[43m \u001b[49m\u001b[43mmethod\u001b[49m\u001b[38;5;241;43m=\u001b[39;49m\u001b[38;5;124;43m'\u001b[39;49m\u001b[38;5;124;43mGET\u001b[39;49m\u001b[38;5;124;43m'\u001b[39;49m\u001b[43m,\u001b[49m\u001b[43m \u001b[49m\u001b[43mpayload\u001b[49m\u001b[38;5;241;43m=\u001b[39;49m\u001b[43mpayload\u001b[49m\u001b[43m)\u001b[49m\n",
      "File \u001b[0;32m~/anaconda3/envs/machine-learning-env/lib/python3.9/site-packages/pycmap/rest.py:118\u001b[0m, in \u001b[0;36m_REST._request\u001b[0;34m(self, route, method, payload, baseURL)\u001b[0m\n\u001b[1;32m    116\u001b[0m headers \u001b[38;5;241m=\u001b[39m {\u001b[38;5;124m'\u001b[39m\u001b[38;5;124mAuthorization\u001b[39m\u001b[38;5;124m'\u001b[39m: \u001b[38;5;28mself\u001b[39m\u001b[38;5;241m.\u001b[39m_token_prefix \u001b[38;5;241m+\u001b[39m \u001b[38;5;28mself\u001b[39m\u001b[38;5;241m.\u001b[39m_token}\n\u001b[1;32m    117\u001b[0m \u001b[38;5;28;01mif\u001b[39;00m method\u001b[38;5;241m.\u001b[39mupper()\u001b[38;5;241m.\u001b[39mstrip() \u001b[38;5;241m==\u001b[39m \u001b[38;5;124m'\u001b[39m\u001b[38;5;124mGET\u001b[39m\u001b[38;5;124m'\u001b[39m:\n\u001b[0;32m--> 118\u001b[0m     \u001b[38;5;28;01mreturn\u001b[39;00m \u001b[38;5;28;43mself\u001b[39;49m\u001b[38;5;241;43m.\u001b[39;49m\u001b[43m_atomic_get\u001b[49m\u001b[43m(\u001b[49m\u001b[43mroute\u001b[49m\u001b[43m,\u001b[49m\u001b[43m \u001b[49m\u001b[43mheaders\u001b[49m\u001b[43m,\u001b[49m\u001b[43m \u001b[49m\u001b[43mpayload\u001b[49m\u001b[43m)\u001b[49m\n\u001b[1;32m    119\u001b[0m \u001b[38;5;28;01melse\u001b[39;00m:\n\u001b[1;32m    120\u001b[0m     \u001b[38;5;28;01mreturn\u001b[39;00m \u001b[38;5;28;01mNone\u001b[39;00m\n",
      "File \u001b[0;32m~/anaconda3/envs/machine-learning-env/lib/python3.9/site-packages/pycmap/rest.py:133\u001b[0m, in \u001b[0;36m_REST._atomic_get\u001b[0;34m(self, route, headers, payload)\u001b[0m\n\u001b[1;32m    131\u001b[0m     queryString \u001b[38;5;241m=\u001b[39m urlencode(payload)\n\u001b[1;32m    132\u001b[0m url \u001b[38;5;241m=\u001b[39m \u001b[38;5;28mself\u001b[39m\u001b[38;5;241m.\u001b[39m_baseURL \u001b[38;5;241m+\u001b[39m route \u001b[38;5;241m+\u001b[39m queryString\n\u001b[0;32m--> 133\u001b[0m resp \u001b[38;5;241m=\u001b[39m \u001b[43mrequests\u001b[49m\u001b[38;5;241;43m.\u001b[39;49m\u001b[43mget\u001b[49m\u001b[43m(\u001b[49m\u001b[43murl\u001b[49m\u001b[43m,\u001b[49m\u001b[43m \u001b[49m\u001b[43mheaders\u001b[49m\u001b[38;5;241;43m=\u001b[39;49m\u001b[43mheaders\u001b[49m\u001b[43m)\u001b[49m  \n\u001b[1;32m    134\u001b[0m resp_text \u001b[38;5;241m=\u001b[39m resp\u001b[38;5;241m.\u001b[39mtext   \u001b[38;5;66;03m# not a big fan, a bit slow?\u001b[39;00m\n\u001b[1;32m    135\u001b[0m \u001b[38;5;28;01mif\u001b[39;00m \u001b[38;5;28mlen\u001b[39m(resp_text) \u001b[38;5;241m<\u001b[39m \u001b[38;5;241m50\u001b[39m:\n",
      "File \u001b[0;32m~/anaconda3/envs/machine-learning-env/lib/python3.9/site-packages/requests/api.py:73\u001b[0m, in \u001b[0;36mget\u001b[0;34m(url, params, **kwargs)\u001b[0m\n\u001b[1;32m     62\u001b[0m \u001b[38;5;28;01mdef\u001b[39;00m \u001b[38;5;21mget\u001b[39m(url, params\u001b[38;5;241m=\u001b[39m\u001b[38;5;28;01mNone\u001b[39;00m, \u001b[38;5;241m*\u001b[39m\u001b[38;5;241m*\u001b[39mkwargs):\n\u001b[1;32m     63\u001b[0m \u001b[38;5;250m    \u001b[39m\u001b[38;5;124mr\u001b[39m\u001b[38;5;124;03m\"\"\"Sends a GET request.\u001b[39;00m\n\u001b[1;32m     64\u001b[0m \n\u001b[1;32m     65\u001b[0m \u001b[38;5;124;03m    :param url: URL for the new :class:`Request` object.\u001b[39;00m\n\u001b[0;32m   (...)\u001b[0m\n\u001b[1;32m     70\u001b[0m \u001b[38;5;124;03m    :rtype: requests.Response\u001b[39;00m\n\u001b[1;32m     71\u001b[0m \u001b[38;5;124;03m    \"\"\"\u001b[39;00m\n\u001b[0;32m---> 73\u001b[0m     \u001b[38;5;28;01mreturn\u001b[39;00m \u001b[43mrequest\u001b[49m\u001b[43m(\u001b[49m\u001b[38;5;124;43m\"\u001b[39;49m\u001b[38;5;124;43mget\u001b[39;49m\u001b[38;5;124;43m\"\u001b[39;49m\u001b[43m,\u001b[49m\u001b[43m \u001b[49m\u001b[43murl\u001b[49m\u001b[43m,\u001b[49m\u001b[43m \u001b[49m\u001b[43mparams\u001b[49m\u001b[38;5;241;43m=\u001b[39;49m\u001b[43mparams\u001b[49m\u001b[43m,\u001b[49m\u001b[43m \u001b[49m\u001b[38;5;241;43m*\u001b[39;49m\u001b[38;5;241;43m*\u001b[39;49m\u001b[43mkwargs\u001b[49m\u001b[43m)\u001b[49m\n",
      "File \u001b[0;32m~/anaconda3/envs/machine-learning-env/lib/python3.9/site-packages/requests/api.py:59\u001b[0m, in \u001b[0;36mrequest\u001b[0;34m(method, url, **kwargs)\u001b[0m\n\u001b[1;32m     55\u001b[0m \u001b[38;5;66;03m# By using the 'with' statement we are sure the session is closed, thus we\u001b[39;00m\n\u001b[1;32m     56\u001b[0m \u001b[38;5;66;03m# avoid leaving sockets open which can trigger a ResourceWarning in some\u001b[39;00m\n\u001b[1;32m     57\u001b[0m \u001b[38;5;66;03m# cases, and look like a memory leak in others.\u001b[39;00m\n\u001b[1;32m     58\u001b[0m \u001b[38;5;28;01mwith\u001b[39;00m sessions\u001b[38;5;241m.\u001b[39mSession() \u001b[38;5;28;01mas\u001b[39;00m session:\n\u001b[0;32m---> 59\u001b[0m     \u001b[38;5;28;01mreturn\u001b[39;00m \u001b[43msession\u001b[49m\u001b[38;5;241;43m.\u001b[39;49m\u001b[43mrequest\u001b[49m\u001b[43m(\u001b[49m\u001b[43mmethod\u001b[49m\u001b[38;5;241;43m=\u001b[39;49m\u001b[43mmethod\u001b[49m\u001b[43m,\u001b[49m\u001b[43m \u001b[49m\u001b[43murl\u001b[49m\u001b[38;5;241;43m=\u001b[39;49m\u001b[43murl\u001b[49m\u001b[43m,\u001b[49m\u001b[43m \u001b[49m\u001b[38;5;241;43m*\u001b[39;49m\u001b[38;5;241;43m*\u001b[39;49m\u001b[43mkwargs\u001b[49m\u001b[43m)\u001b[49m\n",
      "File \u001b[0;32m~/anaconda3/envs/machine-learning-env/lib/python3.9/site-packages/requests/sessions.py:589\u001b[0m, in \u001b[0;36mSession.request\u001b[0;34m(self, method, url, params, data, headers, cookies, files, auth, timeout, allow_redirects, proxies, hooks, stream, verify, cert, json)\u001b[0m\n\u001b[1;32m    584\u001b[0m send_kwargs \u001b[38;5;241m=\u001b[39m {\n\u001b[1;32m    585\u001b[0m     \u001b[38;5;124m\"\u001b[39m\u001b[38;5;124mtimeout\u001b[39m\u001b[38;5;124m\"\u001b[39m: timeout,\n\u001b[1;32m    586\u001b[0m     \u001b[38;5;124m\"\u001b[39m\u001b[38;5;124mallow_redirects\u001b[39m\u001b[38;5;124m\"\u001b[39m: allow_redirects,\n\u001b[1;32m    587\u001b[0m }\n\u001b[1;32m    588\u001b[0m send_kwargs\u001b[38;5;241m.\u001b[39mupdate(settings)\n\u001b[0;32m--> 589\u001b[0m resp \u001b[38;5;241m=\u001b[39m \u001b[38;5;28;43mself\u001b[39;49m\u001b[38;5;241;43m.\u001b[39;49m\u001b[43msend\u001b[49m\u001b[43m(\u001b[49m\u001b[43mprep\u001b[49m\u001b[43m,\u001b[49m\u001b[43m \u001b[49m\u001b[38;5;241;43m*\u001b[39;49m\u001b[38;5;241;43m*\u001b[39;49m\u001b[43msend_kwargs\u001b[49m\u001b[43m)\u001b[49m\n\u001b[1;32m    591\u001b[0m \u001b[38;5;28;01mreturn\u001b[39;00m resp\n",
      "File \u001b[0;32m~/anaconda3/envs/machine-learning-env/lib/python3.9/site-packages/requests/sessions.py:747\u001b[0m, in \u001b[0;36mSession.send\u001b[0;34m(self, request, **kwargs)\u001b[0m\n\u001b[1;32m    744\u001b[0m         \u001b[38;5;28;01mpass\u001b[39;00m\n\u001b[1;32m    746\u001b[0m \u001b[38;5;28;01mif\u001b[39;00m \u001b[38;5;129;01mnot\u001b[39;00m stream:\n\u001b[0;32m--> 747\u001b[0m     \u001b[43mr\u001b[49m\u001b[38;5;241;43m.\u001b[39;49m\u001b[43mcontent\u001b[49m\n\u001b[1;32m    749\u001b[0m \u001b[38;5;28;01mreturn\u001b[39;00m r\n",
      "File \u001b[0;32m~/anaconda3/envs/machine-learning-env/lib/python3.9/site-packages/requests/models.py:899\u001b[0m, in \u001b[0;36mResponse.content\u001b[0;34m(self)\u001b[0m\n\u001b[1;32m    897\u001b[0m         \u001b[38;5;28mself\u001b[39m\u001b[38;5;241m.\u001b[39m_content \u001b[38;5;241m=\u001b[39m \u001b[38;5;28;01mNone\u001b[39;00m\n\u001b[1;32m    898\u001b[0m     \u001b[38;5;28;01melse\u001b[39;00m:\n\u001b[0;32m--> 899\u001b[0m         \u001b[38;5;28mself\u001b[39m\u001b[38;5;241m.\u001b[39m_content \u001b[38;5;241m=\u001b[39m \u001b[38;5;124;43mb\u001b[39;49m\u001b[38;5;124;43m\"\u001b[39;49m\u001b[38;5;124;43m\"\u001b[39;49m\u001b[38;5;241;43m.\u001b[39;49m\u001b[43mjoin\u001b[49m\u001b[43m(\u001b[49m\u001b[38;5;28;43mself\u001b[39;49m\u001b[38;5;241;43m.\u001b[39;49m\u001b[43miter_content\u001b[49m\u001b[43m(\u001b[49m\u001b[43mCONTENT_CHUNK_SIZE\u001b[49m\u001b[43m)\u001b[49m\u001b[43m)\u001b[49m \u001b[38;5;129;01mor\u001b[39;00m \u001b[38;5;124mb\u001b[39m\u001b[38;5;124m\"\u001b[39m\u001b[38;5;124m\"\u001b[39m\n\u001b[1;32m    901\u001b[0m \u001b[38;5;28mself\u001b[39m\u001b[38;5;241m.\u001b[39m_content_consumed \u001b[38;5;241m=\u001b[39m \u001b[38;5;28;01mTrue\u001b[39;00m\n\u001b[1;32m    902\u001b[0m \u001b[38;5;66;03m# don't need to release the connection; that's been handled by urllib3\u001b[39;00m\n\u001b[1;32m    903\u001b[0m \u001b[38;5;66;03m# since we exhausted the data.\u001b[39;00m\n",
      "File \u001b[0;32m~/anaconda3/envs/machine-learning-env/lib/python3.9/site-packages/requests/models.py:818\u001b[0m, in \u001b[0;36mResponse.iter_content.<locals>.generate\u001b[0;34m()\u001b[0m\n\u001b[1;32m    816\u001b[0m     \u001b[38;5;28;01myield from\u001b[39;00m \u001b[38;5;28mself\u001b[39m\u001b[38;5;241m.\u001b[39mraw\u001b[38;5;241m.\u001b[39mstream(chunk_size, decode_content\u001b[38;5;241m=\u001b[39m\u001b[38;5;28;01mTrue\u001b[39;00m)\n\u001b[1;32m    817\u001b[0m \u001b[38;5;28;01mexcept\u001b[39;00m ProtocolError \u001b[38;5;28;01mas\u001b[39;00m e:\n\u001b[0;32m--> 818\u001b[0m     \u001b[38;5;28;01mraise\u001b[39;00m ChunkedEncodingError(e)\n\u001b[1;32m    819\u001b[0m \u001b[38;5;28;01mexcept\u001b[39;00m DecodeError \u001b[38;5;28;01mas\u001b[39;00m e:\n\u001b[1;32m    820\u001b[0m     \u001b[38;5;28;01mraise\u001b[39;00m ContentDecodingError(e)\n",
      "\u001b[0;31mChunkedEncodingError\u001b[0m: (\"Connection broken: InvalidChunkLength(got length b'', 0 bytes read)\", InvalidChunkLength(got length b'', 0 bytes read))"
     ]
    }
   ],
   "source": [
    "\n",
    "data = {}\n",
    "\n",
    "def get_data(k, l, data):\n",
    "    for i in tables:\n",
    "        variables = tables[i]\n",
    "        for j in variables:\n",
    "            print(i,j,k,l)\n",
    "            targets = predictors\n",
    "            if k not in data:\n",
    "                data[k] = []\n",
    "            data[k].append(api.space_time(\n",
    "                table = i, \n",
    "                variable = j,\n",
    "                dt1 = k, \n",
    "                dt2 = l, \n",
    "                lat1 = -80, \n",
    "                lat2 = 80, \n",
    "                lon1 = -180, \n",
    "                lon2 = 180, \n",
    "                depth1 = 0, \n",
    "                depth2 = 5\n",
    "            ))\n",
    "            print(i,j,k,l, 'done')\n",
    "\n",
    "for k,l in dates:\n",
    "    get_data(k,l,data)"
   ]
  },
  {
   "cell_type": "code",
   "execution_count": null,
   "metadata": {},
   "outputs": [],
   "source": [
    "\n",
    "with open('data/original/cmap_data.pkl', 'wb') as f:\n",
    "    pickle.dump(data, f)"
   ]
  },
  {
   "cell_type": "code",
   "execution_count": 6,
   "metadata": {},
   "outputs": [],
   "source": [
    "with open('data/original/cmap_data.pkl', 'rb') as f:\n",
    "    data = pickle.load(f)"
   ]
  },
  {
   "cell_type": "code",
   "execution_count": 7,
   "metadata": {},
   "outputs": [
    {
     "data": {
      "text/plain": [
       "dict_keys(['2023-01-01', '2023-02-01', '2023-03-01', '2023-04-01', '2023-05-01', '2023-06-01'])"
      ]
     },
     "execution_count": 7,
     "metadata": {},
     "output_type": "execute_result"
    }
   ],
   "source": [
    "data.keys()"
   ]
  },
  {
   "cell_type": "code",
   "execution_count": 39,
   "metadata": {},
   "outputs": [],
   "source": [
    "i = 0\n",
    "for key in data.keys():\n",
    "   globals()[f'predictors_{i}']  = pd.concat(data[key], axis=1, sort=False)\n",
    "   i += 1"
   ]
  },
  {
   "cell_type": "code",
   "execution_count": 40,
   "metadata": {},
   "outputs": [],
   "source": [
    "for i in range(6):\n",
    "    df = globals()[f'predictors_{i}']\n",
    "    globals()[f'predictors_{i}'] = df.loc[:,~df.columns.duplicated()].copy()"
   ]
  },
  {
   "cell_type": "code",
   "execution_count": 10,
   "metadata": {},
   "outputs": [
    {
     "data": {
      "text/plain": [
       "3692160"
      ]
     },
     "execution_count": 10,
     "metadata": {},
     "output_type": "execute_result"
    }
   ],
   "source": [
    "len(predictors_1)"
   ]
  },
  {
   "cell_type": "code",
   "execution_count": 19,
   "metadata": {},
   "outputs": [
    {
     "data": {
      "text/plain": [
       "time              0\n",
       "lat               0\n",
       "lon               0\n",
       "depth             0\n",
       "talk        1176384\n",
       "fe          1176384\n",
       "o2          1176384\n",
       "no3         1176384\n",
       "po4         1176384\n",
       "si          1176384\n",
       "sst         2418490\n",
       "sss_smap    2607265\n",
       "dtype: int64"
      ]
     },
     "execution_count": 19,
     "metadata": {},
     "output_type": "execute_result"
    }
   ],
   "source": [
    "predictors_1.isna().sum()   "
   ]
  },
  {
   "cell_type": "code",
   "execution_count": 41,
   "metadata": {},
   "outputs": [],
   "source": [
    "dfs = [predictors_0, predictors_1, predictors_2, predictors_3, predictors_4, predictors_5]\n",
    "for i in range(6):\n",
    "    dfs[i] = dfs[i].drop(columns=['depth'])\n",
    "\n",
    "for i in range(6):\n",
    "    dfs[i] = predictors.merge(dfs[i], on=['lat', 'lon'], how='inner')"
   ]
  },
  {
   "cell_type": "code",
   "execution_count": 25,
   "metadata": {},
   "outputs": [
    {
     "name": "stdout",
     "output_type": "stream",
     "text": [
      "lat         float64\n",
      "lon         float64\n",
      "date         object\n",
      "time         object\n",
      "depth       float64\n",
      "talk        float64\n",
      "fe          float64\n",
      "o2          float64\n",
      "no3         float64\n",
      "po4         float64\n",
      "si          float64\n",
      "sst         float64\n",
      "sss_smap    float64\n",
      "dtype: object\n",
      "lat         float64\n",
      "lon         float64\n",
      "date         object\n",
      "time         object\n",
      "depth       float64\n",
      "talk        float64\n",
      "fe          float64\n",
      "o2          float64\n",
      "no3         float64\n",
      "po4         float64\n",
      "si          float64\n",
      "sst         float64\n",
      "sss_smap    float64\n",
      "dtype: object\n",
      "lat         float64\n",
      "lon         float64\n",
      "date         object\n",
      "time         object\n",
      "depth       float64\n",
      "talk        float64\n",
      "fe          float64\n",
      "o2          float64\n",
      "no3         float64\n",
      "po4         float64\n",
      "si          float64\n",
      "sst         float64\n",
      "sss_smap    float64\n",
      "dtype: object\n",
      "lat         float64\n",
      "lon         float64\n",
      "date         object\n",
      "time         object\n",
      "depth       float64\n",
      "talk        float64\n",
      "fe          float64\n",
      "o2          float64\n",
      "no3         float64\n",
      "po4         float64\n",
      "si          float64\n",
      "sss_smap    float64\n",
      "dtype: object\n",
      "lat         float64\n",
      "lon         float64\n",
      "date         object\n",
      "time         object\n",
      "depth       float64\n",
      "talk        float64\n",
      "fe          float64\n",
      "o2          float64\n",
      "no3         float64\n",
      "po4         float64\n",
      "si          float64\n",
      "sst         float64\n",
      "sss_smap    float64\n",
      "dtype: object\n",
      "lat      float64\n",
      "lon      float64\n",
      "date      object\n",
      "time      object\n",
      "depth    float64\n",
      "talk     float64\n",
      "fe       float64\n",
      "o2       float64\n",
      "no3      float64\n",
      "po4      float64\n",
      "dtype: object\n"
     ]
    }
   ],
   "source": []
  },
  {
   "cell_type": "code",
   "execution_count": 27,
   "metadata": {},
   "outputs": [
    {
     "name": "stdout",
     "output_type": "stream",
     "text": [
      "lat      float64\n",
      "lon      float64\n",
      "date      object\n",
      "time      object\n",
      "depth    float64\n",
      "dtype: object\n"
     ]
    }
   ],
   "source": [
    "print(predictors.dtypes)"
   ]
  },
  {
   "cell_type": "code",
   "execution_count": 43,
   "metadata": {},
   "outputs": [
    {
     "data": {
      "text/html": [
       "<div>\n",
       "<style scoped>\n",
       "    .dataframe tbody tr th:only-of-type {\n",
       "        vertical-align: middle;\n",
       "    }\n",
       "\n",
       "    .dataframe tbody tr th {\n",
       "        vertical-align: top;\n",
       "    }\n",
       "\n",
       "    .dataframe thead th {\n",
       "        text-align: right;\n",
       "    }\n",
       "</style>\n",
       "<table border=\"1\" class=\"dataframe\">\n",
       "  <thead>\n",
       "    <tr style=\"text-align: right;\">\n",
       "      <th></th>\n",
       "      <th>lat</th>\n",
       "      <th>lon</th>\n",
       "      <th>date</th>\n",
       "      <th>time_x</th>\n",
       "      <th>depth</th>\n",
       "      <th>time_y</th>\n",
       "      <th>talk</th>\n",
       "      <th>fe</th>\n",
       "      <th>o2</th>\n",
       "      <th>no3</th>\n",
       "      <th>po4</th>\n",
       "      <th>si</th>\n",
       "      <th>sst</th>\n",
       "      <th>sss_smap</th>\n",
       "    </tr>\n",
       "  </thead>\n",
       "  <tbody>\n",
       "    <tr>\n",
       "      <th>0</th>\n",
       "      <td>-80.0</td>\n",
       "      <td>-180.0</td>\n",
       "      <td>2023-04-10</td>\n",
       "      <td>2023-04-10 00:52:39</td>\n",
       "      <td>5.0</td>\n",
       "      <td>2023-01-01T12:00:00</td>\n",
       "      <td>NaN</td>\n",
       "      <td>NaN</td>\n",
       "      <td>NaN</td>\n",
       "      <td>NaN</td>\n",
       "      <td>NaN</td>\n",
       "      <td>NaN</td>\n",
       "      <td>NaN</td>\n",
       "      <td>NaN</td>\n",
       "    </tr>\n",
       "    <tr>\n",
       "      <th>1</th>\n",
       "      <td>-80.0</td>\n",
       "      <td>-180.0</td>\n",
       "      <td>2023-04-10</td>\n",
       "      <td>2023-04-10 00:52:39</td>\n",
       "      <td>5.0</td>\n",
       "      <td>2023-01-01T12:00:00</td>\n",
       "      <td>NaN</td>\n",
       "      <td>NaN</td>\n",
       "      <td>NaN</td>\n",
       "      <td>NaN</td>\n",
       "      <td>NaN</td>\n",
       "      <td>NaN</td>\n",
       "      <td>NaN</td>\n",
       "      <td>NaN</td>\n",
       "    </tr>\n",
       "    <tr>\n",
       "      <th>2</th>\n",
       "      <td>-80.0</td>\n",
       "      <td>-180.0</td>\n",
       "      <td>2023-04-10</td>\n",
       "      <td>2023-04-10 00:52:39</td>\n",
       "      <td>5.0</td>\n",
       "      <td>2023-01-01T12:00:00</td>\n",
       "      <td>NaN</td>\n",
       "      <td>NaN</td>\n",
       "      <td>NaN</td>\n",
       "      <td>NaN</td>\n",
       "      <td>NaN</td>\n",
       "      <td>NaN</td>\n",
       "      <td>NaN</td>\n",
       "      <td>NaN</td>\n",
       "    </tr>\n",
       "    <tr>\n",
       "      <th>3</th>\n",
       "      <td>-80.0</td>\n",
       "      <td>-180.0</td>\n",
       "      <td>2023-04-10</td>\n",
       "      <td>2023-04-10 00:52:39</td>\n",
       "      <td>5.0</td>\n",
       "      <td>2023-01-01T12:00:00</td>\n",
       "      <td>NaN</td>\n",
       "      <td>NaN</td>\n",
       "      <td>NaN</td>\n",
       "      <td>NaN</td>\n",
       "      <td>NaN</td>\n",
       "      <td>NaN</td>\n",
       "      <td>NaN</td>\n",
       "      <td>NaN</td>\n",
       "    </tr>\n",
       "    <tr>\n",
       "      <th>4</th>\n",
       "      <td>-80.0</td>\n",
       "      <td>-179.0</td>\n",
       "      <td>2023-04-10</td>\n",
       "      <td>2023-04-10 00:48:37</td>\n",
       "      <td>5.0</td>\n",
       "      <td>2023-01-01T12:00:00</td>\n",
       "      <td>NaN</td>\n",
       "      <td>NaN</td>\n",
       "      <td>NaN</td>\n",
       "      <td>NaN</td>\n",
       "      <td>NaN</td>\n",
       "      <td>NaN</td>\n",
       "      <td>NaN</td>\n",
       "      <td>NaN</td>\n",
       "    </tr>\n",
       "    <tr>\n",
       "      <th>5</th>\n",
       "      <td>-80.0</td>\n",
       "      <td>-179.0</td>\n",
       "      <td>2023-04-10</td>\n",
       "      <td>2023-04-10 00:48:37</td>\n",
       "      <td>5.0</td>\n",
       "      <td>2023-01-01T12:00:00</td>\n",
       "      <td>NaN</td>\n",
       "      <td>NaN</td>\n",
       "      <td>NaN</td>\n",
       "      <td>NaN</td>\n",
       "      <td>NaN</td>\n",
       "      <td>NaN</td>\n",
       "      <td>NaN</td>\n",
       "      <td>NaN</td>\n",
       "    </tr>\n",
       "    <tr>\n",
       "      <th>6</th>\n",
       "      <td>-80.0</td>\n",
       "      <td>-179.0</td>\n",
       "      <td>2023-04-10</td>\n",
       "      <td>2023-04-10 00:48:37</td>\n",
       "      <td>5.0</td>\n",
       "      <td>2023-01-01T12:00:00</td>\n",
       "      <td>NaN</td>\n",
       "      <td>NaN</td>\n",
       "      <td>NaN</td>\n",
       "      <td>NaN</td>\n",
       "      <td>NaN</td>\n",
       "      <td>NaN</td>\n",
       "      <td>NaN</td>\n",
       "      <td>NaN</td>\n",
       "    </tr>\n",
       "    <tr>\n",
       "      <th>7</th>\n",
       "      <td>-80.0</td>\n",
       "      <td>-179.0</td>\n",
       "      <td>2023-04-10</td>\n",
       "      <td>2023-04-10 00:48:37</td>\n",
       "      <td>5.0</td>\n",
       "      <td>2023-01-01T12:00:00</td>\n",
       "      <td>NaN</td>\n",
       "      <td>NaN</td>\n",
       "      <td>NaN</td>\n",
       "      <td>NaN</td>\n",
       "      <td>NaN</td>\n",
       "      <td>NaN</td>\n",
       "      <td>NaN</td>\n",
       "      <td>NaN</td>\n",
       "    </tr>\n",
       "    <tr>\n",
       "      <th>8</th>\n",
       "      <td>-80.0</td>\n",
       "      <td>-178.0</td>\n",
       "      <td>2023-04-10</td>\n",
       "      <td>2023-04-10 00:44:35</td>\n",
       "      <td>5.0</td>\n",
       "      <td>2023-01-01T12:00:00</td>\n",
       "      <td>NaN</td>\n",
       "      <td>NaN</td>\n",
       "      <td>NaN</td>\n",
       "      <td>NaN</td>\n",
       "      <td>NaN</td>\n",
       "      <td>NaN</td>\n",
       "      <td>NaN</td>\n",
       "      <td>NaN</td>\n",
       "    </tr>\n",
       "    <tr>\n",
       "      <th>9</th>\n",
       "      <td>-80.0</td>\n",
       "      <td>-178.0</td>\n",
       "      <td>2023-04-10</td>\n",
       "      <td>2023-04-10 00:44:35</td>\n",
       "      <td>5.0</td>\n",
       "      <td>2023-01-01T12:00:00</td>\n",
       "      <td>NaN</td>\n",
       "      <td>NaN</td>\n",
       "      <td>NaN</td>\n",
       "      <td>NaN</td>\n",
       "      <td>NaN</td>\n",
       "      <td>NaN</td>\n",
       "      <td>NaN</td>\n",
       "      <td>NaN</td>\n",
       "    </tr>\n",
       "  </tbody>\n",
       "</table>\n",
       "</div>"
      ],
      "text/plain": [
       "    lat    lon        date               time_x  depth               time_y  \\\n",
       "0 -80.0 -180.0  2023-04-10  2023-04-10 00:52:39    5.0  2023-01-01T12:00:00   \n",
       "1 -80.0 -180.0  2023-04-10  2023-04-10 00:52:39    5.0  2023-01-01T12:00:00   \n",
       "2 -80.0 -180.0  2023-04-10  2023-04-10 00:52:39    5.0  2023-01-01T12:00:00   \n",
       "3 -80.0 -180.0  2023-04-10  2023-04-10 00:52:39    5.0  2023-01-01T12:00:00   \n",
       "4 -80.0 -179.0  2023-04-10  2023-04-10 00:48:37    5.0  2023-01-01T12:00:00   \n",
       "5 -80.0 -179.0  2023-04-10  2023-04-10 00:48:37    5.0  2023-01-01T12:00:00   \n",
       "6 -80.0 -179.0  2023-04-10  2023-04-10 00:48:37    5.0  2023-01-01T12:00:00   \n",
       "7 -80.0 -179.0  2023-04-10  2023-04-10 00:48:37    5.0  2023-01-01T12:00:00   \n",
       "8 -80.0 -178.0  2023-04-10  2023-04-10 00:44:35    5.0  2023-01-01T12:00:00   \n",
       "9 -80.0 -178.0  2023-04-10  2023-04-10 00:44:35    5.0  2023-01-01T12:00:00   \n",
       "\n",
       "   talk  fe  o2  no3  po4  si  sst  sss_smap  \n",
       "0   NaN NaN NaN  NaN  NaN NaN  NaN       NaN  \n",
       "1   NaN NaN NaN  NaN  NaN NaN  NaN       NaN  \n",
       "2   NaN NaN NaN  NaN  NaN NaN  NaN       NaN  \n",
       "3   NaN NaN NaN  NaN  NaN NaN  NaN       NaN  \n",
       "4   NaN NaN NaN  NaN  NaN NaN  NaN       NaN  \n",
       "5   NaN NaN NaN  NaN  NaN NaN  NaN       NaN  \n",
       "6   NaN NaN NaN  NaN  NaN NaN  NaN       NaN  \n",
       "7   NaN NaN NaN  NaN  NaN NaN  NaN       NaN  \n",
       "8   NaN NaN NaN  NaN  NaN NaN  NaN       NaN  \n",
       "9   NaN NaN NaN  NaN  NaN NaN  NaN       NaN  "
      ]
     },
     "execution_count": 43,
     "metadata": {},
     "output_type": "execute_result"
    }
   ],
   "source": [
    "dfs[0].head(10)\n"
   ]
  },
  {
   "cell_type": "code",
   "execution_count": 20,
   "metadata": {},
   "outputs": [
    {
     "name": "stdout",
     "output_type": "stream",
     "text": [
      "1843200\n",
      "time             0\n",
      "lat              0\n",
      "lon              0\n",
      "sss_smap    778658\n",
      "dtype: int64\n"
     ]
    }
   ],
   "source": [
    "print(len(alk))\n",
    "print(alk.isna().sum())"
   ]
  },
  {
   "cell_type": "code",
   "execution_count": 26,
   "metadata": {},
   "outputs": [],
   "source": [
    "alk = alk.dropna(ignore_index=True)"
   ]
  },
  {
   "cell_type": "code",
   "execution_count": null,
   "metadata": {},
   "outputs": [],
   "source": []
  }
 ],
 "metadata": {
  "kernelspec": {
   "display_name": "Python 3 (ipykernel)",
   "language": "python",
   "name": "python3"
  },
  "language_info": {
   "codemirror_mode": {
    "name": "ipython",
    "version": 3
   },
   "file_extension": ".py",
   "mimetype": "text/x-python",
   "name": "python",
   "nbconvert_exporter": "python",
   "pygments_lexer": "ipython3",
   "version": "3.11.2"
  }
 },
 "nbformat": 4,
 "nbformat_minor": 2
}
