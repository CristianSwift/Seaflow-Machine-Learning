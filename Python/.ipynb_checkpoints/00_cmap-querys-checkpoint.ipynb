{
 "cells": [
  {
   "cell_type": "markdown",
   "metadata": {},
   "source": [
    "# Loading Functions"
   ]
  },
  {
   "cell_type": "code",
   "execution_count": 4,
   "metadata": {},
   "outputs": [],
   "source": [
    "import pandas as pd\n",
    "import numpy as np\n"
   ]
  },
  {
   "cell_type": "markdown",
   "metadata": {},
   "source": [
    "## Creating Real Time data set\n",
    "### Datetime is in UTC"
   ]
  },
  {
   "cell_type": "code",
   "execution_count": 5,
   "metadata": {},
   "outputs": [],
   "source": [
    "# Set a working directory\n",
    "import os\n",
    "\n",
    "directory_path = '/Users/cristianswift/Desktop/armbrust-lab/Seaflow-Machine-Learning/'\n",
    "os.chdir(directory_path)\n"
   ]
  },
  {
   "cell_type": "code",
   "execution_count": 11,
   "metadata": {},
   "outputs": [
    {
     "data": {
      "text/html": [
       "<div>\n",
       "<style scoped>\n",
       "    .dataframe tbody tr th:only-of-type {\n",
       "        vertical-align: middle;\n",
       "    }\n",
       "\n",
       "    .dataframe tbody tr th {\n",
       "        vertical-align: top;\n",
       "    }\n",
       "\n",
       "    .dataframe thead th {\n",
       "        text-align: right;\n",
       "    }\n",
       "</style>\n",
       "<table border=\"1\" class=\"dataframe\">\n",
       "  <thead>\n",
       "    <tr style=\"text-align: right;\">\n",
       "      <th></th>\n",
       "      <th>time</th>\n",
       "      <th>lat</th>\n",
       "      <th>lon</th>\n",
       "      <th>population</th>\n",
       "      <th>abundance_cells_per_microliter</th>\n",
       "      <th>diameter_micrometer</th>\n",
       "    </tr>\n",
       "  </thead>\n",
       "  <tbody>\n",
       "    <tr>\n",
       "      <th>1</th>\n",
       "      <td>2023-02-25T05:45:57Z</td>\n",
       "      <td>21.3067</td>\n",
       "      <td>-157.0366</td>\n",
       "      <td>picoeuk</td>\n",
       "      <td>14.30323085044253</td>\n",
       "      <td>1.55786005995454</td>\n",
       "    </tr>\n",
       "    <tr>\n",
       "      <th>2</th>\n",
       "      <td>2023-02-25T05:51:57Z</td>\n",
       "      <td>21.3148</td>\n",
       "      <td>-157.0362</td>\n",
       "      <td>prochloro</td>\n",
       "      <td>59.90896889937337</td>\n",
       "      <td>0.663476451861207</td>\n",
       "    </tr>\n",
       "    <tr>\n",
       "      <th>3</th>\n",
       "      <td>2023-02-25T05:54:58Z</td>\n",
       "      <td>21.3142</td>\n",
       "      <td>-157.0321</td>\n",
       "      <td>picoeuk</td>\n",
       "      <td>20.71698119210922</td>\n",
       "      <td>1.5760000524204352</td>\n",
       "    </tr>\n",
       "    <tr>\n",
       "      <th>4</th>\n",
       "      <td>2023-02-25T05:54:58Z</td>\n",
       "      <td>21.3142</td>\n",
       "      <td>-157.0321</td>\n",
       "      <td>prochloro</td>\n",
       "      <td>64.44967710586306</td>\n",
       "      <td>0.670356077823434</td>\n",
       "    </tr>\n",
       "    <tr>\n",
       "      <th>5</th>\n",
       "      <td>2023-02-25T05:57:58Z</td>\n",
       "      <td>21.3133</td>\n",
       "      <td>-157.0266</td>\n",
       "      <td>prochloro</td>\n",
       "      <td>68.45117621283211</td>\n",
       "      <td>0.6805887892801286</td>\n",
       "    </tr>\n",
       "    <tr>\n",
       "      <th>...</th>\n",
       "      <td>...</td>\n",
       "      <td>...</td>\n",
       "      <td>...</td>\n",
       "      <td>...</td>\n",
       "      <td>...</td>\n",
       "      <td>...</td>\n",
       "    </tr>\n",
       "    <tr>\n",
       "      <th>10570</th>\n",
       "      <td>2023-03-11T08:30:41Z</td>\n",
       "      <td>-19.4207</td>\n",
       "      <td>-181.8025</td>\n",
       "      <td>synecho</td>\n",
       "      <td>0.25541483661504516</td>\n",
       "      <td>1.07457158316671</td>\n",
       "    </tr>\n",
       "    <tr>\n",
       "      <th>10571</th>\n",
       "      <td>2023-03-11T08:33:41Z</td>\n",
       "      <td>-19.4208</td>\n",
       "      <td>-181.792</td>\n",
       "      <td>picoeuk</td>\n",
       "      <td>4.370431648746329</td>\n",
       "      <td>1.985346246474965</td>\n",
       "    </tr>\n",
       "    <tr>\n",
       "      <th>10572</th>\n",
       "      <td>2023-03-11T08:36:41Z</td>\n",
       "      <td>-19.4207</td>\n",
       "      <td>-181.7817</td>\n",
       "      <td>picoeuk</td>\n",
       "      <td>4.427190501327449</td>\n",
       "      <td>2.01327502068565</td>\n",
       "    </tr>\n",
       "    <tr>\n",
       "      <th>10573</th>\n",
       "      <td>2023-03-11T08:36:41Z</td>\n",
       "      <td>-19.4207</td>\n",
       "      <td>-181.7817</td>\n",
       "      <td>prochloro</td>\n",
       "      <td>92.26151487061243</td>\n",
       "      <td>0.572558873170014</td>\n",
       "    </tr>\n",
       "    <tr>\n",
       "      <th>10574</th>\n",
       "      <td>2023-03-11T08:36:41Z</td>\n",
       "      <td>-19.4207</td>\n",
       "      <td>-181.7817</td>\n",
       "      <td>synecho</td>\n",
       "      <td>0.2837942629056057</td>\n",
       "      <td>0.959303192228264</td>\n",
       "    </tr>\n",
       "  </tbody>\n",
       "</table>\n",
       "<p>10574 rows × 6 columns</p>\n",
       "</div>"
      ],
      "text/plain": [
       "                       time       lat        lon population  \\\n",
       "1      2023-02-25T05:45:57Z   21.3067  -157.0366    picoeuk   \n",
       "2      2023-02-25T05:51:57Z   21.3148  -157.0362  prochloro   \n",
       "3      2023-02-25T05:54:58Z   21.3142  -157.0321    picoeuk   \n",
       "4      2023-02-25T05:54:58Z   21.3142  -157.0321  prochloro   \n",
       "5      2023-02-25T05:57:58Z   21.3133  -157.0266  prochloro   \n",
       "...                     ...       ...        ...        ...   \n",
       "10570  2023-03-11T08:30:41Z  -19.4207  -181.8025    synecho   \n",
       "10571  2023-03-11T08:33:41Z  -19.4208   -181.792    picoeuk   \n",
       "10572  2023-03-11T08:36:41Z  -19.4207  -181.7817    picoeuk   \n",
       "10573  2023-03-11T08:36:41Z  -19.4207  -181.7817  prochloro   \n",
       "10574  2023-03-11T08:36:41Z  -19.4207  -181.7817    synecho   \n",
       "\n",
       "      abundance_cells_per_microliter diameter_micrometer  \n",
       "1                  14.30323085044253    1.55786005995454  \n",
       "2                  59.90896889937337   0.663476451861207  \n",
       "3                  20.71698119210922  1.5760000524204352  \n",
       "4                  64.44967710586306   0.670356077823434  \n",
       "5                  68.45117621283211  0.6805887892801286  \n",
       "...                              ...                 ...  \n",
       "10570            0.25541483661504516    1.07457158316671  \n",
       "10571              4.370431648746329   1.985346246474965  \n",
       "10572              4.427190501327449    2.01327502068565  \n",
       "10573              92.26151487061243   0.572558873170014  \n",
       "10574             0.2837942629056057   0.959303192228264  \n",
       "\n",
       "[10574 rows x 6 columns]"
      ]
     },
     "execution_count": 11,
     "metadata": {},
     "output_type": "execute_result"
    }
   ],
   "source": [
    "tn413_path = 'data/original/SeaFlow_realtime_TN413.csv'\n",
    "\n",
    "#changing column naes so that the date is just called data\n",
    "tn413_cols = ['time',\n",
    " 'lat',\n",
    " 'lon',\n",
    " 'population',\n",
    " 'abundance_cells_per_microliter',\n",
    " 'diameter_micrometer']\n",
    "\n",
    "#reading in the csv to a pandas df\n",
    "tn413 = pd.read_csv(tn413_path, names=tn413_cols)\n",
    "# getting rid of the first row since it has the column names repeated\n",
    "tn413 = tn413.tail(-1)\n",
    "tn413"
   ]
  },
  {
   "cell_type": "markdown",
   "metadata": {},
   "source": [
    "## Averaging data over 10 minute resolution so that SeaFlow and Underway CTD data match"
   ]
  },
  {
   "cell_type": "code",
   "execution_count": 12,
   "metadata": {},
   "outputs": [
    {
     "name": "stdout",
     "output_type": "stream",
     "text": [
      "time                               object\n",
      "lat                               float64\n",
      "lon                               float64\n",
      "population                         object\n",
      "abundance_cells_per_microliter    float64\n",
      "diameter_micrometer               float64\n",
      "depth                               int64\n",
      "dtype: object\n"
     ]
    },
    {
     "data": {
      "text/html": [
       "<div>\n",
       "<style scoped>\n",
       "    .dataframe tbody tr th:only-of-type {\n",
       "        vertical-align: middle;\n",
       "    }\n",
       "\n",
       "    .dataframe tbody tr th {\n",
       "        vertical-align: top;\n",
       "    }\n",
       "\n",
       "    .dataframe thead th {\n",
       "        text-align: right;\n",
       "    }\n",
       "</style>\n",
       "<table border=\"1\" class=\"dataframe\">\n",
       "  <thead>\n",
       "    <tr style=\"text-align: right;\">\n",
       "      <th></th>\n",
       "      <th>time</th>\n",
       "      <th>lat</th>\n",
       "      <th>lon</th>\n",
       "      <th>population</th>\n",
       "      <th>abundance_cells_per_microliter</th>\n",
       "      <th>diameter_micrometer</th>\n",
       "      <th>depth</th>\n",
       "    </tr>\n",
       "  </thead>\n",
       "  <tbody>\n",
       "    <tr>\n",
       "      <th>0</th>\n",
       "      <td>2023-02-25T05:45:57</td>\n",
       "      <td>21.3067</td>\n",
       "      <td>-157.0366</td>\n",
       "      <td>picoeuk</td>\n",
       "      <td>14.303231</td>\n",
       "      <td>1.557860</td>\n",
       "      <td>0</td>\n",
       "    </tr>\n",
       "    <tr>\n",
       "      <th>1</th>\n",
       "      <td>2023-02-25T05:51:57</td>\n",
       "      <td>21.3148</td>\n",
       "      <td>-157.0362</td>\n",
       "      <td>prochloro</td>\n",
       "      <td>59.908969</td>\n",
       "      <td>0.663476</td>\n",
       "      <td>0</td>\n",
       "    </tr>\n",
       "    <tr>\n",
       "      <th>2</th>\n",
       "      <td>2023-02-25T05:54:58</td>\n",
       "      <td>21.3142</td>\n",
       "      <td>-157.0321</td>\n",
       "      <td>picoeuk</td>\n",
       "      <td>20.716981</td>\n",
       "      <td>1.576000</td>\n",
       "      <td>0</td>\n",
       "    </tr>\n",
       "    <tr>\n",
       "      <th>3</th>\n",
       "      <td>2023-02-25T05:54:58</td>\n",
       "      <td>21.3142</td>\n",
       "      <td>-157.0321</td>\n",
       "      <td>prochloro</td>\n",
       "      <td>64.449677</td>\n",
       "      <td>0.670356</td>\n",
       "      <td>0</td>\n",
       "    </tr>\n",
       "  </tbody>\n",
       "</table>\n",
       "</div>"
      ],
      "text/plain": [
       "                  time      lat       lon population  \\\n",
       "0  2023-02-25T05:45:57  21.3067 -157.0366    picoeuk   \n",
       "1  2023-02-25T05:51:57  21.3148 -157.0362  prochloro   \n",
       "2  2023-02-25T05:54:58  21.3142 -157.0321    picoeuk   \n",
       "3  2023-02-25T05:54:58  21.3142 -157.0321  prochloro   \n",
       "\n",
       "   abundance_cells_per_microliter  diameter_micrometer  depth  \n",
       "0                       14.303231             1.557860      0  \n",
       "1                       59.908969             0.663476      0  \n",
       "2                       20.716981             1.576000      0  \n",
       "3                       64.449677             0.670356      0  "
      ]
     },
     "execution_count": 12,
     "metadata": {},
     "output_type": "execute_result"
    }
   ],
   "source": [
    "tn413['abundance_cells_per_microliter'] = pd.to_numeric(tn413['abundance_cells_per_microliter'])\n",
    "\n",
    "tn413 = tn413.dropna(subset=['time','lat', 'lon']).reset_index().drop('index',axis=1)\n",
    "tn413['time'] = tn413['time'].str[:-1]\n",
    "tn413['lat'] = tn413['lat'].astype(float)\n",
    "tn413['lon'] = tn413['lon'].astype(float)\n",
    "tn413['abundance_cells_per_microliter'] = tn413['abundance_cells_per_microliter'].astype(float)\n",
    "tn413['diameter_micrometer'] = tn413['diameter_micrometer'].astype(float)\n",
    "tn413['depth'] = 0\n",
    "\n",
    "print(tn413.dtypes)\n",
    "tn413.head(4)"
   ]
  },
  {
   "cell_type": "code",
   "execution_count": 13,
   "metadata": {},
   "outputs": [
    {
     "name": "stderr",
     "output_type": "stream",
     "text": [
      "/var/folders/w6/gkpzzsjx0n101092kzm2dnh00000gn/T/ipykernel_4813/3041316596.py:7: FutureWarning: Dropping invalid columns in DataFrameGroupBy.mean is deprecated. In a future version, a TypeError will be raised. Before calling .mean, select only columns which should be valid for the function.\n",
      "  .mean(numeric_only=False)\n",
      "/var/folders/w6/gkpzzsjx0n101092kzm2dnh00000gn/T/ipykernel_4813/3041316596.py:7: FutureWarning: Dropping invalid columns in DataFrameGroupBy.mean is deprecated. In a future version, a TypeError will be raised. Before calling .mean, select only columns which should be valid for the function.\n",
      "  .mean(numeric_only=False)\n",
      "/var/folders/w6/gkpzzsjx0n101092kzm2dnh00000gn/T/ipykernel_4813/3041316596.py:7: FutureWarning: Dropping invalid columns in DataFrameGroupBy.mean is deprecated. In a future version, a TypeError will be raised. Before calling .mean, select only columns which should be valid for the function.\n",
      "  .mean(numeric_only=False)\n"
     ]
    }
   ],
   "source": [
    "#averaging over every 10 min\n",
    "tn413['time'] = pd.to_datetime(tn413['time'])\n",
    "#this drops the phytoplankton population categorical column, need to recalulate\n",
    "tn413_avg = (tn413\n",
    "                .groupby('population')\n",
    "                .resample('10min', on='time')\n",
    "                .mean(numeric_only=False)\n",
    "                .reset_index()\n",
    "               )\n",
    "tn413_avg\n",
    "# making time a string object again\n",
    "tn413_avg['time'] = tn413_avg['time'].astype(str)\n",
    "tn413_avg['time'] = tn413_avg['time'].str.replace(' ', 'T')"
   ]
  },
  {
   "cell_type": "markdown",
   "metadata": {},
   "source": [
    "# Using SimonCMAP to gather additional features"
   ]
  },
  {
   "cell_type": "markdown",
   "metadata": {},
   "source": [
    "#### First installing and importing pycmap "
   ]
  },
  {
   "cell_type": "code",
   "execution_count": 14,
   "metadata": {
    "scrolled": true
   },
   "outputs": [],
   "source": [
    "# !pip install pycmap\n",
    "import pycmap"
   ]
  },
  {
   "cell_type": "markdown",
   "metadata": {},
   "source": [
    "### Prepping tn413 data for colocalization using Simon's CMAP"
   ]
  },
  {
   "cell_type": "markdown",
   "metadata": {},
   "source": [
    "#### Setting API"
   ]
  },
  {
   "cell_type": "code",
   "execution_count": 15,
   "metadata": {},
   "outputs": [],
   "source": [
    "api = pycmap.API(token='<6e1eb1d3-d364-4dfb-9121-8c23369dbbbe>')"
   ]
  },
  {
   "cell_type": "code",
   "execution_count": 16,
   "metadata": {},
   "outputs": [
    {
     "name": "stdout",
     "output_type": "stream",
     "text": [
      "Gathering metadata .... \n",
      "Sampling starts\n",
      "Sampling tblPisces_Forecast_cl1 ... 58 / 5891                                                  "
     ]
    },
    {
     "ename": "KeyboardInterrupt",
     "evalue": "",
     "output_type": "error",
     "traceback": [
      "\u001b[0;31m---------------------------------------------------------------------------\u001b[0m",
      "\u001b[0;31mKeyboardInterrupt\u001b[0m                         Traceback (most recent call last)",
      "Cell \u001b[0;32mIn[16], line 13\u001b[0m\n\u001b[1;32m      1\u001b[0m targets \u001b[38;5;241m=\u001b[39m {\n\u001b[1;32m      2\u001b[0m         \n\u001b[1;32m      3\u001b[0m         \u001b[38;5;66;03m# BioGeoChemical Numerical Near-Real-Time Model\u001b[39;00m\n\u001b[0;32m   (...)\u001b[0m\n\u001b[1;32m      7\u001b[0m                          }\n\u001b[1;32m      8\u001b[0m         }\n\u001b[1;32m     11\u001b[0m source \u001b[38;5;241m=\u001b[39m tn413_avg\n\u001b[0;32m---> 13\u001b[0m tn413_cmap \u001b[38;5;241m=\u001b[39m pycmap\u001b[38;5;241m.\u001b[39mSample(\n\u001b[1;32m     14\u001b[0m               source\u001b[38;5;241m=\u001b[39msource, \n\u001b[1;32m     15\u001b[0m               targets\u001b[38;5;241m=\u001b[39mtargets, \n\u001b[1;32m     16\u001b[0m               replaceWithMonthlyClimatolog\u001b[38;5;241m=\u001b[39m\u001b[38;5;28;01mFalse\u001b[39;00m\n\u001b[1;32m     17\u001b[0m              )\n",
      "File \u001b[0;32m~/opt/anaconda3/envs/machine-learning-env/lib/python3.11/site-packages/pycmap/sample.py:157\u001b[0m, in \u001b[0;36mSample\u001b[0;34m(source, targets, replaceWithMonthlyClimatolog, servers)\u001b[0m\n\u001b[1;32m    155\u001b[0m \u001b[38;5;28;01mwith\u001b[39;00m concurrent\u001b[38;5;241m.\u001b[39mfutures\u001b[38;5;241m.\u001b[39mThreadPoolExecutor() \u001b[38;5;28;01mas\u001b[39;00m executor:\n\u001b[1;32m    156\u001b[0m     futureObjs \u001b[38;5;241m=\u001b[39m executor\u001b[38;5;241m.\u001b[39mmap(match, dfs, [api] \u001b[38;5;241m*\u001b[39m \u001b[38;5;28mlen\u001b[39m(dfs), [targets] \u001b[38;5;241m*\u001b[39m \u001b[38;5;28mlen\u001b[39m(dfs), \u001b[38;5;28mlist\u001b[39m(\u001b[38;5;28mrange\u001b[39m(\u001b[38;5;28mlen\u001b[39m(dfs))), [\u001b[38;5;28mlen\u001b[39m(dfs)] \u001b[38;5;241m*\u001b[39m \u001b[38;5;28mlen\u001b[39m(dfs), [replaceWithMonthlyClimatolog]\u001b[38;5;241m*\u001b[39m\u001b[38;5;28mlen\u001b[39m(dfs), [servers] \u001b[38;5;241m*\u001b[39m \u001b[38;5;28mlen\u001b[39m(dfs))           \n\u001b[0;32m--> 157\u001b[0m     \u001b[38;5;28;01mfor\u001b[39;00m fo \u001b[38;5;129;01min\u001b[39;00m futureObjs:\n\u001b[1;32m    158\u001b[0m         \u001b[38;5;28;01mif\u001b[39;00m \u001b[38;5;28mlen\u001b[39m(colocalizedList) \u001b[38;5;241m<\u001b[39m \u001b[38;5;241m1\u001b[39m: columns \u001b[38;5;241m=\u001b[39m \u001b[38;5;28mlist\u001b[39m(fo\u001b[38;5;241m.\u001b[39mcolumns)                                                   \n\u001b[1;32m    159\u001b[0m         colocalizedList\u001b[38;5;241m.\u001b[39mappend(fo\u001b[38;5;241m.\u001b[39mvalues\u001b[38;5;241m.\u001b[39mtolist()[\u001b[38;5;241m0\u001b[39m])\n",
      "File \u001b[0;32m~/opt/anaconda3/envs/machine-learning-env/lib/python3.11/concurrent/futures/_base.py:619\u001b[0m, in \u001b[0;36mExecutor.map.<locals>.result_iterator\u001b[0;34m()\u001b[0m\n\u001b[1;32m    616\u001b[0m \u001b[38;5;28;01mwhile\u001b[39;00m fs:\n\u001b[1;32m    617\u001b[0m     \u001b[38;5;66;03m# Careful not to keep a reference to the popped future\u001b[39;00m\n\u001b[1;32m    618\u001b[0m     \u001b[38;5;28;01mif\u001b[39;00m timeout \u001b[38;5;129;01mis\u001b[39;00m \u001b[38;5;28;01mNone\u001b[39;00m:\n\u001b[0;32m--> 619\u001b[0m         \u001b[38;5;28;01myield\u001b[39;00m _result_or_cancel(fs\u001b[38;5;241m.\u001b[39mpop())\n\u001b[1;32m    620\u001b[0m     \u001b[38;5;28;01melse\u001b[39;00m:\n\u001b[1;32m    621\u001b[0m         \u001b[38;5;28;01myield\u001b[39;00m _result_or_cancel(fs\u001b[38;5;241m.\u001b[39mpop(), end_time \u001b[38;5;241m-\u001b[39m time\u001b[38;5;241m.\u001b[39mmonotonic())\n",
      "File \u001b[0;32m~/opt/anaconda3/envs/machine-learning-env/lib/python3.11/concurrent/futures/_base.py:317\u001b[0m, in \u001b[0;36m_result_or_cancel\u001b[0;34m(***failed resolving arguments***)\u001b[0m\n\u001b[1;32m    315\u001b[0m \u001b[38;5;28;01mtry\u001b[39;00m:\n\u001b[1;32m    316\u001b[0m     \u001b[38;5;28;01mtry\u001b[39;00m:\n\u001b[0;32m--> 317\u001b[0m         \u001b[38;5;28;01mreturn\u001b[39;00m fut\u001b[38;5;241m.\u001b[39mresult(timeout)\n\u001b[1;32m    318\u001b[0m     \u001b[38;5;28;01mfinally\u001b[39;00m:\n\u001b[1;32m    319\u001b[0m         fut\u001b[38;5;241m.\u001b[39mcancel()\n",
      "File \u001b[0;32m~/opt/anaconda3/envs/machine-learning-env/lib/python3.11/concurrent/futures/_base.py:451\u001b[0m, in \u001b[0;36mFuture.result\u001b[0;34m(self, timeout)\u001b[0m\n\u001b[1;32m    448\u001b[0m \u001b[38;5;28;01melif\u001b[39;00m \u001b[38;5;28mself\u001b[39m\u001b[38;5;241m.\u001b[39m_state \u001b[38;5;241m==\u001b[39m FINISHED:\n\u001b[1;32m    449\u001b[0m     \u001b[38;5;28;01mreturn\u001b[39;00m \u001b[38;5;28mself\u001b[39m\u001b[38;5;241m.\u001b[39m__get_result()\n\u001b[0;32m--> 451\u001b[0m \u001b[38;5;28mself\u001b[39m\u001b[38;5;241m.\u001b[39m_condition\u001b[38;5;241m.\u001b[39mwait(timeout)\n\u001b[1;32m    453\u001b[0m \u001b[38;5;28;01mif\u001b[39;00m \u001b[38;5;28mself\u001b[39m\u001b[38;5;241m.\u001b[39m_state \u001b[38;5;129;01min\u001b[39;00m [CANCELLED, CANCELLED_AND_NOTIFIED]:\n\u001b[1;32m    454\u001b[0m     \u001b[38;5;28;01mraise\u001b[39;00m CancelledError()\n",
      "File \u001b[0;32m~/opt/anaconda3/envs/machine-learning-env/lib/python3.11/threading.py:320\u001b[0m, in \u001b[0;36mCondition.wait\u001b[0;34m(self, timeout)\u001b[0m\n\u001b[1;32m    318\u001b[0m \u001b[38;5;28;01mtry\u001b[39;00m:    \u001b[38;5;66;03m# restore state no matter what (e.g., KeyboardInterrupt)\u001b[39;00m\n\u001b[1;32m    319\u001b[0m     \u001b[38;5;28;01mif\u001b[39;00m timeout \u001b[38;5;129;01mis\u001b[39;00m \u001b[38;5;28;01mNone\u001b[39;00m:\n\u001b[0;32m--> 320\u001b[0m         waiter\u001b[38;5;241m.\u001b[39macquire()\n\u001b[1;32m    321\u001b[0m         gotit \u001b[38;5;241m=\u001b[39m \u001b[38;5;28;01mTrue\u001b[39;00m\n\u001b[1;32m    322\u001b[0m     \u001b[38;5;28;01melse\u001b[39;00m:\n",
      "\u001b[0;31mKeyboardInterrupt\u001b[0m: "
     ]
    }
   ],
   "source": [
    "targets = {\n",
    "        \n",
    "        # BioGeoChemical Numerical Near-Real-Time Model\n",
    "        \"tblPisces_Forecast_cl1\": {\n",
    "                          \"variables\": [\"NO3\", \"PO4\", \"Fe\", \"Si\", \"chl\", \"nppv\", \"temp\", \"salin\"],\n",
    "                          \"tolerances\": [4, 0.5, 0.5, 5]\n",
    "                         }\n",
    "        }\n",
    "\n",
    "\n",
    "source = tn413_avg\n",
    "\n",
    "tn413_cmap = pycmap.Sample(\n",
    "              source=source, \n",
    "              targets=targets, \n",
    "              replaceWithMonthlyClimatolog=False\n",
    "             )\n"
   ]
  },
  {
   "cell_type": "markdown",
   "metadata": {},
   "source": [
    "## Saving as a CSV"
   ]
  },
  {
   "cell_type": "code",
   "execution_count": null,
   "metadata": {},
   "outputs": [],
   "source": [
    "tn413_cmap.isna().sum()"
   ]
  },
  {
   "cell_type": "code",
   "execution_count": null,
   "metadata": {},
   "outputs": [],
   "source": [
    "#saving as a CSV file\n",
    "tn413_cmap.to_csv('data/modified/Seaflow_TN413_CMAP.csv', index=False)\n"
   ]
  },
  {
   "cell_type": "code",
   "execution_count": null,
   "metadata": {},
   "outputs": [],
   "source": []
  }
 ],
 "metadata": {
  "kernelspec": {
   "display_name": "Python 3 (ipykernel)",
   "language": "python",
   "name": "python3"
  },
  "language_info": {
   "codemirror_mode": {
    "name": "ipython",
    "version": 3
   },
   "file_extension": ".py",
   "mimetype": "text/x-python",
   "name": "python",
   "nbconvert_exporter": "python",
   "pygments_lexer": "ipython3",
   "version": "3.11.2"
  }
 },
 "nbformat": 4,
 "nbformat_minor": 4
}
