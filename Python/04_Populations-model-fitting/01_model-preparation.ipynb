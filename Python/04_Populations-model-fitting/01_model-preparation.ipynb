{
 "cells": [
  {
   "cell_type": "markdown",
   "metadata": {},
   "source": [
    "# Developing a Random Forest Regressor for Each Population to Predict Biomass (pgC per L)"
   ]
  },
  {
   "cell_type": "code",
   "execution_count": 7,
   "metadata": {},
   "outputs": [],
   "source": [
    "# Set a working directory\n",
    "import os\n",
    "\n",
    "directory_path = '/Users/cristianswift/Desktop/armbrust-lab/Seaflow-Machine-Learning/'\n",
    "os.chdir(directory_path)\n"
   ]
  },
  {
   "cell_type": "code",
   "execution_count": 8,
   "metadata": {
    "scrolled": true
   },
   "outputs": [
    {
     "data": {
      "text/html": [
       "<div>\n",
       "<style scoped>\n",
       "    .dataframe tbody tr th:only-of-type {\n",
       "        vertical-align: middle;\n",
       "    }\n",
       "\n",
       "    .dataframe tbody tr th {\n",
       "        vertical-align: top;\n",
       "    }\n",
       "\n",
       "    .dataframe thead th {\n",
       "        text-align: right;\n",
       "    }\n",
       "</style>\n",
       "<table border=\"1\" class=\"dataframe\">\n",
       "  <thead>\n",
       "    <tr style=\"text-align: right;\">\n",
       "      <th></th>\n",
       "      <th>population</th>\n",
       "      <th>time</th>\n",
       "      <th>lat</th>\n",
       "      <th>lon</th>\n",
       "      <th>NO3NO2</th>\n",
       "      <th>PO4</th>\n",
       "      <th>Fe</th>\n",
       "      <th>SiO4</th>\n",
       "      <th>Satellite_CHL</th>\n",
       "      <th>temp</th>\n",
       "      <th>salin</th>\n",
       "      <th>biomass</th>\n",
       "    </tr>\n",
       "  </thead>\n",
       "  <tbody>\n",
       "    <tr>\n",
       "      <th>0</th>\n",
       "      <td>non_pro_syn</td>\n",
       "      <td>2023-02-25 05:40:00</td>\n",
       "      <td>21.3067</td>\n",
       "      <td>-157.036600</td>\n",
       "      <td>0.000562</td>\n",
       "      <td>0.212505</td>\n",
       "      <td>0.000433</td>\n",
       "      <td>2.092356</td>\n",
       "      <td>0.072018</td>\n",
       "      <td>24.03829</td>\n",
       "      <td>34.93311</td>\n",
       "      <td>6.716405</td>\n",
       "    </tr>\n",
       "    <tr>\n",
       "      <th>1</th>\n",
       "      <td>non_pro_syn</td>\n",
       "      <td>2023-02-25 05:50:00</td>\n",
       "      <td>21.3142</td>\n",
       "      <td>-157.032100</td>\n",
       "      <td>0.000562</td>\n",
       "      <td>0.212505</td>\n",
       "      <td>0.000433</td>\n",
       "      <td>2.092356</td>\n",
       "      <td>0.072018</td>\n",
       "      <td>24.01350</td>\n",
       "      <td>34.92320</td>\n",
       "      <td>10.023072</td>\n",
       "    </tr>\n",
       "    <tr>\n",
       "      <th>2</th>\n",
       "      <td>prochloro</td>\n",
       "      <td>2023-02-25 05:50:00</td>\n",
       "      <td>21.3141</td>\n",
       "      <td>-157.031633</td>\n",
       "      <td>0.000562</td>\n",
       "      <td>0.212505</td>\n",
       "      <td>0.000433</td>\n",
       "      <td>2.092356</td>\n",
       "      <td>0.072018</td>\n",
       "      <td>24.01350</td>\n",
       "      <td>34.92320</td>\n",
       "      <td>3.441297</td>\n",
       "    </tr>\n",
       "  </tbody>\n",
       "</table>\n",
       "</div>"
      ],
      "text/plain": [
       "    population                 time      lat         lon    NO3NO2       PO4  \\\n",
       "0  non_pro_syn  2023-02-25 05:40:00  21.3067 -157.036600  0.000562  0.212505   \n",
       "1  non_pro_syn  2023-02-25 05:50:00  21.3142 -157.032100  0.000562  0.212505   \n",
       "2    prochloro  2023-02-25 05:50:00  21.3141 -157.031633  0.000562  0.212505   \n",
       "\n",
       "         Fe      SiO4  Satellite_CHL      temp     salin    biomass  \n",
       "0  0.000433  2.092356       0.072018  24.03829  34.93311   6.716405  \n",
       "1  0.000433  2.092356       0.072018  24.01350  34.92320  10.023072  \n",
       "2  0.000433  2.092356       0.072018  24.01350  34.92320   3.441297  "
      ]
     },
     "execution_count": 8,
     "metadata": {},
     "output_type": "execute_result"
    }
   ],
   "source": [
    "import pandas as pd\n",
    "\n",
    "tn413_path = 'data/modified/RF_ready_tn413.csv'\n",
    "#using pandas to read in as a df\n",
    "tn413 = (pd.read_csv(tn413_path,parse_dates=[0]))\n",
    "#taking a peak at the data\n",
    "tn413.head(3)\n"
   ]
  },
  {
   "cell_type": "code",
   "execution_count": null,
   "metadata": {},
   "outputs": [],
   "source": []
  },
  {
   "cell_type": "markdown",
   "metadata": {},
   "source": [
    "## Seperating dataframes for individual populations"
   ]
  },
  {
   "cell_type": "code",
   "execution_count": 9,
   "metadata": {},
   "outputs": [
    {
     "data": {
      "text/plain": [
       "array(['non_pro_syn', 'prochloro', 'synecho'], dtype=object)"
      ]
     },
     "execution_count": 9,
     "metadata": {},
     "output_type": "execute_result"
    }
   ],
   "source": [
    "tn413.population.unique()"
   ]
  },
  {
   "cell_type": "code",
   "execution_count": 10,
   "metadata": {},
   "outputs": [],
   "source": [
    "import numpy as np\n",
    "#function to make numpy array\n",
    "def to_np(pop_feat):\n",
    "    pop_feat = np.array(pop_feat)\n",
    "    return pop_feat"
   ]
  },
  {
   "cell_type": "code",
   "execution_count": null,
   "metadata": {},
   "outputs": [],
   "source": []
  },
  {
   "cell_type": "code",
   "execution_count": 11,
   "metadata": {},
   "outputs": [],
   "source": [
    "pro_tn413 = tn413[tn413.population == 'prochloro']\n",
    "syn_tn413 = tn413[tn413.population == 'synecho']\n",
    "non_tn413 = tn413[tn413.population == 'non_pro_syn']\n",
    "\n",
    "\n",
    "pop_tn413_list = [pro_tn413, syn_tn413, non_tn413]\n",
    "# creating the labels for all of the populations for biomass (using numpy array so we can predict on them)\n",
    "\n",
    "label_pro = np.array(pro_tn413.biomass)\n",
    "label_syn = np.array(syn_tn413.biomass)\n",
    "label_non = np.array(non_tn413.biomass)\n",
    "\n",
    "# Creating the features for all of the populations\n",
    "\n",
    "#these are the dropped features\n",
    "droped_features = ['time','population',\n",
    "                   'biomass', 'lat', 'lon']\n",
    "\n",
    "features_pro = pro_tn413.drop(droped_features, axis = 1)\n",
    "features_syn = syn_tn413.drop(droped_features, axis = 1)\n",
    "features_non = non_tn413.drop(droped_features, axis = 1)\n",
    "\n",
    "\n",
    "# Saving feature names for later use (doesn't matter which dataframe we use since they all have same column names)\n",
    "feature_list = list(features_pro.columns)\n",
    "# Convert to numpy array\n",
    "pop_features = [features_pro,features_syn,features_non]\n",
    "\n",
    "\n",
    "features_pro = to_np(features_pro)\n",
    "features_syn = to_np(features_syn)\n",
    "features_non = to_np(features_non)\n",
    "\n",
    "#creating labels to see how the model did\n",
    "label_pro = np.array(pro_tn413.biomass)\n",
    "label_syn = np.array(syn_tn413.biomass)\n",
    "label_non = np.array(non_tn413.biomass)"
   ]
  },
  {
   "cell_type": "code",
   "execution_count": 12,
   "metadata": {},
   "outputs": [],
   "source": [
    "#loading packages for random forest modeling\n",
    "\n",
    "from sklearn.model_selection import train_test_split\n",
    "import joblib"
   ]
  },
  {
   "cell_type": "code",
   "execution_count": null,
   "metadata": {},
   "outputs": [],
   "source": []
  }
 ],
 "metadata": {
  "kernelspec": {
   "display_name": "Python 3 (ipykernel)",
   "language": "python",
   "name": "python3"
  },
  "language_info": {
   "codemirror_mode": {
    "name": "ipython",
    "version": 3
   },
   "file_extension": ".py",
   "mimetype": "text/x-python",
   "name": "python",
   "nbconvert_exporter": "python",
   "pygments_lexer": "ipython3",
   "version": "3.11.2"
  }
 },
 "nbformat": 4,
 "nbformat_minor": 4
}
