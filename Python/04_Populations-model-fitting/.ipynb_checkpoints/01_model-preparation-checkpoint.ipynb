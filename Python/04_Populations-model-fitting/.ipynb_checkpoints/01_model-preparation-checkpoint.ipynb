{
 "cells": [
  {
   "cell_type": "markdown",
   "metadata": {},
   "source": [
    "# Developing a Random Forest Regressor for Each PopulationName to Predict Biomass (pgC per L)"
   ]
  },
  {
   "cell_type": "code",
   "execution_count": 1,
   "metadata": {},
   "outputs": [],
   "source": [
    "# Set a working directory\n",
    "import os\n",
    "\n",
    "directory_path = '/Users/cristianswift/Desktop/armbrust-lab/Seaflow-Machine-Learning/'\n",
    "os.chdir(directory_path)\n"
   ]
  },
  {
   "cell_type": "code",
   "execution_count": 2,
   "metadata": {
    "scrolled": true
   },
   "outputs": [
    {
     "data": {
      "text/html": [
       "<div>\n",
       "<style scoped>\n",
       "    .dataframe tbody tr th:only-of-type {\n",
       "        vertical-align: middle;\n",
       "    }\n",
       "\n",
       "    .dataframe tbody tr th {\n",
       "        vertical-align: top;\n",
       "    }\n",
       "\n",
       "    .dataframe thead th {\n",
       "        text-align: right;\n",
       "    }\n",
       "</style>\n",
       "<table border=\"1\" class=\"dataframe\">\n",
       "  <thead>\n",
       "    <tr style=\"text-align: right;\">\n",
       "      <th></th>\n",
       "      <th>time</th>\n",
       "      <th>population</th>\n",
       "      <th>lat</th>\n",
       "      <th>lon</th>\n",
       "      <th>biomass</th>\n",
       "      <th>salin</th>\n",
       "      <th>temp</th>\n",
       "      <th>cruisename</th>\n",
       "      <th>SiO2</th>\n",
       "      <th>POSi</th>\n",
       "      <th>...</th>\n",
       "      <th>NH4</th>\n",
       "      <th>FeT</th>\n",
       "      <th>DOP</th>\n",
       "      <th>DON</th>\n",
       "      <th>DOFe</th>\n",
       "      <th>DOC</th>\n",
       "      <th>DIC</th>\n",
       "      <th>CDOM</th>\n",
       "      <th>ALK</th>\n",
       "      <th>par</th>\n",
       "    </tr>\n",
       "  </thead>\n",
       "  <tbody>\n",
       "    <tr>\n",
       "      <th>0</th>\n",
       "      <td>2016-04-20 07:00:00</td>\n",
       "      <td>Prochlorococcus</td>\n",
       "      <td>21.520326</td>\n",
       "      <td>-158.326984</td>\n",
       "      <td>10.520443</td>\n",
       "      <td>34.893785</td>\n",
       "      <td>24.351745</td>\n",
       "      <td>KOK1606</td>\n",
       "      <td>-0.022845</td>\n",
       "      <td>-0.000127</td>\n",
       "      <td>...</td>\n",
       "      <td>1.282981</td>\n",
       "      <td>0.000015</td>\n",
       "      <td>0.013734</td>\n",
       "      <td>0.248717</td>\n",
       "      <td>0.000017</td>\n",
       "      <td>1.648093</td>\n",
       "      <td>1697.874775</td>\n",
       "      <td>0.000034</td>\n",
       "      <td>1954.87665</td>\n",
       "      <td>0.0193</td>\n",
       "    </tr>\n",
       "    <tr>\n",
       "      <th>1</th>\n",
       "      <td>2016-04-20 07:00:00</td>\n",
       "      <td>Synechococcus</td>\n",
       "      <td>21.520326</td>\n",
       "      <td>-158.326984</td>\n",
       "      <td>0.341429</td>\n",
       "      <td>34.893785</td>\n",
       "      <td>24.351745</td>\n",
       "      <td>KOK1606</td>\n",
       "      <td>-0.022845</td>\n",
       "      <td>-0.000127</td>\n",
       "      <td>...</td>\n",
       "      <td>1.282981</td>\n",
       "      <td>0.000015</td>\n",
       "      <td>0.013734</td>\n",
       "      <td>0.248717</td>\n",
       "      <td>0.000017</td>\n",
       "      <td>1.648093</td>\n",
       "      <td>1697.874775</td>\n",
       "      <td>0.000034</td>\n",
       "      <td>1954.87665</td>\n",
       "      <td>0.0193</td>\n",
       "    </tr>\n",
       "    <tr>\n",
       "      <th>2</th>\n",
       "      <td>2016-04-20 07:00:00</td>\n",
       "      <td>nanoeukaryotes (2-5µm)</td>\n",
       "      <td>21.520326</td>\n",
       "      <td>-158.326984</td>\n",
       "      <td>3.338212</td>\n",
       "      <td>34.893785</td>\n",
       "      <td>24.351745</td>\n",
       "      <td>KOK1606</td>\n",
       "      <td>-0.022845</td>\n",
       "      <td>-0.000127</td>\n",
       "      <td>...</td>\n",
       "      <td>1.282981</td>\n",
       "      <td>0.000015</td>\n",
       "      <td>0.013734</td>\n",
       "      <td>0.248717</td>\n",
       "      <td>0.000017</td>\n",
       "      <td>1.648093</td>\n",
       "      <td>1697.874775</td>\n",
       "      <td>0.000034</td>\n",
       "      <td>1954.87665</td>\n",
       "      <td>0.0193</td>\n",
       "    </tr>\n",
       "  </tbody>\n",
       "</table>\n",
       "<p>3 rows × 28 columns</p>\n",
       "</div>"
      ],
      "text/plain": [
       "                 time              population        lat         lon  \\\n",
       "0 2016-04-20 07:00:00         Prochlorococcus  21.520326 -158.326984   \n",
       "1 2016-04-20 07:00:00           Synechococcus  21.520326 -158.326984   \n",
       "2 2016-04-20 07:00:00  nanoeukaryotes (2-5µm)  21.520326 -158.326984   \n",
       "\n",
       "     biomass      salin       temp cruisename      SiO2      POSi  ...  \\\n",
       "0  10.520443  34.893785  24.351745    KOK1606 -0.022845 -0.000127  ...   \n",
       "1   0.341429  34.893785  24.351745    KOK1606 -0.022845 -0.000127  ...   \n",
       "2   3.338212  34.893785  24.351745    KOK1606 -0.022845 -0.000127  ...   \n",
       "\n",
       "        NH4       FeT       DOP       DON      DOFe       DOC          DIC  \\\n",
       "0  1.282981  0.000015  0.013734  0.248717  0.000017  1.648093  1697.874775   \n",
       "1  1.282981  0.000015  0.013734  0.248717  0.000017  1.648093  1697.874775   \n",
       "2  1.282981  0.000015  0.013734  0.248717  0.000017  1.648093  1697.874775   \n",
       "\n",
       "       CDOM         ALK     par  \n",
       "0  0.000034  1954.87665  0.0193  \n",
       "1  0.000034  1954.87665  0.0193  \n",
       "2  0.000034  1954.87665  0.0193  \n",
       "\n",
       "[3 rows x 28 columns]"
      ]
     },
     "execution_count": 2,
     "metadata": {},
     "output_type": "execute_result"
    }
   ],
   "source": [
    "import pandas as pd\n",
    "\n",
    "covari_path = 'data/modified/RF_ready_covari.csv'\n",
    "#using pandas to read in as a df\n",
    "covari = (pd.read_csv(covari_path,parse_dates=[0]))\n",
    "#taking a peak at the data\n",
    "covari.head(3)\n"
   ]
  },
  {
   "cell_type": "markdown",
   "metadata": {},
   "source": [
    "## Seperating dataframes for individual PopulationNames"
   ]
  },
  {
   "cell_type": "code",
   "execution_count": 3,
   "metadata": {},
   "outputs": [
    {
     "data": {
      "text/plain": [
       "array(['Prochlorococcus', 'Synechococcus', 'nanoeukaryotes (2-5µm)',\n",
       "       'picoeukaryotes (< 2µm)'], dtype=object)"
      ]
     },
     "execution_count": 3,
     "metadata": {},
     "output_type": "execute_result"
    }
   ],
   "source": [
    "covari.population.unique()"
   ]
  },
  {
   "cell_type": "code",
   "execution_count": 4,
   "metadata": {},
   "outputs": [],
   "source": [
    "# import numpy as np\n",
    "# #function to make numpy array\n",
    "# def to_np(pop_feat):\n",
    "#     pop_feat = np.array(pop_feat)\n",
    "#     return pop_feat"
   ]
  },
  {
   "cell_type": "code",
   "execution_count": 5,
   "metadata": {},
   "outputs": [],
   "source": [
    "import numpy as np\n",
    "\n",
    "def preprocess_single_population(covari, population_name):\n",
    "    # Selecting the population based on the provided name\n",
    "    pop_df = covari[covari.population == population_name]\n",
    "\n",
    "    # Creating the labels and features for the population\n",
    "    labels = np.array(pop_df.biomass)\n",
    "    features = pop_df.drop(['time', 'population', 'biomass', 'lat', 'lon', 'cruisename'], axis=1)\n",
    "\n",
    "    # Saving feature names for later use\n",
    "    feature_list = list(features.columns)\n",
    "\n",
    "    return pop_df, labels, features, feature_list\n",
    "\n",
    "\n"
   ]
  },
  {
   "cell_type": "code",
   "execution_count": 6,
   "metadata": {},
   "outputs": [],
   "source": [
    "# creating a df, labels and features with only for the observed Prochlorooccus\n",
    "population_name = 'Prochlorococcus'\n",
    "\n",
    "pro_df, labels_pro, features_pro, feature_list_pro = preprocess_single_population(covari, population_name)"
   ]
  },
  {
   "cell_type": "code",
   "execution_count": 7,
   "metadata": {},
   "outputs": [],
   "source": [
    "# creating a df, labels and features with only for the observed Synechoccoccus\n",
    "population_name = 'Synechococcus'\n",
    "\n",
    "syn_df, labels_syn, features_syn, feature_list_syn = preprocess_single_population(covari, population_name)"
   ]
  },
  {
   "cell_type": "code",
   "execution_count": 8,
   "metadata": {},
   "outputs": [],
   "source": [
    "# creating a df, labels and features with only for the observed Picoeukaryotes\n",
    "population_name = 'picoeukaryotes (< 2µm)'\n",
    "\n",
    "pico_df, labels_pico, features_pico, feature_list_pico = preprocess_single_population(covari, population_name)"
   ]
  },
  {
   "cell_type": "code",
   "execution_count": 10,
   "metadata": {},
   "outputs": [],
   "source": [
    "# creating a df, labels and features with only for the observed Nanoeukaryotes\n",
    "population_name = 'nanoeukaryotes (2-5µm)'\n",
    "\n",
    "nano_df, labels_nano, features_nano, feature_list_nano = preprocess_single_population(covari, population_name)"
   ]
  },
  {
   "cell_type": "code",
   "execution_count": null,
   "metadata": {},
   "outputs": [],
   "source": []
  }
 ],
 "metadata": {
  "kernelspec": {
   "display_name": "Python 3 (ipykernel)",
   "language": "python",
   "name": "python3"
  },
  "language_info": {
   "codemirror_mode": {
    "name": "ipython",
    "version": 3
   },
   "file_extension": ".py",
   "mimetype": "text/x-python",
   "name": "python",
   "nbconvert_exporter": "python",
   "pygments_lexer": "ipython3",
   "version": "3.11.2"
  }
 },
 "nbformat": 4,
 "nbformat_minor": 4
}
