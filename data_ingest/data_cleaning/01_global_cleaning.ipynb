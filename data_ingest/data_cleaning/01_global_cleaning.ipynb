{
 "cells": [
  {
   "cell_type": "markdown",
   "metadata": {},
   "source": [
    "#  In this notebook we will clean up the global prediction data so it is ready for the RF model"
   ]
  },
  {
   "cell_type": "code",
   "execution_count": 73,
   "metadata": {},
   "outputs": [],
   "source": [
    "# Set a working directory\n",
    "#!pip install GitPython\n",
    "import git\n",
    "import os\n",
    "\n",
    "repo = git.Repo('.', search_parent_directories=True)\n",
    "\n",
    "\n",
    "os.chdir(repo.working_tree_dir)"
   ]
  },
  {
   "cell_type": "code",
   "execution_count": 74,
   "metadata": {},
   "outputs": [],
   "source": [
    "#!pip install global_land_mask\n",
    "import pandas as pd\n",
    "import numpy as np\n",
    "from global_land_mask import globe\n",
    "import pyarrow.parquet as pq\n"
   ]
  },
  {
   "cell_type": "code",
   "execution_count": 75,
   "metadata": {},
   "outputs": [],
   "source": [
    "predictors = pd.read_csv('data_ingest/data/original/predictors.csv')"
   ]
  },
  {
   "cell_type": "code",
   "execution_count": 76,
   "metadata": {},
   "outputs": [],
   "source": [
    "sss1 = pq.read_pandas('data_ingest/data/original/sss.parquet').to_pandas()\n",
    "sst1 = pq.read_pandas('data_ingest/data/original/sst.parquet').to_pandas()\n",
    "alk1 = pq.read_pandas('data_ingest/data/original/alk.parquet').to_pandas()\n",
    "pisces1 = pq.read_pandas('data_ingest/data/original/pisces.parquet').to_pandas()\n",
    "sss1.dropna(inplace=True)\n",
    "sst1.dropna(inplace=True)\n",
    "alk1.dropna(inplace=True)\n",
    "pisces1.dropna(inplace=True)"
   ]
  },
  {
   "cell_type": "code",
   "execution_count": 77,
   "metadata": {},
   "outputs": [],
   "source": [
    "alk1['time'] = '2023-04-10T00:00:00'\n",
    "alk1['time'] = pd.to_datetime(alk1['time'])\n",
    "alk1.drop(columns=['depth'], inplace=True)"
   ]
  },
  {
   "cell_type": "code",
   "execution_count": 78,
   "metadata": {},
   "outputs": [],
   "source": [
    "CMAP_dfs = [alk1, sss1, sst1, pisces1]"
   ]
  },
  {
   "cell_type": "code",
   "execution_count": 79,
   "metadata": {},
   "outputs": [],
   "source": [
    "def lat_rounder(df):\n",
    "    df.drop(columns=['time'], inplace=True)\n",
    "    df = df.reset_index()\n",
    "    df['lat_rounded'] = df['lat'].round()\n",
    "    df['lon_rounded'] = df['lon'].round()\n",
    "\n",
    "    \n",
    "    df1 = df.groupby(['lat_rounded', 'lon_rounded']).mean().reset_index()\n",
    "\n",
    "    \n",
    "    return df1"
   ]
  },
  {
   "cell_type": "code",
   "execution_count": 80,
   "metadata": {},
   "outputs": [],
   "source": [
    "alk2 = lat_rounder(alk1)\n",
    "sss2 = lat_rounder(sss1)\n",
    "sst2 = lat_rounder(sst1)\n",
    "pisces2 = lat_rounder(pisces1)"
   ]
  },
  {
   "cell_type": "code",
   "execution_count": 81,
   "metadata": {},
   "outputs": [],
   "source": [
    "new_dfs = [alk2, sss2, sst2, pisces2]"
   ]
  },
  {
   "cell_type": "code",
   "execution_count": 82,
   "metadata": {},
   "outputs": [],
   "source": [
    "for df in new_dfs:\n",
    "    df.drop(columns=['lat', 'lon'], inplace=True)\n",
    "    df.drop(columns=['index'], inplace=True)\n",
    "    df.rename(columns={'lat_rounded':'lat', 'lon_rounded':'lon'}, inplace=True)"
   ]
  },
  {
   "cell_type": "code",
   "execution_count": 83,
   "metadata": {},
   "outputs": [],
   "source": [
    "def merge_dfs(predictors, dfs):\n",
    "    i = 0\n",
    "    for df in dfs:\n",
    "        predictors = pd.merge(predictors, df, on=['lat', 'lon'], how='left')\n",
    "        i += 1\n",
    "        print('merged', {i})\n",
    "    return predictors"
   ]
  },
  {
   "cell_type": "code",
   "execution_count": 84,
   "metadata": {},
   "outputs": [
    {
     "name": "stdout",
     "output_type": "stream",
     "text": [
      "merged {1}\n",
      "merged {2}\n",
      "merged {3}\n",
      "merged {4}\n"
     ]
    }
   ],
   "source": [
    "predictors_cmap = merge_dfs(predictors, new_dfs)"
   ]
  },
  {
   "cell_type": "code",
   "execution_count": 85,
   "metadata": {},
   "outputs": [
    {
     "data": {
      "text/plain": [
       "Index(['lat', 'lon', 'date', 'sunrise', 'time', 'depth', 'month',\n",
       "       'ALK_darwin_clim', 'sss_smap', 'sst', 'fe', 'o2', 'no3', 'po4', 'si'],\n",
       "      dtype='object')"
      ]
     },
     "execution_count": 85,
     "metadata": {},
     "output_type": "execute_result"
    }
   ],
   "source": [
    "predictors_cmap.columns\n"
   ]
  },
  {
   "cell_type": "code",
   "execution_count": 86,
   "metadata": {},
   "outputs": [],
   "source": [
    "predictors_cmap.drop(columns=['date', 'month'], inplace=True)"
   ]
  },
  {
   "cell_type": "code",
   "execution_count": 87,
   "metadata": {},
   "outputs": [],
   "source": [
    "def ChangeObjectTypes(df):\n",
    "    \"\"\"\n",
    "    This function takes the columns of our dataframe and changes the data type of each varaibles to \n",
    "    be the appropriate type.\n",
    "    Time turns into a pandas datatime format\n",
    "    PopulationName and cruisename turn into strings\n",
    "    all other columns which are continous measurments are made to be numeric type\n",
    "    \"\"\"\n",
    "    for column in df:\n",
    "        if column == 'time':\n",
    "            #changing to datetime\n",
    "            df[column] = pd.to_datetime(df[column], errors='coerce')\n",
    "            \n",
    "        elif column == 'PopulationName' or column == 'cruise':\n",
    "            #changing to string\n",
    "            df[column] = df[column].astype(str)\n",
    "            \n",
    "        else:\n",
    "            #changing to numeric type\n",
    "            df[column] = pd.to_numeric(df[column], errors='coerce')\n",
    "    return df\n",
    "predictors = ChangeObjectTypes(predictors_cmap)"
   ]
  },
  {
   "cell_type": "markdown",
   "metadata": {},
   "source": [
    "#### Creating hours since sunrise\n",
    "\n",
    "Since we set the arbitrary time to be 4 hours past sunrise, this it not strictly needed, but this will be helpful later if you use a less specific time for sampling"
   ]
  },
  {
   "cell_type": "code",
   "execution_count": 88,
   "metadata": {},
   "outputs": [
    {
     "data": {
      "text/html": [
       "<div>\n",
       "<style scoped>\n",
       "    .dataframe tbody tr th:only-of-type {\n",
       "        vertical-align: middle;\n",
       "    }\n",
       "\n",
       "    .dataframe tbody tr th {\n",
       "        vertical-align: top;\n",
       "    }\n",
       "\n",
       "    .dataframe thead th {\n",
       "        text-align: right;\n",
       "    }\n",
       "</style>\n",
       "<table border=\"1\" class=\"dataframe\">\n",
       "  <thead>\n",
       "    <tr style=\"text-align: right;\">\n",
       "      <th></th>\n",
       "      <th>lat</th>\n",
       "      <th>lon</th>\n",
       "      <th>sunrise</th>\n",
       "      <th>time</th>\n",
       "      <th>depth</th>\n",
       "      <th>ALK_darwin_clim</th>\n",
       "      <th>sss_smap</th>\n",
       "      <th>sst</th>\n",
       "      <th>fe</th>\n",
       "      <th>o2</th>\n",
       "      <th>no3</th>\n",
       "      <th>po4</th>\n",
       "      <th>si</th>\n",
       "      <th>hours_since_sunrise</th>\n",
       "    </tr>\n",
       "  </thead>\n",
       "  <tbody>\n",
       "    <tr>\n",
       "      <th>0</th>\n",
       "      <td>-80.0</td>\n",
       "      <td>-180.0</td>\n",
       "      <td>2023-04-09 20:52:39</td>\n",
       "      <td>2023-04-10 00:52:39</td>\n",
       "      <td>5.0</td>\n",
       "      <td>2334.21730</td>\n",
       "      <td>NaN</td>\n",
       "      <td>NaN</td>\n",
       "      <td>NaN</td>\n",
       "      <td>NaN</td>\n",
       "      <td>NaN</td>\n",
       "      <td>NaN</td>\n",
       "      <td>NaN</td>\n",
       "      <td>4.0</td>\n",
       "    </tr>\n",
       "    <tr>\n",
       "      <th>1</th>\n",
       "      <td>-80.0</td>\n",
       "      <td>-179.0</td>\n",
       "      <td>2023-04-09 20:48:37</td>\n",
       "      <td>2023-04-10 00:48:37</td>\n",
       "      <td>5.0</td>\n",
       "      <td>2334.18530</td>\n",
       "      <td>NaN</td>\n",
       "      <td>NaN</td>\n",
       "      <td>NaN</td>\n",
       "      <td>NaN</td>\n",
       "      <td>NaN</td>\n",
       "      <td>NaN</td>\n",
       "      <td>NaN</td>\n",
       "      <td>4.0</td>\n",
       "    </tr>\n",
       "    <tr>\n",
       "      <th>2</th>\n",
       "      <td>-80.0</td>\n",
       "      <td>-178.0</td>\n",
       "      <td>2023-04-09 20:44:35</td>\n",
       "      <td>2023-04-10 00:44:35</td>\n",
       "      <td>5.0</td>\n",
       "      <td>2334.14430</td>\n",
       "      <td>NaN</td>\n",
       "      <td>NaN</td>\n",
       "      <td>NaN</td>\n",
       "      <td>NaN</td>\n",
       "      <td>NaN</td>\n",
       "      <td>NaN</td>\n",
       "      <td>NaN</td>\n",
       "      <td>4.0</td>\n",
       "    </tr>\n",
       "    <tr>\n",
       "      <th>3</th>\n",
       "      <td>-80.0</td>\n",
       "      <td>-177.0</td>\n",
       "      <td>2023-04-09 20:40:33</td>\n",
       "      <td>2023-04-10 00:40:33</td>\n",
       "      <td>5.0</td>\n",
       "      <td>2334.08970</td>\n",
       "      <td>NaN</td>\n",
       "      <td>NaN</td>\n",
       "      <td>NaN</td>\n",
       "      <td>NaN</td>\n",
       "      <td>NaN</td>\n",
       "      <td>NaN</td>\n",
       "      <td>NaN</td>\n",
       "      <td>4.0</td>\n",
       "    </tr>\n",
       "    <tr>\n",
       "      <th>4</th>\n",
       "      <td>-80.0</td>\n",
       "      <td>-176.0</td>\n",
       "      <td>2023-04-09 20:36:32</td>\n",
       "      <td>2023-04-10 00:36:32</td>\n",
       "      <td>5.0</td>\n",
       "      <td>2334.02295</td>\n",
       "      <td>NaN</td>\n",
       "      <td>NaN</td>\n",
       "      <td>NaN</td>\n",
       "      <td>NaN</td>\n",
       "      <td>NaN</td>\n",
       "      <td>NaN</td>\n",
       "      <td>NaN</td>\n",
       "      <td>4.0</td>\n",
       "    </tr>\n",
       "    <tr>\n",
       "      <th>...</th>\n",
       "      <td>...</td>\n",
       "      <td>...</td>\n",
       "      <td>...</td>\n",
       "      <td>...</td>\n",
       "      <td>...</td>\n",
       "      <td>...</td>\n",
       "      <td>...</td>\n",
       "      <td>...</td>\n",
       "      <td>...</td>\n",
       "      <td>...</td>\n",
       "      <td>...</td>\n",
       "      <td>...</td>\n",
       "      <td>...</td>\n",
       "      <td>...</td>\n",
       "    </tr>\n",
       "    <tr>\n",
       "      <th>39989</th>\n",
       "      <td>80.0</td>\n",
       "      <td>176.0</td>\n",
       "      <td>2023-04-09 14:25:26</td>\n",
       "      <td>2023-04-09 18:25:26</td>\n",
       "      <td>5.0</td>\n",
       "      <td>2164.98450</td>\n",
       "      <td>NaN</td>\n",
       "      <td>-1.583754</td>\n",
       "      <td>0.000740</td>\n",
       "      <td>381.843030</td>\n",
       "      <td>4.101029</td>\n",
       "      <td>0.934664</td>\n",
       "      <td>14.185914</td>\n",
       "      <td>4.0</td>\n",
       "    </tr>\n",
       "    <tr>\n",
       "      <th>39990</th>\n",
       "      <td>80.0</td>\n",
       "      <td>177.0</td>\n",
       "      <td>2023-04-09 14:21:29</td>\n",
       "      <td>2023-04-09 18:21:29</td>\n",
       "      <td>5.0</td>\n",
       "      <td>2165.23025</td>\n",
       "      <td>NaN</td>\n",
       "      <td>-1.581255</td>\n",
       "      <td>0.000735</td>\n",
       "      <td>382.153229</td>\n",
       "      <td>4.190627</td>\n",
       "      <td>0.944138</td>\n",
       "      <td>14.234589</td>\n",
       "      <td>4.0</td>\n",
       "    </tr>\n",
       "    <tr>\n",
       "      <th>39991</th>\n",
       "      <td>80.0</td>\n",
       "      <td>178.0</td>\n",
       "      <td>2023-04-09 14:17:31</td>\n",
       "      <td>2023-04-09 18:17:31</td>\n",
       "      <td>5.0</td>\n",
       "      <td>2165.49005</td>\n",
       "      <td>NaN</td>\n",
       "      <td>-1.646258</td>\n",
       "      <td>0.000729</td>\n",
       "      <td>382.286873</td>\n",
       "      <td>4.284198</td>\n",
       "      <td>0.955053</td>\n",
       "      <td>14.234134</td>\n",
       "      <td>4.0</td>\n",
       "    </tr>\n",
       "    <tr>\n",
       "      <th>39992</th>\n",
       "      <td>80.0</td>\n",
       "      <td>179.0</td>\n",
       "      <td>2023-04-09 14:13:34</td>\n",
       "      <td>2023-04-09 18:13:34</td>\n",
       "      <td>5.0</td>\n",
       "      <td>2165.76830</td>\n",
       "      <td>NaN</td>\n",
       "      <td>-1.636263</td>\n",
       "      <td>0.000727</td>\n",
       "      <td>381.938673</td>\n",
       "      <td>4.403053</td>\n",
       "      <td>0.966554</td>\n",
       "      <td>14.343113</td>\n",
       "      <td>4.0</td>\n",
       "    </tr>\n",
       "    <tr>\n",
       "      <th>39993</th>\n",
       "      <td>80.0</td>\n",
       "      <td>180.0</td>\n",
       "      <td>2023-04-09 14:09:37</td>\n",
       "      <td>2023-04-09 18:09:37</td>\n",
       "      <td>5.0</td>\n",
       "      <td>2165.97970</td>\n",
       "      <td>NaN</td>\n",
       "      <td>-1.630011</td>\n",
       "      <td>0.000727</td>\n",
       "      <td>381.681605</td>\n",
       "      <td>4.496707</td>\n",
       "      <td>0.974041</td>\n",
       "      <td>14.465202</td>\n",
       "      <td>4.0</td>\n",
       "    </tr>\n",
       "  </tbody>\n",
       "</table>\n",
       "<p>39994 rows × 14 columns</p>\n",
       "</div>"
      ],
      "text/plain": [
       "        lat    lon             sunrise                time  depth  \\\n",
       "0     -80.0 -180.0 2023-04-09 20:52:39 2023-04-10 00:52:39    5.0   \n",
       "1     -80.0 -179.0 2023-04-09 20:48:37 2023-04-10 00:48:37    5.0   \n",
       "2     -80.0 -178.0 2023-04-09 20:44:35 2023-04-10 00:44:35    5.0   \n",
       "3     -80.0 -177.0 2023-04-09 20:40:33 2023-04-10 00:40:33    5.0   \n",
       "4     -80.0 -176.0 2023-04-09 20:36:32 2023-04-10 00:36:32    5.0   \n",
       "...     ...    ...                 ...                 ...    ...   \n",
       "39989  80.0  176.0 2023-04-09 14:25:26 2023-04-09 18:25:26    5.0   \n",
       "39990  80.0  177.0 2023-04-09 14:21:29 2023-04-09 18:21:29    5.0   \n",
       "39991  80.0  178.0 2023-04-09 14:17:31 2023-04-09 18:17:31    5.0   \n",
       "39992  80.0  179.0 2023-04-09 14:13:34 2023-04-09 18:13:34    5.0   \n",
       "39993  80.0  180.0 2023-04-09 14:09:37 2023-04-09 18:09:37    5.0   \n",
       "\n",
       "       ALK_darwin_clim  sss_smap       sst        fe          o2       no3  \\\n",
       "0           2334.21730       NaN       NaN       NaN         NaN       NaN   \n",
       "1           2334.18530       NaN       NaN       NaN         NaN       NaN   \n",
       "2           2334.14430       NaN       NaN       NaN         NaN       NaN   \n",
       "3           2334.08970       NaN       NaN       NaN         NaN       NaN   \n",
       "4           2334.02295       NaN       NaN       NaN         NaN       NaN   \n",
       "...                ...       ...       ...       ...         ...       ...   \n",
       "39989       2164.98450       NaN -1.583754  0.000740  381.843030  4.101029   \n",
       "39990       2165.23025       NaN -1.581255  0.000735  382.153229  4.190627   \n",
       "39991       2165.49005       NaN -1.646258  0.000729  382.286873  4.284198   \n",
       "39992       2165.76830       NaN -1.636263  0.000727  381.938673  4.403053   \n",
       "39993       2165.97970       NaN -1.630011  0.000727  381.681605  4.496707   \n",
       "\n",
       "            po4         si  hours_since_sunrise  \n",
       "0           NaN        NaN                  4.0  \n",
       "1           NaN        NaN                  4.0  \n",
       "2           NaN        NaN                  4.0  \n",
       "3           NaN        NaN                  4.0  \n",
       "4           NaN        NaN                  4.0  \n",
       "...         ...        ...                  ...  \n",
       "39989  0.934664  14.185914                  4.0  \n",
       "39990  0.944138  14.234589                  4.0  \n",
       "39991  0.955053  14.234134                  4.0  \n",
       "39992  0.966554  14.343113                  4.0  \n",
       "39993  0.974041  14.465202                  4.0  \n",
       "\n",
       "[39994 rows x 14 columns]"
      ]
     },
     "execution_count": 88,
     "metadata": {},
     "output_type": "execute_result"
    }
   ],
   "source": [
    "import pandas as pd\n",
    "import ephem\n",
    "\n",
    "# Convert 'time' column to datetime format\n",
    "predictors['time'] = pd.to_datetime(predictors['time']).dt.strftime('%Y/%m/%d %H:%M:%S')\n",
    "\n",
    "# function to calculate sunrise and hours since sunrise\n",
    "def calculate_hours_since_sunrise(row):\n",
    "    \"\"\"\n",
    "    Both the dataframe and ephem need to be in the same time zone (in this case UTC).\n",
    "    UTC is standard for ephem\n",
    "    \"\"\"\n",
    "    \n",
    "    #defining the ephem observer spatial temporal values to find previous sinrise time\n",
    "    obs = ephem.Observer()\n",
    "    obs.lat = str(row['lat'])\n",
    "    obs.long = str(row['lon'])\n",
    "    obs.date = row['time']\n",
    "    \n",
    "    #determining sunrise for each lat/lon/time\n",
    "    sunrise = str(obs.previous_rising(ephem.Sun())) # \n",
    "    sunrise = pd.to_datetime(sunrise)\n",
    "    \n",
    "    #changing time column to datetime object\n",
    "    row['time'] = pd.to_datetime(row['time'])\n",
    "    \n",
    "    row['sunrise'] = sunrise\n",
    "    \n",
    "    #calcualting hours since sunrise\n",
    "    row['hours_since_sunrise'] = (row['time'] - sunrise).total_seconds() / 3600\n",
    "\n",
    "    return row\n",
    "\n",
    "# Apply the function to each row using apply\n",
    "combined = predictors.apply(calculate_hours_since_sunrise, axis=1)\n",
    "\n",
    "# Print the resulting DataFrame\n",
    "combined\n"
   ]
  },
  {
   "cell_type": "code",
   "execution_count": 89,
   "metadata": {},
   "outputs": [
    {
     "data": {
      "text/plain": [
       "lat                       0\n",
       "lon                       0\n",
       "sunrise                   0\n",
       "time                      0\n",
       "depth                     0\n",
       "ALK_darwin_clim         506\n",
       "sss_smap               5147\n",
       "sst                     187\n",
       "fe                      392\n",
       "o2                      392\n",
       "no3                     392\n",
       "po4                     392\n",
       "si                      392\n",
       "hours_since_sunrise       0\n",
       "dtype: int64"
      ]
     },
     "execution_count": 89,
     "metadata": {},
     "output_type": "execute_result"
    }
   ],
   "source": [
    "combined.isna().sum()"
   ]
  },
  {
   "cell_type": "code",
   "execution_count": null,
   "metadata": {},
   "outputs": [],
   "source": [
    "#predictors = predictors.drop(['CMAP_sss_tblSSS_NRT'], axis=1)"
   ]
  },
  {
   "cell_type": "code",
   "execution_count": 90,
   "metadata": {},
   "outputs": [],
   "source": [
    "predictors = combined.dropna()\n",
    "predictors.isna().sum()\n",
    "predictors = predictors.drop(['depth'], axis=1)\n",
    "predictors = predictors.drop(['sunrise'], axis=1)"
   ]
  },
  {
   "cell_type": "code",
   "execution_count": 91,
   "metadata": {},
   "outputs": [],
   "source": [
    "predictors.rename(columns={'ALK_darwin_clim': 'alk', 'sss_smap':'sss'}, inplace=True)"
   ]
  },
  {
   "cell_type": "markdown",
   "metadata": {},
   "source": [
    "## Making column names readable"
   ]
  },
  {
   "cell_type": "code",
   "execution_count": 92,
   "metadata": {},
   "outputs": [],
   "source": [
    "predictors.to_csv('data_ingest/data/modified/predictors_clean.csv', index=False)"
   ]
  }
 ],
 "metadata": {
  "kernelspec": {
   "display_name": "Python 3 (ipykernel)",
   "language": "python",
   "name": "python3"
  },
  "language_info": {
   "codemirror_mode": {
    "name": "ipython",
    "version": 3
   },
   "file_extension": ".py",
   "mimetype": "text/x-python",
   "name": "python",
   "nbconvert_exporter": "python",
   "pygments_lexer": "ipython3",
   "version": "3.9.18"
  }
 },
 "nbformat": 4,
 "nbformat_minor": 2
}
