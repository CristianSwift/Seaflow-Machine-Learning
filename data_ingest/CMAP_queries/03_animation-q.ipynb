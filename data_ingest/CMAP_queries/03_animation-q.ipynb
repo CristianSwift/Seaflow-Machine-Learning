{
 "cells": [
  {
   "cell_type": "code",
   "execution_count": 88,
   "metadata": {},
   "outputs": [],
   "source": [
    "import git\n",
    "import os\n",
    "\n",
    "repo = git.Repo('.', search_parent_directories=True)\n",
    "\n",
    "\n",
    "os.chdir(repo.working_tree_dir)"
   ]
  },
  {
   "cell_type": "code",
   "execution_count": 89,
   "metadata": {},
   "outputs": [],
   "source": [
    "import pandas as pd\n",
    "import numpy as np"
   ]
  },
  {
   "cell_type": "code",
   "execution_count": 90,
   "metadata": {},
   "outputs": [],
   "source": [
    "predictors = pd.read_csv('data_ingest/data/original/predictors.csv')"
   ]
  },
  {
   "cell_type": "code",
   "execution_count": 91,
   "metadata": {},
   "outputs": [],
   "source": [
    "predictors.drop(columns=['date', 'sunrise'], inplace=True)"
   ]
  },
  {
   "cell_type": "code",
   "execution_count": 92,
   "metadata": {},
   "outputs": [],
   "source": [
    "import pycmap\n",
    "api = pycmap.API(token='<8f086ef3-74b5-44a8-9e11-6135f4cacaf1>')\n",
    "predictors['time'] = pd.to_datetime(predictors['time'])\n",
    "predictors['time'] = predictors['time'].dt.strftime('%Y-%m-%d %H:%M:%S')"
   ]
  },
  {
   "cell_type": "code",
   "execution_count": 93,
   "metadata": {},
   "outputs": [],
   "source": [
    "months = ['01', '02', '03', '04', '05', '06', '07', '08', '09', '10', '11', '12']"
   ]
  },
  {
   "cell_type": "code",
   "execution_count": 94,
   "metadata": {},
   "outputs": [],
   "source": [
    "alk = pd.DataFrame()\n",
    "for i in range(1,13):\n",
    "    alk_month = api.query(\n",
    "        f'''\n",
    "        SELECT month, lat, lon, depth, ALK_darwin_clim FROM tblDarwin_Nutrient_Climatology\n",
    "        WHERE\n",
    "        lat >= -80 AND lat <= 80 AND\n",
    "        lon >= -180 AND lon <= 180 AND\n",
    "        depth > 4 AND depth < 6 AND\n",
    "        month = {i}\n",
    "        ORDER BY lat, lon\n",
    "        '''\n",
    "    )\n",
    "    alk = pd.concat([alk, alk_month])"
   ]
  },
  {
   "cell_type": "code",
   "execution_count": 95,
   "metadata": {},
   "outputs": [],
   "source": [
    "sss = pd.DataFrame() \n",
    "for i in months:\n",
    "    sss_month = api.query(\n",
    "        f'''\n",
    "        SELECT [time], lat, lon, sss_smap FROM tblSSS_NRT_cl1\n",
    "        WHERE\n",
    "        lat >= -80 AND lat <= 80 AND\n",
    "        lon >= -180 AND lon <= 180 AND\n",
    "        [time] >= '2023-{i}-09' AND [time] < '2023-{i}-12'\n",
    "        ORDER BY [time], lat, lon\n",
    "        '''\n",
    "    )\n",
    "    sss_month['month'] = i\n",
    "    sss = pd.concat([sss, sss_month])"
   ]
  },
  {
   "cell_type": "code",
   "execution_count": 96,
   "metadata": {},
   "outputs": [],
   "source": [
    "sst = pd.DataFrame()\n",
    "for i in months:\n",
    "    sst_month = api.query(\n",
    "        f'''\n",
    "        SELECT [time], lat, lon, sst FROM tblSST_AVHRR_OI_NRT\n",
    "        WHERE\n",
    "        lat >= -80 AND lat <= 80 AND\n",
    "        lon >= -180 AND lon <= 180 AND \n",
    "        [time] >= '2023-{i}-10' AND [time] < '2023-{i}-11'\n",
    "        ORDER BY [time], lat, lon\n",
    "        '''\n",
    "    )\n",
    "    sst_month['month'] = i\n",
    "    sst = pd.concat([sst, sst_month])"
   ]
  },
  {
   "cell_type": "code",
   "execution_count": 97,
   "metadata": {},
   "outputs": [],
   "source": [
    "pisces = pd.DataFrame()\n",
    "for i in months:\n",
    "    pisces_month = api.query(\n",
    "        f'''\n",
    "        SELECT [time], lat, lon, fe, o2, no3, po4, si FROM tblPisces_Forecast_cl1\n",
    "        WHERE\n",
    "        lat >= -80 AND lat <= 80 AND\n",
    "        lon >= -180 AND lon <= 180 AND\n",
    "        ROUND(lat) = lat AND\n",
    "        ROUND(lon) = lon AND\n",
    "        [time] >= '2023-{i}-10' AND [time] < '2023-{i}-11' AND\n",
    "        depth > 4 AND depth < 6\n",
    "        ORDER BY [time], lat, lon\n",
    "        '''\n",
    "    )\n",
    "    pisces_month['month'] = i\n",
    "    pisces = pd.concat([pisces, pisces_month])"
   ]
  },
  {
   "cell_type": "code",
   "execution_count": 98,
   "metadata": {},
   "outputs": [
    {
     "data": {
      "text/html": [
       "<div>\n",
       "<style scoped>\n",
       "    .dataframe tbody tr th:only-of-type {\n",
       "        vertical-align: middle;\n",
       "    }\n",
       "\n",
       "    .dataframe tbody tr th {\n",
       "        vertical-align: top;\n",
       "    }\n",
       "\n",
       "    .dataframe thead th {\n",
       "        text-align: right;\n",
       "    }\n",
       "</style>\n",
       "<table border=\"1\" class=\"dataframe\">\n",
       "  <thead>\n",
       "    <tr style=\"text-align: right;\">\n",
       "      <th></th>\n",
       "      <th>time</th>\n",
       "      <th>lat</th>\n",
       "      <th>lon</th>\n",
       "      <th>sss_smap</th>\n",
       "      <th>month</th>\n",
       "    </tr>\n",
       "  </thead>\n",
       "  <tbody>\n",
       "    <tr>\n",
       "      <th>0</th>\n",
       "      <td>2023-01-09T00:00:00</td>\n",
       "      <td>-79.875</td>\n",
       "      <td>-179.875</td>\n",
       "      <td>NaN</td>\n",
       "      <td>01</td>\n",
       "    </tr>\n",
       "    <tr>\n",
       "      <th>1</th>\n",
       "      <td>2023-01-09T00:00:00</td>\n",
       "      <td>-79.875</td>\n",
       "      <td>-179.625</td>\n",
       "      <td>NaN</td>\n",
       "      <td>01</td>\n",
       "    </tr>\n",
       "    <tr>\n",
       "      <th>2</th>\n",
       "      <td>2023-01-09T00:00:00</td>\n",
       "      <td>-79.875</td>\n",
       "      <td>-179.375</td>\n",
       "      <td>NaN</td>\n",
       "      <td>01</td>\n",
       "    </tr>\n",
       "  </tbody>\n",
       "</table>\n",
       "</div>"
      ],
      "text/plain": [
       "                  time     lat      lon  sss_smap month\n",
       "0  2023-01-09T00:00:00 -79.875 -179.875       NaN    01\n",
       "1  2023-01-09T00:00:00 -79.875 -179.625       NaN    01\n",
       "2  2023-01-09T00:00:00 -79.875 -179.375       NaN    01"
      ]
     },
     "execution_count": 98,
     "metadata": {},
     "output_type": "execute_result"
    }
   ],
   "source": [
    "sss.head(3)"
   ]
  },
  {
   "cell_type": "code",
   "execution_count": 99,
   "metadata": {},
   "outputs": [
    {
     "data": {
      "text/plain": [
       "time               0\n",
       "lat                0\n",
       "lon                0\n",
       "sss_smap    14278769\n",
       "month              0\n",
       "dtype: int64"
      ]
     },
     "execution_count": 99,
     "metadata": {},
     "output_type": "execute_result"
    }
   ],
   "source": [
    "sss.isna().sum()"
   ]
  },
  {
   "cell_type": "code",
   "execution_count": 100,
   "metadata": {},
   "outputs": [
    {
     "data": {
      "text/html": [
       "<div>\n",
       "<style scoped>\n",
       "    .dataframe tbody tr th:only-of-type {\n",
       "        vertical-align: middle;\n",
       "    }\n",
       "\n",
       "    .dataframe tbody tr th {\n",
       "        vertical-align: top;\n",
       "    }\n",
       "\n",
       "    .dataframe thead th {\n",
       "        text-align: right;\n",
       "    }\n",
       "</style>\n",
       "<table border=\"1\" class=\"dataframe\">\n",
       "  <thead>\n",
       "    <tr style=\"text-align: right;\">\n",
       "      <th></th>\n",
       "      <th>time</th>\n",
       "      <th>lat</th>\n",
       "      <th>lon</th>\n",
       "      <th>sst</th>\n",
       "      <th>month</th>\n",
       "    </tr>\n",
       "  </thead>\n",
       "  <tbody>\n",
       "    <tr>\n",
       "      <th>0</th>\n",
       "      <td>2023-01-10T00:00:00</td>\n",
       "      <td>-79.875</td>\n",
       "      <td>-179.875</td>\n",
       "      <td>NaN</td>\n",
       "      <td>01</td>\n",
       "    </tr>\n",
       "    <tr>\n",
       "      <th>1</th>\n",
       "      <td>2023-01-10T00:00:00</td>\n",
       "      <td>-79.875</td>\n",
       "      <td>-179.625</td>\n",
       "      <td>NaN</td>\n",
       "      <td>01</td>\n",
       "    </tr>\n",
       "    <tr>\n",
       "      <th>2</th>\n",
       "      <td>2023-01-10T00:00:00</td>\n",
       "      <td>-79.875</td>\n",
       "      <td>-179.375</td>\n",
       "      <td>NaN</td>\n",
       "      <td>01</td>\n",
       "    </tr>\n",
       "  </tbody>\n",
       "</table>\n",
       "</div>"
      ],
      "text/plain": [
       "                  time     lat      lon  sst month\n",
       "0  2023-01-10T00:00:00 -79.875 -179.875  NaN    01\n",
       "1  2023-01-10T00:00:00 -79.875 -179.625  NaN    01\n",
       "2  2023-01-10T00:00:00 -79.875 -179.375  NaN    01"
      ]
     },
     "execution_count": 100,
     "metadata": {},
     "output_type": "execute_result"
    }
   ],
   "source": [
    "sst.head(3)"
   ]
  },
  {
   "cell_type": "code",
   "execution_count": 101,
   "metadata": {},
   "outputs": [
    {
     "data": {
      "text/html": [
       "<div>\n",
       "<style scoped>\n",
       "    .dataframe tbody tr th:only-of-type {\n",
       "        vertical-align: middle;\n",
       "    }\n",
       "\n",
       "    .dataframe tbody tr th {\n",
       "        vertical-align: top;\n",
       "    }\n",
       "\n",
       "    .dataframe thead th {\n",
       "        text-align: right;\n",
       "    }\n",
       "</style>\n",
       "<table border=\"1\" class=\"dataframe\">\n",
       "  <thead>\n",
       "    <tr style=\"text-align: right;\">\n",
       "      <th></th>\n",
       "      <th>month</th>\n",
       "      <th>lat</th>\n",
       "      <th>lon</th>\n",
       "      <th>depth</th>\n",
       "      <th>ALK_darwin_clim</th>\n",
       "    </tr>\n",
       "  </thead>\n",
       "  <tbody>\n",
       "    <tr>\n",
       "      <th>0</th>\n",
       "      <td>1</td>\n",
       "      <td>-79.75</td>\n",
       "      <td>-179.75</td>\n",
       "      <td>5</td>\n",
       "      <td>2335.9120</td>\n",
       "    </tr>\n",
       "    <tr>\n",
       "      <th>1</th>\n",
       "      <td>1</td>\n",
       "      <td>-79.75</td>\n",
       "      <td>-179.25</td>\n",
       "      <td>5</td>\n",
       "      <td>2335.8413</td>\n",
       "    </tr>\n",
       "    <tr>\n",
       "      <th>2</th>\n",
       "      <td>1</td>\n",
       "      <td>-79.75</td>\n",
       "      <td>-178.75</td>\n",
       "      <td>5</td>\n",
       "      <td>2335.7673</td>\n",
       "    </tr>\n",
       "  </tbody>\n",
       "</table>\n",
       "</div>"
      ],
      "text/plain": [
       "   month    lat     lon  depth  ALK_darwin_clim\n",
       "0      1 -79.75 -179.75      5        2335.9120\n",
       "1      1 -79.75 -179.25      5        2335.8413\n",
       "2      1 -79.75 -178.75      5        2335.7673"
      ]
     },
     "execution_count": 101,
     "metadata": {},
     "output_type": "execute_result"
    }
   ],
   "source": [
    "alk.head(3)"
   ]
  },
  {
   "cell_type": "code",
   "execution_count": 111,
   "metadata": {},
   "outputs": [
    {
     "data": {
      "text/html": [
       "<div>\n",
       "<style scoped>\n",
       "    .dataframe tbody tr th:only-of-type {\n",
       "        vertical-align: middle;\n",
       "    }\n",
       "\n",
       "    .dataframe tbody tr th {\n",
       "        vertical-align: top;\n",
       "    }\n",
       "\n",
       "    .dataframe thead th {\n",
       "        text-align: right;\n",
       "    }\n",
       "</style>\n",
       "<table border=\"1\" class=\"dataframe\">\n",
       "  <thead>\n",
       "    <tr style=\"text-align: right;\">\n",
       "      <th></th>\n",
       "      <th>time</th>\n",
       "      <th>lat</th>\n",
       "      <th>lon</th>\n",
       "      <th>fe</th>\n",
       "      <th>o2</th>\n",
       "      <th>no3</th>\n",
       "      <th>po4</th>\n",
       "      <th>si</th>\n",
       "      <th>month</th>\n",
       "    </tr>\n",
       "  </thead>\n",
       "  <tbody>\n",
       "    <tr>\n",
       "      <th>0</th>\n",
       "      <td>2023-01-10T12:00:00</td>\n",
       "      <td>-76</td>\n",
       "      <td>-180</td>\n",
       "      <td>0.000171</td>\n",
       "      <td>373.240845</td>\n",
       "      <td>23.282454</td>\n",
       "      <td>1.687487</td>\n",
       "      <td>55.517113</td>\n",
       "      <td>1</td>\n",
       "    </tr>\n",
       "    <tr>\n",
       "      <th>1</th>\n",
       "      <td>2023-01-10T12:00:00</td>\n",
       "      <td>-76</td>\n",
       "      <td>-179</td>\n",
       "      <td>0.000190</td>\n",
       "      <td>374.358765</td>\n",
       "      <td>23.062960</td>\n",
       "      <td>1.666234</td>\n",
       "      <td>55.184734</td>\n",
       "      <td>1</td>\n",
       "    </tr>\n",
       "    <tr>\n",
       "      <th>2</th>\n",
       "      <td>2023-01-10T12:00:00</td>\n",
       "      <td>-76</td>\n",
       "      <td>-178</td>\n",
       "      <td>0.000182</td>\n",
       "      <td>374.747345</td>\n",
       "      <td>23.098080</td>\n",
       "      <td>1.672519</td>\n",
       "      <td>55.377731</td>\n",
       "      <td>1</td>\n",
       "    </tr>\n",
       "  </tbody>\n",
       "</table>\n",
       "</div>"
      ],
      "text/plain": [
       "                  time  lat  lon        fe          o2        no3       po4  \\\n",
       "0  2023-01-10T12:00:00  -76 -180  0.000171  373.240845  23.282454  1.687487   \n",
       "1  2023-01-10T12:00:00  -76 -179  0.000190  374.358765  23.062960  1.666234   \n",
       "2  2023-01-10T12:00:00  -76 -178  0.000182  374.747345  23.098080  1.672519   \n",
       "\n",
       "          si  month  \n",
       "0  55.517113      1  \n",
       "1  55.184734      1  \n",
       "2  55.377731      1  "
      ]
     },
     "execution_count": 111,
     "metadata": {},
     "output_type": "execute_result"
    }
   ],
   "source": [
    "pisces.head(3)"
   ]
  },
  {
   "cell_type": "code",
   "execution_count": 103,
   "metadata": {},
   "outputs": [],
   "source": [
    "dfs = [alk, sss, sst, pisces]"
   ]
  },
  {
   "cell_type": "code",
   "execution_count": 107,
   "metadata": {},
   "outputs": [],
   "source": [
    "for df in dfs:\n",
    "    df.dropna(inplace=True)"
   ]
  },
  {
   "cell_type": "code",
   "execution_count": 110,
   "metadata": {},
   "outputs": [],
   "source": [
    "for df in dfs:\n",
    "    df.reset_index(drop=True, inplace=True)"
   ]
  },
  {
   "cell_type": "code",
   "execution_count": 105,
   "metadata": {},
   "outputs": [],
   "source": [
    "for df in dfs:\n",
    "    df['month'] = df['month'].astype(int)"
   ]
  },
  {
   "cell_type": "code",
   "execution_count": 108,
   "metadata": {},
   "outputs": [
    {
     "name": "stdout",
     "output_type": "stream",
     "text": [
      "(1940100, 5)\n",
      "(18898831, 5)\n",
      "(7642020, 5)\n",
      "(472704, 9)\n"
     ]
    }
   ],
   "source": [
    "for df in dfs:\n",
    "    print(df.shape)"
   ]
  },
  {
   "cell_type": "code",
   "execution_count": 112,
   "metadata": {},
   "outputs": [],
   "source": [
    "alk1 = alk.copy()\n",
    "sss1 = sss.copy()\n",
    "sst1 = sst.copy()\n",
    "pisces1 = pisces.copy()"
   ]
  },
  {
   "cell_type": "code",
   "execution_count": 115,
   "metadata": {},
   "outputs": [],
   "source": [
    "def lat_rounder(df):\n",
    "    if 'time' in df.columns:\n",
    "        df.drop(columns=['time'], inplace=True)\n",
    "    df = df.reset_index()\n",
    "    df['lat_rounded'] = df['lat'].round()\n",
    "    df['lon_rounded'] = df['lon'].round()\n",
    "\n",
    "    \n",
    "    df1 = df.groupby(['month', 'lat_rounded', 'lon_rounded']).mean().reset_index()\n",
    "\n",
    "    \n",
    "    return df1"
   ]
  },
  {
   "cell_type": "code",
   "execution_count": 116,
   "metadata": {},
   "outputs": [],
   "source": [
    "alk2 = lat_rounder(alk1)\n",
    "sss2 = lat_rounder(sss1)\n",
    "sst2 = lat_rounder(sst1)\n",
    "pisces2 = lat_rounder(pisces1)"
   ]
  },
  {
   "cell_type": "code",
   "execution_count": 130,
   "metadata": {},
   "outputs": [
    {
     "data": {
      "text/html": [
       "<div>\n",
       "<style scoped>\n",
       "    .dataframe tbody tr th:only-of-type {\n",
       "        vertical-align: middle;\n",
       "    }\n",
       "\n",
       "    .dataframe tbody tr th {\n",
       "        vertical-align: top;\n",
       "    }\n",
       "\n",
       "    .dataframe thead th {\n",
       "        text-align: right;\n",
       "    }\n",
       "</style>\n",
       "<table border=\"1\" class=\"dataframe\">\n",
       "  <thead>\n",
       "    <tr style=\"text-align: right;\">\n",
       "      <th></th>\n",
       "      <th>month</th>\n",
       "      <th>lat</th>\n",
       "      <th>lon</th>\n",
       "      <th>depth</th>\n",
       "      <th>ALK_darwin_clim</th>\n",
       "    </tr>\n",
       "  </thead>\n",
       "  <tbody>\n",
       "    <tr>\n",
       "      <th>0</th>\n",
       "      <td>1</td>\n",
       "      <td>-80.0</td>\n",
       "      <td>-180.0</td>\n",
       "      <td>5.0</td>\n",
       "      <td>2335.91200</td>\n",
       "    </tr>\n",
       "    <tr>\n",
       "      <th>1</th>\n",
       "      <td>1</td>\n",
       "      <td>-80.0</td>\n",
       "      <td>-179.0</td>\n",
       "      <td>5.0</td>\n",
       "      <td>2335.80430</td>\n",
       "    </tr>\n",
       "    <tr>\n",
       "      <th>2</th>\n",
       "      <td>1</td>\n",
       "      <td>-80.0</td>\n",
       "      <td>-178.0</td>\n",
       "      <td>5.0</td>\n",
       "      <td>2335.64715</td>\n",
       "    </tr>\n",
       "  </tbody>\n",
       "</table>\n",
       "</div>"
      ],
      "text/plain": [
       "   month   lat    lon  depth  ALK_darwin_clim\n",
       "0      1 -80.0 -180.0    5.0       2335.91200\n",
       "1      1 -80.0 -179.0    5.0       2335.80430\n",
       "2      1 -80.0 -178.0    5.0       2335.64715"
      ]
     },
     "execution_count": 130,
     "metadata": {},
     "output_type": "execute_result"
    }
   ],
   "source": [
    "alk2.head(3)"
   ]
  },
  {
   "cell_type": "code",
   "execution_count": 118,
   "metadata": {},
   "outputs": [],
   "source": [
    "new_dfs = [alk2, sss2, sst2, pisces2]"
   ]
  },
  {
   "cell_type": "code",
   "execution_count": 124,
   "metadata": {},
   "outputs": [
    {
     "name": "stdout",
     "output_type": "stream",
     "text": [
      "(495792, 6)\n",
      "(417350, 5)\n",
      "(502908, 5)\n",
      "(472704, 9)\n"
     ]
    }
   ],
   "source": [
    "for df in new_dfs:\n",
    "    df.drop(columns=['lat', 'lon'], inplace=True)\n",
    "    df.drop(columns=['index'], inplace=True)\n",
    "    df.rename(columns={'lat_rounded': 'lat', 'lon_rounded': 'lon'}, inplace=True)\n",
    "    print(df.shape)\n"
   ]
  },
  {
   "cell_type": "code",
   "execution_count": 131,
   "metadata": {},
   "outputs": [],
   "source": [
    "def merge_dfs(predictors, dfs):\n",
    "    i = 0\n",
    "    for df in dfs:\n",
    "        predictors = pd.merge(predictors, df, on=['month','lat', 'lon'], how='left')\n",
    "        i += 1\n",
    "        print('merged', {i})\n",
    "    return predictors"
   ]
  },
  {
   "cell_type": "code",
   "execution_count": 132,
   "metadata": {},
   "outputs": [
    {
     "name": "stdout",
     "output_type": "stream",
     "text": [
      "4\n",
      "3\n"
     ]
    }
   ],
   "source": [
    "print(len(new_dfs))\n",
    "print(len(new_dfs[1:]))"
   ]
  },
  {
   "cell_type": "code",
   "execution_count": 133,
   "metadata": {},
   "outputs": [
    {
     "name": "stdout",
     "output_type": "stream",
     "text": [
      "merged {1}\n",
      "merged {2}\n",
      "merged {3}\n"
     ]
    }
   ],
   "source": [
    "yearly_cmap = merge_dfs(alk2, new_dfs[1:])"
   ]
  },
  {
   "cell_type": "code",
   "execution_count": 137,
   "metadata": {},
   "outputs": [],
   "source": [
    "yearly_cmap.dropna(inplace=True)"
   ]
  },
  {
   "cell_type": "code",
   "execution_count": 138,
   "metadata": {},
   "outputs": [
    {
     "data": {
      "text/plain": [
       "411179"
      ]
     },
     "execution_count": 138,
     "metadata": {},
     "output_type": "execute_result"
    }
   ],
   "source": [
    "len(yearly_cmap)"
   ]
  },
  {
   "cell_type": "code",
   "execution_count": 144,
   "metadata": {},
   "outputs": [
    {
     "data": {
      "text/html": [
       "<div>\n",
       "<style scoped>\n",
       "    .dataframe tbody tr th:only-of-type {\n",
       "        vertical-align: middle;\n",
       "    }\n",
       "\n",
       "    .dataframe tbody tr th {\n",
       "        vertical-align: top;\n",
       "    }\n",
       "\n",
       "    .dataframe thead th {\n",
       "        text-align: right;\n",
       "    }\n",
       "</style>\n",
       "<table border=\"1\" class=\"dataframe\">\n",
       "  <thead>\n",
       "    <tr style=\"text-align: right;\">\n",
       "      <th></th>\n",
       "      <th>month</th>\n",
       "      <th>lat</th>\n",
       "      <th>lon</th>\n",
       "      <th>alk</th>\n",
       "      <th>sss</th>\n",
       "      <th>sst</th>\n",
       "      <th>fe</th>\n",
       "      <th>o2</th>\n",
       "      <th>no3</th>\n",
       "      <th>po4</th>\n",
       "      <th>si</th>\n",
       "      <th>hours_since_sunrise</th>\n",
       "    </tr>\n",
       "  </thead>\n",
       "  <tbody>\n",
       "    <tr>\n",
       "      <th>185</th>\n",
       "      <td>1</td>\n",
       "      <td>-76.0</td>\n",
       "      <td>-180.0</td>\n",
       "      <td>2335.931050</td>\n",
       "      <td>34.366368</td>\n",
       "      <td>-0.316256</td>\n",
       "      <td>0.000171</td>\n",
       "      <td>373.240845</td>\n",
       "      <td>23.282454</td>\n",
       "      <td>1.687487</td>\n",
       "      <td>55.517113</td>\n",
       "      <td>4</td>\n",
       "    </tr>\n",
       "    <tr>\n",
       "      <th>186</th>\n",
       "      <td>1</td>\n",
       "      <td>-76.0</td>\n",
       "      <td>-179.0</td>\n",
       "      <td>2335.771725</td>\n",
       "      <td>34.474505</td>\n",
       "      <td>-0.314383</td>\n",
       "      <td>0.000190</td>\n",
       "      <td>374.358765</td>\n",
       "      <td>23.062960</td>\n",
       "      <td>1.666234</td>\n",
       "      <td>55.184734</td>\n",
       "      <td>4</td>\n",
       "    </tr>\n",
       "    <tr>\n",
       "      <th>187</th>\n",
       "      <td>1</td>\n",
       "      <td>-76.0</td>\n",
       "      <td>-178.0</td>\n",
       "      <td>2335.594925</td>\n",
       "      <td>34.318974</td>\n",
       "      <td>-0.386252</td>\n",
       "      <td>0.000182</td>\n",
       "      <td>374.747345</td>\n",
       "      <td>23.098080</td>\n",
       "      <td>1.672519</td>\n",
       "      <td>55.377731</td>\n",
       "      <td>4</td>\n",
       "    </tr>\n",
       "  </tbody>\n",
       "</table>\n",
       "</div>"
      ],
      "text/plain": [
       "     month   lat    lon          alk        sss       sst        fe  \\\n",
       "185      1 -76.0 -180.0  2335.931050  34.366368 -0.316256  0.000171   \n",
       "186      1 -76.0 -179.0  2335.771725  34.474505 -0.314383  0.000190   \n",
       "187      1 -76.0 -178.0  2335.594925  34.318974 -0.386252  0.000182   \n",
       "\n",
       "             o2        no3       po4         si  hours_since_sunrise  \n",
       "185  373.240845  23.282454  1.687487  55.517113                    4  \n",
       "186  374.358765  23.062960  1.666234  55.184734                    4  \n",
       "187  374.747345  23.098080  1.672519  55.377731                    4  "
      ]
     },
     "execution_count": 144,
     "metadata": {},
     "output_type": "execute_result"
    }
   ],
   "source": [
    "yearly_cmap.head(3)"
   ]
  },
  {
   "cell_type": "code",
   "execution_count": 141,
   "metadata": {},
   "outputs": [],
   "source": [
    "yearly_cmap.rename(columns={'ALK_darwin_clim': 'alk', 'sss_smap': 'sss'}, inplace=True)"
   ]
  },
  {
   "cell_type": "code",
   "execution_count": 142,
   "metadata": {},
   "outputs": [],
   "source": [
    "yearly_cmap.drop(columns=['depth'], inplace=True)"
   ]
  },
  {
   "cell_type": "code",
   "execution_count": 143,
   "metadata": {},
   "outputs": [],
   "source": [
    "yearly_cmap['hours_since_sunrise'] = 4"
   ]
  },
  {
   "cell_type": "code",
   "execution_count": 146,
   "metadata": {},
   "outputs": [
    {
     "name": "stdout",
     "output_type": "stream",
     "text": [
      "Collecting pyarrow\n",
      "  Downloading pyarrow-15.0.0-cp39-cp39-macosx_10_15_x86_64.whl.metadata (3.0 kB)\n",
      "Requirement already satisfied: numpy<2,>=1.16.6 in /Users/bakervanb/anaconda3/envs/machine-learning-env/lib/python3.9/site-packages (from pyarrow) (1.26.0)\n",
      "Downloading pyarrow-15.0.0-cp39-cp39-macosx_10_15_x86_64.whl (27.1 MB)\n",
      "\u001b[2K   \u001b[90m━━━━━━━━━━━━━━━━━━━━━━━━━━━━━━━━━━━━━━━━\u001b[0m \u001b[32m27.1/27.1 MB\u001b[0m \u001b[31m8.7 MB/s\u001b[0m eta \u001b[36m0:00:00\u001b[0m00:01\u001b[0m00:01\u001b[0m\n",
      "\u001b[?25hInstalling collected packages: pyarrow\n",
      "Successfully installed pyarrow-15.0.0\n"
     ]
    }
   ],
   "source": [
    "\n",
    "import pyarrow as pa\n",
    "import pyarrow.parquet as pq"
   ]
  },
  {
   "cell_type": "code",
   "execution_count": 147,
   "metadata": {},
   "outputs": [],
   "source": [
    "yearly = pa.Table.from_pandas(yearly_cmap)\n",
    "pq.write_table(yearly, 'data_ingest/data/original/yearly_cmap.parquet')"
   ]
  }
 ],
 "metadata": {
  "kernelspec": {
   "display_name": "machine-learning-env",
   "language": "python",
   "name": "python3"
  },
  "language_info": {
   "codemirror_mode": {
    "name": "ipython",
    "version": 3
   },
   "file_extension": ".py",
   "mimetype": "text/x-python",
   "name": "python",
   "nbconvert_exporter": "python",
   "pygments_lexer": "ipython3",
   "version": "3.9.18"
  }
 },
 "nbformat": 4,
 "nbformat_minor": 2
}
