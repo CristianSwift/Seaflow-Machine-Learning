{
 "cells": [
  {
   "cell_type": "code",
   "execution_count": null,
   "metadata": {},
   "outputs": [],
   "source": [
    "import git\n",
    "import os\n",
    "import pandas as pd \n",
    "import pyarrow.parquet as pq\n",
    "\n",
    "repo = git.Repo('.', search_parent_directories=True)\n",
    "\n",
    "\n",
    "os.chdir(repo.working_tree_dir)\n",
    "%run 'predictions/prediction_prep.ipynb'"
   ]
  },
  {
   "cell_type": "code",
   "execution_count": null,
   "metadata": {},
   "outputs": [],
   "source": [
    "yearly_cmap = pq.read_pandas('data_ingest/data/original/yearly_cmap.parquet').to_pandas()"
   ]
  },
  {
   "cell_type": "code",
   "execution_count": null,
   "metadata": {},
   "outputs": [],
   "source": [
    "yearly_preds = process_yearly(yearly_cmap)"
   ]
  },
  {
   "cell_type": "code",
   "execution_count": null,
   "metadata": {},
   "outputs": [],
   "source": [
    "import plotly.express as px\n",
    "fig = px.scatter_geo(yearly_preds, lat='lat', lon='lon', hover_name='biomass', color='biomass', animation_frame='month')\n",
    "fig.update_traces(marker=dict(size=3.5))\n",
    "fig.update_layout(\n",
    "    autosize=False,\n",
    "    width=1200,\n",
    "    height=650,\n",
    "    updatemenus=[dict(\n",
    "        type=\"buttons\",\n",
    "        showactive=True,\n",
    "        buttons=[dict(label=\"Play\",\n",
    "                      method=\"animate\",\n",
    "                      args=[None, {\"frame\": {\"duration\": 300, \"redraw\": True},\n",
    "                                   \"fromcurrent\": True, \"transition\": {\"duration\": 100}}]),\n",
    "                dict(label=\"Pause\",\n",
    "                     method=\"animate\",\n",
    "                     args=[[None], {\"frame\": {\"duration\": 0, \"redraw\": False},\n",
    "                                    \"mode\": \"immediate\",\n",
    "                                    \"transition\": {\"duration\": 0}}])])])\n",
    "fig.show()"
   ]
  },
  {
   "cell_type": "code",
   "execution_count": null,
   "metadata": {},
   "outputs": [],
   "source": [
    "import plotly.express as px\n",
    "fig = px.scatter_geo(yearly_preds, lat='lat', lon='lon', hover_name='std', color='std', animation_frame='month')\n",
    "fig.update_traces(marker=dict(size=3.5))\n",
    "fig.update_layout(\n",
    "    autosize=False,\n",
    "    width=1200,\n",
    "    height=650,\n",
    "    updatemenus=[dict(\n",
    "        type=\"buttons\",\n",
    "        showactive=False,\n",
    "        buttons=[dict(label=\"Play\",\n",
    "                      method=\"animate\",\n",
    "                      args=[None, {\"frame\": {\"duration\": 300, \"redraw\": True},\n",
    "                                   \"fromcurrent\": True, \"transition\": {\"duration\": 100}}]),\n",
    "                dict(label=\"Pause\",\n",
    "                     method=\"animate\",\n",
    "                     args=[[None], {\"frame\": {\"duration\": 0, \"redraw\": False},\n",
    "                                    \"mode\": \"immediate\",\n",
    "                                    \"transition\": {\"duration\": 0}}])])])\n",
    "\n",
    "fig.show()"
   ]
  }
 ],
 "metadata": {
  "kernelspec": {
   "display_name": "Python 3 (ipykernel)",
   "language": "python",
   "name": "python3"
  },
  "language_info": {
   "codemirror_mode": {
    "name": "ipython",
    "version": 3
   },
   "file_extension": ".py",
   "mimetype": "text/x-python",
   "name": "python",
   "nbconvert_exporter": "python",
   "pygments_lexer": "ipython3",
   "version": "3.9.0"
  }
 },
 "nbformat": 4,
 "nbformat_minor": 2
}
